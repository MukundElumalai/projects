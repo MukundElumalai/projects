{
  "nbformat": 4,
  "nbformat_minor": 0,
  "metadata": {
    "colab": {
      "name": "SUL.ipynb",
      "provenance": [],
      "collapsed_sections": [
        "3ehOJotNSkxk",
        "m19wwOrkGnue",
        "eepgeGRRIzLf",
        "_OLTODfyR2sJ",
        "zSaxzOtTTGTt",
        "nIJuzt6ZUrNX",
        "5mYyMI02WNsp",
        "oo5vEJXyXq3m",
        "jy8Zfa7RTXtU",
        "10O6guIQQng8",
        "gxJs5Q2ddKxX",
        "LTI5w6h0gKvR",
        "UtM5015vlhdw",
        "Nb2JmAevq01i",
        "jyc3CT7GBehr",
        "4qTCkTMTfLP_",
        "jdZDR9aVMrco",
        "NzNyL3MISbC9"
      ],
      "toc_visible": true
    },
    "kernelspec": {
      "name": "python3",
      "display_name": "Python 3"
    }
  },
  "cells": [
    {
      "cell_type": "markdown",
      "metadata": {
        "id": "3ehOJotNSkxk",
        "colab_type": "text"
      },
      "source": [
        "# Perceptron"
      ]
    },
    {
      "cell_type": "markdown",
      "metadata": {
        "id": "_xUKNbfuHxdK",
        "colab_type": "text"
      },
      "source": [
        "## Activation Functions"
      ]
    },
    {
      "cell_type": "code",
      "metadata": {
        "id": "Nw6ffgik_ghG",
        "colab_type": "code",
        "colab": {}
      },
      "source": [
        "import matplotlib.pyplot as plt\n",
        "import numpy as np\n",
        "import pandas as pd"
      ],
      "execution_count": 0,
      "outputs": []
    },
    {
      "cell_type": "code",
      "metadata": {
        "id": "MQ7oxyG3_7-y",
        "colab_type": "code",
        "colab": {}
      },
      "source": [
        "X = np.arange(-10., 10., 0.2)"
      ],
      "execution_count": 0,
      "outputs": []
    },
    {
      "cell_type": "markdown",
      "metadata": {
        "id": "m19wwOrkGnue",
        "colab_type": "text"
      },
      "source": [
        "## Threshold Function"
      ]
    },
    {
      "cell_type": "code",
      "metadata": {
        "id": "TueUH81cG1sq",
        "colab_type": "code",
        "colab": {}
      },
      "source": [
        "def threshold(X):\n",
        "  y=[]\n",
        "  for i in X:\n",
        "    if i>1.5:\n",
        "      y.append(1)\n",
        "    else:\n",
        "      y.append(0)\n",
        "  return y"
      ],
      "execution_count": 0,
      "outputs": []
    },
    {
      "cell_type": "code",
      "metadata": {
        "id": "YS9r0w9iHSzC",
        "colab_type": "code",
        "colab": {}
      },
      "source": [
        "thres_X=threshold(X)"
      ],
      "execution_count": 0,
      "outputs": []
    },
    {
      "cell_type": "code",
      "metadata": {
        "id": "ZUf87DryHiTw",
        "colab_type": "code",
        "outputId": "a19d902b-5abc-4433-a87a-1b416ffd4850",
        "colab": {
          "base_uri": "https://localhost:8080/",
          "height": 286
        }
      },
      "source": [
        "plt.plot(X,thres_X)"
      ],
      "execution_count": 0,
      "outputs": [
        {
          "output_type": "execute_result",
          "data": {
            "text/plain": [
              "[<matplotlib.lines.Line2D at 0x7f0819896358>]"
            ]
          },
          "metadata": {
            "tags": []
          },
          "execution_count": 15
        },
        {
          "output_type": "display_data",
          "data": {
            "image/png": "[encoded data removed]",
            "text/plain": [
              "<Figure size 432x288 with 1 Axes>"
            ]
          },
          "metadata": {
            "tags": []
          }
        }
      ]
    },
    {
      "cell_type": "markdown",
      "metadata": {
        "id": "Z6Uuy5fqEtU5",
        "colab_type": "text"
      },
      "source": [
        "### Sigmoid Function"
      ]
    },
    {
      "cell_type": "code",
      "metadata": {
        "id": "MwGs3sE9ATxV",
        "colab_type": "code",
        "colab": {}
      },
      "source": [
        "def sigmoid(X):\n",
        "  y = (1/(1+np.exp(-X)))\n",
        "  return y"
      ],
      "execution_count": 0,
      "outputs": []
    },
    {
      "cell_type": "code",
      "metadata": {
        "id": "GQLhSyLoA42k",
        "colab_type": "code",
        "colab": {}
      },
      "source": [
        "x_sig = sigmoid(X)"
      ],
      "execution_count": 0,
      "outputs": []
    },
    {
      "cell_type": "code",
      "metadata": {
        "id": "AJKV1VvKA_oM",
        "colab_type": "code",
        "outputId": "01b6e4bc-4153-4935-84e3-9d7ed3152818",
        "colab": {
          "base_uri": "https://localhost:8080/",
          "height": 286
        }
      },
      "source": [
        "plt.plot(X,x_sig)"
      ],
      "execution_count": 0,
      "outputs": [
        {
          "output_type": "execute_result",
          "data": {
            "text/plain": [
              "[<matplotlib.lines.Line2D at 0x7f08170296d8>]"
            ]
          },
          "metadata": {
            "tags": []
          },
          "execution_count": 18
        },
        {
          "output_type": "display_data",
          "data": {
            "image/png": "[encoded data removed]",
            "text/plain": [
              "<Figure size 432x288 with 1 Axes>"
            ]
          },
          "metadata": {
            "tags": []
          }
        }
      ]
    },
    {
      "cell_type": "markdown",
      "metadata": {
        "id": "8o5Vo3aJEyY_",
        "colab_type": "text"
      },
      "source": [
        "### TanH Function"
      ]
    },
    {
      "cell_type": "code",
      "metadata": {
        "id": "wijaxaRJE1qU",
        "colab_type": "code",
        "colab": {}
      },
      "source": [
        "def tanh(X):\n",
        "  y = ((np.exp(X)-np.exp(-X))/(np.exp(X)+np.exp(-X)))\n",
        "  return y"
      ],
      "execution_count": 0,
      "outputs": []
    },
    {
      "cell_type": "code",
      "metadata": {
        "id": "qikiSL3NFZjY",
        "colab_type": "code",
        "colab": {}
      },
      "source": [
        "tan_X = tanh(X)"
      ],
      "execution_count": 0,
      "outputs": []
    },
    {
      "cell_type": "code",
      "metadata": {
        "id": "qzr8_6iJFc-T",
        "colab_type": "code",
        "outputId": "0113277f-8250-4996-c1b6-0fc3a59e0e69",
        "colab": {
          "base_uri": "https://localhost:8080/",
          "height": 286
        }
      },
      "source": [
        "plt.plot(X,tan_X)"
      ],
      "execution_count": 0,
      "outputs": [
        {
          "output_type": "execute_result",
          "data": {
            "text/plain": [
              "[<matplotlib.lines.Line2D at 0x7f0816f936d8>]"
            ]
          },
          "metadata": {
            "tags": []
          },
          "execution_count": 21
        },
        {
          "output_type": "display_data",
          "data": {
            "image/png": "[encoded data removed]",
            "text/plain": [
              "<Figure size 432x288 with 1 Axes>"
            ]
          },
          "metadata": {
            "tags": []
          }
        }
      ]
    },
    {
      "cell_type": "markdown",
      "metadata": {
        "id": "t0YnwpAtFq3m",
        "colab_type": "text"
      },
      "source": [
        "### ReLU Function"
      ]
    },
    {
      "cell_type": "code",
      "metadata": {
        "id": "4-lqBypCFxxy",
        "colab_type": "code",
        "colab": {}
      },
      "source": [
        "def relu(X):\n",
        "  y=np.maximum(0,X)\n",
        "  return y"
      ],
      "execution_count": 0,
      "outputs": []
    },
    {
      "cell_type": "code",
      "metadata": {
        "id": "-ubw9KP3F4za",
        "colab_type": "code",
        "colab": {}
      },
      "source": [
        "rel_X = relu(X)"
      ],
      "execution_count": 0,
      "outputs": []
    },
    {
      "cell_type": "code",
      "metadata": {
        "id": "irNyyeiDF9Ph",
        "colab_type": "code",
        "outputId": "6b31097f-53bb-46ac-c8f4-b4c35c1130b5",
        "colab": {
          "base_uri": "https://localhost:8080/",
          "height": 286
        }
      },
      "source": [
        "plt.plot(X,rel_X)"
      ],
      "execution_count": 0,
      "outputs": [
        {
          "output_type": "execute_result",
          "data": {
            "text/plain": [
              "[<matplotlib.lines.Line2D at 0x7f0816eff1d0>]"
            ]
          },
          "metadata": {
            "tags": []
          },
          "execution_count": 24
        },
        {
          "output_type": "display_data",
          "data": {
            "image/png": "[encoded data removed]",
            "text/plain": [
              "<Figure size 432x288 with 1 Axes>"
            ]
          },
          "metadata": {
            "tags": []
          }
        }
      ]
    },
    {
      "cell_type": "markdown",
      "metadata": {
        "id": "MN-OnJefH3_O",
        "colab_type": "text"
      },
      "source": [
        "### Leaky ReLU"
      ]
    },
    {
      "cell_type": "code",
      "metadata": {
        "id": "RAGZh4_FIIMl",
        "colab_type": "code",
        "colab": {}
      },
      "source": [
        "def Lrelu(X):\n",
        "  y=np.maximum(0.1*X,X)\n",
        "  return y"
      ],
      "execution_count": 0,
      "outputs": []
    },
    {
      "cell_type": "code",
      "metadata": {
        "id": "3p2J2tmXIMZ1",
        "colab_type": "code",
        "colab": {}
      },
      "source": [
        "lrel_x = Lrelu(X)"
      ],
      "execution_count": 0,
      "outputs": []
    },
    {
      "cell_type": "code",
      "metadata": {
        "id": "E2h9wVo_IPol",
        "colab_type": "code",
        "outputId": "4df75962-8c22-4f8e-b5c0-49a8caad5724",
        "colab": {
          "base_uri": "https://localhost:8080/",
          "height": 286
        }
      },
      "source": [
        "plt.plot(X,lrel_x)"
      ],
      "execution_count": 0,
      "outputs": [
        {
          "output_type": "execute_result",
          "data": {
            "text/plain": [
              "[<matplotlib.lines.Line2D at 0x7f0816edcd30>]"
            ]
          },
          "metadata": {
            "tags": []
          },
          "execution_count": 27
        },
        {
          "output_type": "display_data",
          "data": {
            "image/png": "[encoded data removed]",
            "text/plain": [
              "<Figure size 432x288 with 1 Axes>"
            ]
          },
          "metadata": {
            "tags": []
          }
        }
      ]
    },
    {
      "cell_type": "markdown",
      "metadata": {
        "id": "OlXdytWjIjfO",
        "colab_type": "text"
      },
      "source": [
        "## Convexity Analysis"
      ]
    },
    {
      "cell_type": "markdown",
      "metadata": {
        "id": "eepgeGRRIzLf",
        "colab_type": "text"
      },
      "source": [
        "### Sum of Squares Error\n"
      ]
    },
    {
      "cell_type": "code",
      "metadata": {
        "id": "TYpUH-QNRpCl",
        "colab_type": "code",
        "colab": {}
      },
      "source": [
        "def diff(Y,hyp):\n",
        "  val=0\n",
        "  for j in range(len(Y)):\n",
        "    val=val+((hyp[j]-Y[j])**2)\n",
        "  return val"
      ],
      "execution_count": 0,
      "outputs": []
    },
    {
      "cell_type": "code",
      "metadata": {
        "id": "wJW08rfNRfoQ",
        "colab_type": "code",
        "outputId": "abc9e55e-c6e6-4af1-d834-dae3de7c8319",
        "colab": {
          "base_uri": "https://localhost:8080/",
          "height": 521
        }
      },
      "source": [
        "x=np.arange(1,11)\n",
        "yout=[]\n",
        "y=[]\n",
        "sse=[]\n",
        "mse=[]\n",
        "for i in x:\n",
        "  yout.append(i*2)\n",
        "a=np.linspace(-10,10,num=20)\n",
        "for i in a:\n",
        "  for j in x:\n",
        "    y.append(j*i)\n",
        "  sse.append(diff(y,yout))\n",
        "  mse.append(diff(y,yout)/20)\n",
        "  y.clear()\n",
        "plt.plot(a,sse)\n",
        "plt.show()\n",
        "plt.plot(a,mse)\n",
        "plt.show()"
      ],
      "execution_count": 0,
      "outputs": [
        {
          "output_type": "display_data",
          "data": {
            "image/png": "[encoded data removed]",
            "text/plain": [
              "<Figure size 432x288 with 1 Axes>"
            ]
          },
          "metadata": {
            "tags": []
          }
        },
        {
          "output_type": "display_data",
          "data": {
            "image/png": "[encoded data removed]",
            "text/plain": [
              "<Figure size 432x288 with 1 Axes>"
            ]
          },
          "metadata": {
            "tags": []
          }
        }
      ]
    },
    {
      "cell_type": "code",
      "metadata": {
        "id": "h43elLWiW5-_",
        "colab_type": "code",
        "colab": {}
      },
      "source": [
        "def CrossEntropy(yHat, y):\n",
        "  if y == 1:\n",
        "    return -np.log(yHat)\n",
        "  else:\n",
        "    return -np.log(1 - yHat)"
      ],
      "execution_count": 0,
      "outputs": []
    },
    {
      "cell_type": "code",
      "metadata": {
        "id": "MK9vubC6U5Wv",
        "colab_type": "code",
        "outputId": "c1dc3c9a-05da-4d36-d7ba-7d476b02d5ce",
        "colab": {
          "base_uri": "https://localhost:8080/",
          "height": 269
        }
      },
      "source": [
        "loss=[]\n",
        "yhat=np.linspace(0.01,1,num=20)\n",
        "for i in yhat:\n",
        "  loss.append(CrossEntropy(i,1))\n",
        "plt.plot(yhat,loss)\n",
        "plt.show()"
      ],
      "execution_count": 0,
      "outputs": [
        {
          "output_type": "display_data",
          "data": {
            "image/png": "[encoded data removed]",
            "text/plain": [
              "<Figure size 432x288 with 1 Axes>"
            ]
          },
          "metadata": {
            "tags": []
          }
        }
      ]
    },
    {
      "cell_type": "markdown",
      "metadata": {
        "id": "R86sz7walG_d",
        "colab_type": "text"
      },
      "source": [
        "## Perceptron"
      ]
    },
    {
      "cell_type": "code",
      "metadata": {
        "id": "sg1n0RyLiNop",
        "colab_type": "code",
        "outputId": "bc0bcd1e-b476-4e4b-a5e2-17f13e12f2aa",
        "colab": {
          "base_uri": "https://localhost:8080/",
          "height": 34
        }
      },
      "source": [
        "import itertools\n",
        "#x = list(itertools.product([0,1],repeat=2))\n",
        "#y=[0,0,0,1]\n",
        "x=[[0.958,0.003],[1.043,0.001],[1.907,0.003],[0.78,0.002],[0.579,0.001],[0.003,0.105],[0.001,1.748],[0.014,1.839],[0.007,1.021],[0.004,0.214]]\n",
        "y=[1,1,1,1,1,0,0,0,0,0]\n",
        "w=[0.5,0.5,0.5]\n",
        "threshold=0.5\n",
        "eta=0.2\n",
        "\n",
        "print(perceptron(x,y,w,eta,threshold))"
      ],
      "execution_count": 0,
      "outputs": [
        {
          "output_type": "stream",
          "text": [
            "[0.3, 0.7708, -0.21960000000000005]\n"
          ],
          "name": "stdout"
        }
      ]
    },
    {
      "cell_type": "code",
      "metadata": {
        "id": "WLc5sycFOG-c",
        "colab_type": "code",
        "colab": {}
      },
      "source": [
        "#perceptron for two columns\n",
        "def perceptron(x,y,w,eta,threshold):\n",
        "  prev=list()\n",
        "  while prev!=w:\n",
        "    prev=w.copy()\n",
        "    for i in range(len(y)):\n",
        "      sum=w[0]+x[i][0]*w[1]+x[i][1]*w[2]\n",
        "      if sum<threshold:\n",
        "        sum=0\n",
        "      else:\n",
        "        sum=1\n",
        "        \n",
        "      if sum!=y[i]:\n",
        "        while sum!=y[i]:\n",
        "          w[0]=w[0]+eta*(y[i]-sum)\n",
        "          w[1]=w[1]+eta*(y[i]-sum)*x[i][0]\n",
        "          w[2]=w[2]+eta*(y[i]-sum)*x[i][1]\n",
        "          sum=w[0]+x[i][0]*w[1]+x[i][1]*w[2]\n",
        "          if sum<threshold:\n",
        "            sum=0\n",
        "          else:\n",
        "            sum=1\n",
        "  return w  \n",
        "        "
      ],
      "execution_count": 0,
      "outputs": []
    },
    {
      "cell_type": "code",
      "metadata": {
        "id": "96dzsKTrYbUd",
        "colab_type": "code",
        "outputId": "221d4179-acb1-4b2e-8843-afa31f9cfb47",
        "colab": {
          "base_uri": "https://localhost:8080/",
          "height": 269
        }
      },
      "source": [
        "df=pd.DataFrame(x)\n",
        "plt.scatter(df[0][0:5],df[1][0:5],color='r',marker='X')\n",
        "plt.scatter(df[0][5:10],df[1][5:10],color='b',marker='o')\n",
        "\n",
        "xmin,xmax=plt.xlim()\n",
        "axes = plt.gca()\n",
        "axes.set_ylim([-1,2])\n",
        "axes.set_xlim([xmin,xmax])\n",
        "\n",
        "xinter=(threshold-w[0])/w[1]\n",
        "yinter=(threshold-w[0])/w[2]\n",
        "slope=-yinter/xinter\n",
        "xx=np.linspace(xmin,xmax)\n",
        "yy=slope*xx+yinter\n",
        "\n",
        "plt.plot(xx,yy,'k-')\n",
        "#plt.plot([xinter,0],[0,yinter])\n",
        "plt.show()"
      ],
      "execution_count": 0,
      "outputs": [
        {
          "output_type": "display_data",
          "data": {
            "image/png": "[encoded data removed]",
            "text/plain": [
              "<Figure size 432x288 with 1 Axes>"
            ]
          },
          "metadata": {
            "tags": []
          }
        }
      ]
    },
    {
      "cell_type": "code",
      "metadata": {
        "id": "S8RNdOhBPzpl",
        "colab_type": "code",
        "colab": {}
      },
      "source": [
        "import pandas as pd\n",
        "x=pd.read_csv('iris.csv',header=None)"
      ],
      "execution_count": 0,
      "outputs": []
    },
    {
      "cell_type": "code",
      "metadata": {
        "id": "4L7dD3c-Rr6K",
        "colab_type": "code",
        "colab": {}
      },
      "source": [
        "ylist=[]\n",
        "for i in range(50):\n",
        "  ylist.append(1)\n",
        "for i in range(50):\n",
        "  ylist.append(0)"
      ],
      "execution_count": 0,
      "outputs": []
    },
    {
      "cell_type": "code",
      "metadata": {
        "id": "iyBNcJPJ-AUC",
        "colab_type": "code",
        "colab": {}
      },
      "source": [
        "x=x[[0,1]]\n",
        "x=x[:100]\n",
        "xlist=x.values.tolist()"
      ],
      "execution_count": 0,
      "outputs": []
    },
    {
      "cell_type": "code",
      "metadata": {
        "id": "iZ5akReYWOd8",
        "colab_type": "code",
        "colab": {}
      },
      "source": [
        "#perceptron for four columns\n",
        "def perceptronFour(x,y,w,eta,threshold):\n",
        "  prev=list()\n",
        "  while prev!=w:\n",
        "    prev=w.copy()\n",
        "    for i in range(len(y)):\n",
        "      sum=w[0]+x[i][0]*w[1]+x[i][1]*w[2]+w[3]*x[i][2]+w[4]*x[i][3]\n",
        "      if sum<threshold:\n",
        "        sum=0\n",
        "      else:\n",
        "        sum=1\n",
        "        \n",
        "      if sum!=y[i]:\n",
        "        while sum!=y[i]:\n",
        "          w[0]=w[0]+eta*(y[i]-sum)\n",
        "          w[1]=w[1]+eta*(y[i]-sum)*x[i][0]\n",
        "          w[2]=w[2]+eta*(y[i]-sum)*x[i][1]\n",
        "          w[3]=w[3]+eta*(y[i]-sum)*x[i][2]\n",
        "          w[4]=w[4]+eta*(y[i]-sum)*x[i][3]\n",
        "          sum=w[0]+x[i][0]*w[1]+x[i][1]*w[2]+w[3]*x[i][2]+w[4]*x[i][3]\n",
        "          if sum<threshold:\n",
        "            sum=0\n",
        "          else:\n",
        "            sum=1\n",
        "  return w  \n",
        "        "
      ],
      "execution_count": 0,
      "outputs": []
    },
    {
      "cell_type": "code",
      "metadata": {
        "id": "Wt8xffTkjN49",
        "colab_type": "code",
        "outputId": "1d1a9ed3-d01a-4117-9bdc-c64bee09f4a3",
        "colab": {
          "base_uri": "https://localhost:8080/",
          "height": 34
        }
      },
      "source": [
        "w=[0,0,0]\n",
        "threshold=0\n",
        "eta=0.2\n",
        "print(perceptron(xlist,ylist,w,eta,threshold))"
      ],
      "execution_count": 0,
      "outputs": [
        {
          "output_type": "stream",
          "text": [
            "[24.999999999999943, -15.799999999999814, 20.060000000000244]\n"
          ],
          "name": "stdout"
        }
      ]
    },
    {
      "cell_type": "code",
      "metadata": {
        "id": "0zEtR8vcAmMD",
        "colab_type": "code",
        "outputId": "933aa497-1c94-4d80-dd87-42237cf8021f",
        "colab": {
          "base_uri": "https://localhost:8080/",
          "height": 269
        }
      },
      "source": [
        "df=pd.DataFrame(xlist)\n",
        "plt.scatter(df[0][0:50],df[1][0:50],color='r',marker='X')\n",
        "plt.scatter(df[0][50:100],df[1][50:100],color='b',marker='o')\n",
        "\n",
        "xmin,xmax=plt.xlim()\n",
        "axes = plt.gca()\n",
        "#axes.set_ylim([-1,2])\n",
        "#axes.set_xlim([xmin,xmax])\n",
        "\n",
        "xinter=(threshold-w[0])/w[1]\n",
        "yinter=(threshold-w[0])/w[2]\n",
        "slope=-yinter/xinter\n",
        "\n",
        "xx=np.linspace(xmin,xmax)\n",
        "yy=slope*xx+yinter\n",
        "\n",
        "plt.plot(xx,yy,'k-')\n",
        "#plt.plot([xinter,0],[0,yinter])\n",
        "plt.show()"
      ],
      "execution_count": 0,
      "outputs": [
        {
          "output_type": "display_data",
          "data": {
            "image/png": "[encoded data removed]",
            "text/plain": [
              "<Figure size 432x288 with 1 Axes>"
            ]
          },
          "metadata": {
            "tags": []
          }
        }
      ]
    },
    {
      "cell_type": "code",
      "metadata": {
        "id": "WJvCu_3WD_yq",
        "colab_type": "code",
        "colab": {}
      },
      "source": [
        ""
      ],
      "execution_count": 0,
      "outputs": []
    },
    {
      "cell_type": "markdown",
      "metadata": {
        "id": "_OLTODfyR2sJ",
        "colab_type": "text"
      },
      "source": [
        "# Logistic Regression"
      ]
    },
    {
      "cell_type": "code",
      "metadata": {
        "id": "UcX5MMXITept",
        "colab_type": "code",
        "colab": {}
      },
      "source": [
        "import numpy as np\n",
        "import pandas as pd\n",
        "import math\n",
        "import matplotlib.pyplot as plt\n",
        "from sklearn.metrics import *\n",
        "from sklearn.model_selection import KFold"
      ],
      "execution_count": 0,
      "outputs": []
    },
    {
      "cell_type": "markdown",
      "metadata": {
        "id": "zSaxzOtTTGTt",
        "colab_type": "text"
      },
      "source": [
        "## Convexity Analysis"
      ]
    },
    {
      "cell_type": "code",
      "metadata": {
        "id": "ZZ4-zoyvSdFy",
        "colab_type": "code",
        "colab": {}
      },
      "source": [
        "def LogLikelihoodLoss(p):\n",
        "  loss0=[]\n",
        "  loss1=[]\n",
        "  for i in range(len(p)):\n",
        "    y=1 #if p[i]>0.5 else 0\n",
        "    loss0.append((y*math.log(p[i])+(1-y)*math.log(1-p[i])))\n",
        "    y=0\n",
        "    loss1.append((y*math.log(p[i])+(1-y)*math.log(1-p[i])))\n",
        "  plt.plot(p,loss0)\n",
        "  plt.plot(p,loss1)\n",
        "  plt.show()"
      ],
      "execution_count": 0,
      "outputs": []
    },
    {
      "cell_type": "code",
      "metadata": {
        "id": "iUf52kqmR_00",
        "colab_type": "code",
        "outputId": "d4bee8af-f4fc-406b-c0e2-f962eda1dce6",
        "colab": {
          "base_uri": "https://localhost:8080/",
          "height": 269
        }
      },
      "source": [
        "p=list(np.linspace(0,1,101))\n",
        "p.remove(0)\n",
        "p.remove(1)\n",
        "LogLikelihoodLoss(p)"
      ],
      "execution_count": 0,
      "outputs": [
        {
          "output_type": "display_data",
          "data": {
            "image/png": "[encoded data removed]",
            "text/plain": [
              "<Figure size 432x288 with 1 Axes>"
            ]
          },
          "metadata": {
            "tags": []
          }
        }
      ]
    },
    {
      "cell_type": "markdown",
      "metadata": {
        "id": "nIJuzt6ZUrNX",
        "colab_type": "text"
      },
      "source": [
        "## SGA and BGA functions"
      ]
    },
    {
      "cell_type": "code",
      "metadata": {
        "id": "UpSkbOuFVM8M",
        "colab_type": "code",
        "colab": {}
      },
      "source": [
        "def logisticSGA(x,y,w,cnt,eta):\n",
        "  for j in range(cnt):\n",
        "    for i in range(len(y)):\n",
        "      sig=1/(1+np.exp(-np.dot(w,x[i])))\n",
        "      yhat=0 if sig<0.5 else 1\n",
        "      \n",
        "      if yhat!=y[i]:\n",
        "        w=w+eta*(y[i]-sig)*x[i]\n",
        "  return w"
      ],
      "execution_count": 0,
      "outputs": []
    },
    {
      "cell_type": "code",
      "metadata": {
        "id": "DmXWaCDm4FqP",
        "colab_type": "code",
        "colab": {}
      },
      "source": [
        "def logisticBGA(x,y,w,cnt,eta):\n",
        "  for j in range(cnt):\n",
        "    grad=0\n",
        "    for i in range(len(y)):\n",
        "      sig=1/(1+np.exp(-np.dot(w,x[i])))\n",
        "      yhat=0 if sig<0.5 else 1\n",
        "      \n",
        "      grad=grad+eta*(y[i]-sig)*x[i]\n",
        "    w=w+grad\n",
        "  return w"
      ],
      "execution_count": 0,
      "outputs": []
    },
    {
      "cell_type": "markdown",
      "metadata": {
        "id": "MuprZo7_V4wq",
        "colab_type": "text"
      },
      "source": [
        "## Data engineering"
      ]
    },
    {
      "cell_type": "code",
      "metadata": {
        "id": "TtKV6mLIY4Oa",
        "colab_type": "code",
        "colab": {}
      },
      "source": [
        "data=pd.read_csv(\"WBCD.txt\",header=None)\n",
        "data.columns=['id','ct','ucsi','ucsh','mar','secs','bn','bc','nn','m','c']\n",
        "data['id']=1\n",
        "data=data.loc[data['bn']!='?']\n",
        "data['bn']=data['bn'].astype(int)\n",
        "y=np.where(data.c==2,0,1)\n",
        "data=data.drop(columns=['c'])\n",
        "x=np.array(data)"
      ],
      "execution_count": 0,
      "outputs": []
    },
    {
      "cell_type": "markdown",
      "metadata": {
        "id": "5mYyMI02WNsp",
        "colab_type": "text"
      },
      "source": [
        "## calculate weights"
      ]
    },
    {
      "cell_type": "code",
      "metadata": {
        "id": "i1hnHTxsZy0Q",
        "colab_type": "code",
        "outputId": "f5ade2fd-9f73-4896-9db8-e005fe748e6c",
        "colab": {
          "base_uri": "https://localhost:8080/",
          "height": 102
        }
      },
      "source": [
        "#x=np.array([[1,2.7,2.5],[1,1.5,2.3],[1,3.4,4.4],[1,1.3,1.9],[1,3.1,3],[1,7.6,2.8],[1,5.3,2.1],[1,6.9,1.8],[1,8.7,0.2],[1,7.7,3.5]])\n",
        "#y=[0,0,0,0,0,1,1,1,1,1]\n",
        "w=np.zeros((1,len(x[0])))[0]\n",
        "eta=0.3\n",
        "w=logisticBGA(x,y,w,100,eta)\n",
        "w"
      ],
      "execution_count": 0,
      "outputs": [
        {
          "output_type": "stream",
          "text": [
            "/usr/local/lib/python3.6/dist-packages/ipykernel_launcher.py:5: RuntimeWarning: overflow encountered in exp\n",
            "  \"\"\"\n"
          ],
          "name": "stderr"
        },
        {
          "output_type": "execute_result",
          "data": {
            "text/plain": [
              "array([-1237.43226359,    46.66625932,   271.17374277,   113.66911285,\n",
              "          59.11920679,  -137.56551673,   149.56211231,   -66.6073179 ,\n",
              "         103.26965238,    39.78760515])"
            ]
          },
          "metadata": {
            "tags": []
          },
          "execution_count": 17
        }
      ]
    },
    {
      "cell_type": "markdown",
      "metadata": {
        "id": "oo5vEJXyXq3m",
        "colab_type": "text"
      },
      "source": [
        "## Measures and Plots"
      ]
    },
    {
      "cell_type": "code",
      "metadata": {
        "id": "q7LmFtbUaoqL",
        "colab_type": "code",
        "outputId": "2bf143df-1935-4a1f-c502-49cfe6376e70",
        "colab": {
          "base_uri": "https://localhost:8080/",
          "height": 170
        }
      },
      "source": [
        "def predict(x,y,w):\n",
        "  yhat=[]\n",
        "  for i in range(len(y)):\n",
        "    yhat.append(0)\n",
        "    sig=1/(1+np.exp(-np.dot(w.T,x[i])))\n",
        "    yhat[i]=0 if sig<0.5 else 1\n",
        "  cm=confusion_matrix(y,yhat)\n",
        "  measures=precision_recall_fscore_support(y,yhat)\n",
        "  acc=accuracy_score(y,yhat)\n",
        "  return measures,acc,cm\n",
        "\n",
        "\n",
        "measures,acc,cm=predict(x,y,w)\n",
        "print('confusionMatrix:\\n',cm)\n",
        "print('precision:',measures[0][0])\n",
        "print('recall:',measures[1][0])\n",
        "print('f score:',measures[2][0])\n",
        "print('accuracy:',acc)"
      ],
      "execution_count": 0,
      "outputs": [
        {
          "output_type": "stream",
          "text": [
            "confusionMatrix:\n",
            " [[414  30]\n",
            " [  2 237]]\n",
            "precision: 0.9951923076923077\n",
            "recall: 0.9324324324324325\n",
            "f score: 0.9627906976744187\n",
            "accuracy: 0.9531478770131772\n"
          ],
          "name": "stdout"
        },
        {
          "output_type": "stream",
          "text": [
            "/usr/local/lib/python3.6/dist-packages/ipykernel_launcher.py:5: RuntimeWarning: overflow encountered in exp\n",
            "  \"\"\"\n"
          ],
          "name": "stderr"
        }
      ]
    },
    {
      "cell_type": "code",
      "metadata": {
        "id": "2oIYxDaMhtjA",
        "colab_type": "code",
        "colab": {}
      },
      "source": [
        "xdata=[np.dot(w,X) for X in x]\n",
        "ydata=[1/(1+np.exp(-X)) for X in xdata]"
      ],
      "execution_count": 0,
      "outputs": []
    },
    {
      "cell_type": "code",
      "metadata": {
        "id": "1cL55arAhxaL",
        "colab_type": "code",
        "outputId": "878e495f-267e-46c1-855c-723c7d485ef3",
        "colab": {
          "base_uri": "https://localhost:8080/",
          "height": 283
        }
      },
      "source": [
        "xplt=np.linspace(-100,350,num=400)\n",
        "yplt=[1/(1+np.exp(-X)) for X in xplt]\n",
        "color=np.where(y==0,'r','b')\n",
        "\n",
        "plt.plot(xplt,yplt)\n",
        "plt.xlabel(\"log(odds)\",color='y')\n",
        "plt.ylabel(\"P(y=1|x)\",color='y')\n",
        "plt.scatter(xdata,ydata,c=color)\n",
        "axes=plt.gca()\n",
        "axes.set_xlim(-10,10)\n",
        "\n",
        "plt.show()"
      ],
      "execution_count": 0,
      "outputs": [
        {
          "output_type": "display_data",
          "data": {
            "image/png": "[encoded data removed]",
            "text/plain": [
              "<Figure size 432x288 with 1 Axes>"
            ]
          },
          "metadata": {
            "tags": []
          }
        }
      ]
    },
    {
      "cell_type": "code",
      "metadata": {
        "id": "Nvex2uAVkzd_",
        "colab_type": "code",
        "colab": {}
      },
      "source": [
        "def ROC(yact,yprob,n,p):\n",
        "  yprob,yact=zip(*sorted(zip(yprob,yact)))\n",
        "  xplt,yplt=[],[]\n",
        "  tpr,fpr,i=0,0,len(yact)-1\n",
        "  auc=0\n",
        "  while i>=0:\n",
        "    if yact[i]==1:\n",
        "      tpr+=1/p\n",
        "    else:\n",
        "      fpr+=1/n\n",
        "      auc+=tpr\n",
        "    xplt.append(fpr)\n",
        "    yplt.append(tpr)\n",
        "    i-=1\n",
        "  plt.plot(xplt,yplt)\n",
        "  plt.title(\"ROC curve\",color='y')\n",
        "  plt.xlabel(\"FPR\",color='y')\n",
        "  plt.ylabel(\"TPR\",color='y')\n",
        "  plt.show()\n",
        "  \n",
        "  print(\"AUC:\",auc/n)\n",
        "    "
      ],
      "execution_count": 0,
      "outputs": []
    },
    {
      "cell_type": "code",
      "metadata": {
        "id": "duIDbGonQVPV",
        "colab_type": "code",
        "outputId": "809a4c7d-c9ae-4a53-b0aa-d03262f291a7",
        "colab": {
          "base_uri": "https://localhost:8080/",
          "height": 329
        }
      },
      "source": [
        "ROC(y,ydata,444,239)\n",
        "print(\"AUC built-in:\",roc_auc_score(y,ydata))"
      ],
      "execution_count": 0,
      "outputs": [
        {
          "output_type": "display_data",
          "data": {
            "image/png": "[encoded data removed]",
            "text/plain": [
              "<Figure size 432x288 with 1 Axes>"
            ]
          },
          "metadata": {
            "tags": []
          }
        },
        {
          "output_type": "stream",
          "text": [
            "AUC: 0.995665121188133\n",
            "AUC built-in: 0.9920841343435485\n"
          ],
          "name": "stdout"
        }
      ]
    },
    {
      "cell_type": "markdown",
      "metadata": {
        "id": "o2JSjTMdac1j",
        "colab_type": "text"
      },
      "source": [
        "## K fold"
      ]
    },
    {
      "cell_type": "code",
      "metadata": {
        "id": "XIl-yMQmQX-l",
        "colab_type": "code",
        "outputId": "afcad2d2-87f5-46f3-add9-57fcef4cf8ae",
        "colab": {
          "base_uri": "https://localhost:8080/",
          "height": 68
        }
      },
      "source": [
        "scores=[]\n",
        "cv=KFold(n_splits=10,random_state=1,shuffle=False)\n",
        "\n",
        "for train_index,test_index in cv.split(x):\n",
        "  Xtrain,Xtest,Ytrain,Ytest=x[train_index],x[test_index],y[train_index],y[test_index]\n",
        "  w=np.zeros((1,len(x[0])))[0]\n",
        "  eta=0.3\n",
        "  w=logisticBGA(Xtrain,Ytrain,w,100,eta)\n",
        "  measures,acc,cm=predict(Xtest,Ytest,w)\n",
        "  scores.append(acc)\n",
        "print(\"K fold mean accuracy:\",np.mean(scores))\n",
        "  \n",
        "  "
      ],
      "execution_count": 0,
      "outputs": [
        {
          "output_type": "stream",
          "text": [
            "/usr/local/lib/python3.6/dist-packages/ipykernel_launcher.py:5: RuntimeWarning: overflow encountered in exp\n",
            "  \"\"\"\n"
          ],
          "name": "stderr"
        },
        {
          "output_type": "stream",
          "text": [
            "K fold mean accuracy: 0.9357203751065644\n"
          ],
          "name": "stdout"
        }
      ]
    },
    {
      "cell_type": "markdown",
      "metadata": {
        "id": "jy8Zfa7RTXtU",
        "colab_type": "text"
      },
      "source": [
        "## Image Classification"
      ]
    },
    {
      "cell_type": "code",
      "metadata": {
        "id": "69ARUp4yTgLI",
        "colab_type": "code",
        "outputId": "130124e9-a1f9-4500-b202-21eac200c59b",
        "colab": {
          "base_uri": "https://localhost:8080/",
          "height": 338
        }
      },
      "source": [
        "from sklearn.datasets import load_digits\n",
        "digits=load_digits()\n",
        "\n",
        "print(\"Image Data Shape\" , digits.data.shape)\n",
        "print(\"Label Data Shape\", digits.target.shape)\n",
        "\n",
        "plt.figure(figsize=(20,4))\n",
        "for index, (image, label) in enumerate(zip(digits.data[0:5], digits.target[0:5])):\n",
        "  plt.subplot(1, 5, index + 1)\n",
        "  plt.imshow(np.reshape(image, (8,8)), cmap=plt.cm.gray)\n",
        "  plt.title('Training: %i\\n' % label, fontsize = 20)"
      ],
      "execution_count": 0,
      "outputs": [
        {
          "output_type": "stream",
          "text": [
            "Image Data Shape (1797, 64)\n",
            "Label Data Shape (1797,)\n"
          ],
          "name": "stdout"
        },
        {
          "output_type": "display_data",
          "data": {
            "image/png": "[encoded data removed]",
            "text/plain": [
              "<Figure size 1440x288 with 5 Axes>"
            ]
          },
          "metadata": {
            "tags": []
          }
        }
      ]
    },
    {
      "cell_type": "code",
      "metadata": {
        "id": "7GVfnd6gWjPe",
        "colab_type": "code",
        "outputId": "f5d4f49e-3491-4ec6-d527-8e229aad9686",
        "colab": {
          "base_uri": "https://localhost:8080/",
          "height": 204
        }
      },
      "source": [
        "from sklearn.model_selection import train_test_split\n",
        "from sklearn.linear_model import LogisticRegression\n",
        "\n",
        "Xtrain,Xtest,Ytrain,Ytest=train_test_split(digits.data, digits.target, test_size=0.25, random_state=0)\n",
        "lr=LogisticRegression(solver='lbfgs',max_iter=10000,multi_class='auto')\n",
        "lr.fit(Xtrain,Ytrain)\n",
        "pred=lr.predict(Xtest)\n",
        "print(confusion_matrix(Ytest,pred))\n",
        "print(\"Accuracy:\",lr.score(Xtest,Ytest))"
      ],
      "execution_count": 0,
      "outputs": [
        {
          "output_type": "stream",
          "text": [
            "[[37  0  0  0  0  0  0  0  0  0]\n",
            " [ 0 40  0  0  0  0  0  0  2  1]\n",
            " [ 0  0 41  3  0  0  0  0  0  0]\n",
            " [ 0  0  0 44  0  0  0  0  1  0]\n",
            " [ 0  0  0  0 37  0  0  1  0  0]\n",
            " [ 0  0  0  0  0 46  0  0  0  2]\n",
            " [ 0  1  0  0  0  0 51  0  0  0]\n",
            " [ 0  0  0  1  1  0  0 46  0  0]\n",
            " [ 0  3  1  0  0  0  1  0 43  0]\n",
            " [ 0  0  0  0  0  1  0  0  2 44]]\n",
            "Accuracy: 0.9533333333333334\n"
          ],
          "name": "stdout"
        }
      ]
    },
    {
      "cell_type": "markdown",
      "metadata": {
        "id": "OgyFYHAmnWik",
        "colab_type": "text"
      },
      "source": [
        "### resizing and converting to grayscale"
      ]
    },
    {
      "cell_type": "code",
      "metadata": {
        "id": "sPbFbxQ6awPN",
        "colab_type": "code",
        "colab": {}
      },
      "source": [
        "'''\n",
        "import cv2\n",
        "\n",
        "\n",
        "#use glob instead (for i in glob.iglob(path with /*))\n",
        "for i in range(29):\n",
        "    name=str(i+1)\n",
        "    image = cv2.imread('F:/sem5/SUL/meera/'+name+'.jpg')\n",
        "    scale_percent = 50 # percent of original size\n",
        "    width = int(image.shape[1] * scale_percent / 100)\n",
        "    height = int(image.shape[0] * scale_percent / 100)\n",
        "    dim = (width, height)\n",
        "# resize image\n",
        "    image = cv2.resize(image, (90,120), interpolation = cv2.INTER_AREA)\n",
        "\n",
        "    gray = cv2.cvtColor(image, cv2.COLOR_BGR2GRAY)\n",
        "\n",
        "  \n",
        "#cv2.imshow('Original image',image)\n",
        "#cv2.imshow('Gray image', gray)\n",
        "    cv2.imwrite('F:/sem5/SUL/meeraGS/'+name+'.jpg',gray)\n",
        "    cv2.waitKey(0)\n",
        "    cv2.destroyAllWindows()\n",
        "'''"
      ],
      "execution_count": 0,
      "outputs": []
    },
    {
      "cell_type": "markdown",
      "metadata": {
        "id": "UsFz_6uiqwcJ",
        "colab_type": "text"
      },
      "source": [
        "### Converting pixels as list to csv file"
      ]
    },
    {
      "cell_type": "code",
      "metadata": {
        "id": "Qax74Rtbq212",
        "colab_type": "code",
        "outputId": "9bda4728-8b57-4e1e-a524-8defdd1f504d",
        "colab": {
          "base_uri": "https://localhost:8080/",
          "height": 55
        }
      },
      "source": [
        "'''csvData=[]\n",
        "from PIL import Image\n",
        "for i in range(29):\n",
        "    name=str(i+1)\n",
        "    im = Image.open('F:/sem5/SUL/meeraGS/'+name+'.jpg','r')\n",
        "    csvData.append( list(im.getdata()))\n",
        "for i in range(13):\n",
        "    name=str(i+1)\n",
        "    im = Image.open('F:/sem5/SUL/moniGS/'+name+'.jpg','r')\n",
        "    csvData.append( list(im.getdata()))\n",
        "\n",
        "import csv\n",
        "with open('F:/sem5/SUL/data.csv', 'a') as csvFile:\n",
        "    writer = csv.writer(csvFile)\n",
        "    writer.writerows(csvData)\n",
        "csvFile.close()'''"
      ],
      "execution_count": 0,
      "outputs": [
        {
          "output_type": "execute_result",
          "data": {
            "text/plain": [
              "\"csvData=[]\\nfrom PIL import Image\\nfor i in range(29):\\n    name=str(i+1)\\n    im = Image.open('F:/sem5/SUL/meeraGS/'+name+'.jpg','r')\\n    csvData.append( list(im.getdata()))\\nfor i in range(13):\\n    name=str(i+1)\\n    im = Image.open('F:/sem5/SUL/moniGS/'+name+'.jpg','r')\\n    csvData.append( list(im.getdata()))\\n\\nimport csv\\nwith open('F:/sem5/SUL/data.csv', 'a') as csvFile:\\n    writer = csv.writer(csvFile)\\n    writer.writerows(csvData)\\ncsvFile.close()\""
            ]
          },
          "metadata": {
            "tags": []
          },
          "execution_count": 6
        }
      ]
    },
    {
      "cell_type": "markdown",
      "metadata": {
        "id": "Kq1kJCE0rQI2",
        "colab_type": "text"
      },
      "source": [
        "### Trial of L.R."
      ]
    },
    {
      "cell_type": "code",
      "metadata": {
        "id": "fJUT4nhRrNmr",
        "colab_type": "code",
        "outputId": "42189879-b814-41b8-aaef-f824d85fe4cc",
        "colab": {
          "base_uri": "https://localhost:8080/",
          "height": 69
        }
      },
      "source": [
        "#attempt to classify personal gallery\n",
        "from sklearn.model_selection import train_test_split\n",
        "from sklearn.linear_model import LogisticRegression\n",
        "\n",
        "Xtrain=pd.read_csv('data.csv',header=None)\n",
        "Ytrain=[]\n",
        "for i in range(29):\n",
        "  Ytrain.append(1)\n",
        "for i in range(13):\n",
        "  Ytrain.append(0)\n",
        "\n",
        "lr=LogisticRegression(solver='lbfgs',max_iter=1000,multi_class='auto')\n",
        "lr.fit(Xtrain[10:36],Ytrain[10:36])\n",
        "pred=lr.predict(Xtrain)\n",
        "print(confusion_matrix(Ytrain,pred))\n",
        "print(\"Accuracy:\",lr.score(Xtrain,Ytrain))"
      ],
      "execution_count": 0,
      "outputs": [
        {
          "output_type": "stream",
          "text": [
            "[[ 9  4]\n",
            " [ 1 28]]\n",
            "Accuracy: 0.8809523809523809\n"
          ],
          "name": "stdout"
        }
      ]
    },
    {
      "cell_type": "markdown",
      "metadata": {
        "id": "10O6guIQQng8",
        "colab_type": "text"
      },
      "source": [
        "# Bayesian Classifier for Discrete Values"
      ]
    },
    {
      "cell_type": "markdown",
      "metadata": {
        "id": "pfaxO9ygjmOm",
        "colab_type": "text"
      },
      "source": [
        "## Data extraction"
      ]
    },
    {
      "cell_type": "code",
      "metadata": {
        "id": "NCgI1T9ZVAJc",
        "colab_type": "code",
        "colab": {}
      },
      "source": [
        "import pandas as pd\n",
        "import numpy as np"
      ],
      "execution_count": 0,
      "outputs": []
    },
    {
      "cell_type": "code",
      "metadata": {
        "id": "7aTgLeApRQ_G",
        "colab_type": "code",
        "colab": {}
      },
      "source": [
        "data=pd.read_csv(\"spam_ham.csv\",header=None)\n",
        "data.columns=['w1','w2','w3','w4','w5','w6','w7','w8','target']\n",
        "y=data[['target']]\n",
        "x=data.drop(columns=['target'])\n",
        "loss=np.array([[0,0.5],[0.2,0]])"
      ],
      "execution_count": 0,
      "outputs": []
    },
    {
      "cell_type": "markdown",
      "metadata": {
        "id": "mCiuZP-DjrGF",
        "colab_type": "text"
      },
      "source": [
        "## Calculation of conditional and prior probabilities"
      ]
    },
    {
      "cell_type": "code",
      "metadata": {
        "id": "nxZIiBcIVyD7",
        "colab_type": "code",
        "colab": {}
      },
      "source": [
        "xprob,yprob=[],[]\n",
        "for i in x.columns:\n",
        "  xprob.append(data.groupby('target')[i].value_counts()/data.groupby('target')[i].count())\n",
        "yprob.append(y.target.value_counts(1))\n",
        "n=y.target.nunique()      #number of targets\n",
        "targets=y.target.unique().tolist()      #list of targets\n",
        "xprob,yprob"
      ],
      "execution_count": 0,
      "outputs": []
    },
    {
      "cell_type": "markdown",
      "metadata": {
        "id": "pK6kmToRj9Zt",
        "colab_type": "text"
      },
      "source": [
        "## Prediction for a given test data"
      ]
    },
    {
      "cell_type": "code",
      "metadata": {
        "id": "p7WMc0moXt5E",
        "colab_type": "code",
        "colab": {}
      },
      "source": [
        "def BayesianClassifierPredict(test):\n",
        "  p=[]\n",
        "  for j in range(n):\n",
        "    p.append(1)\n",
        "  for j in range(n):\n",
        "    for i in range(len(test)):\n",
        "      try:\n",
        "        temp=xprob[i][targets[j]][test[i]]\n",
        "      except KeyError:\n",
        "        temp=0\n",
        "      p[j]*=temp\n",
        "    p[j]*=yprob[0][targets[j]]\n",
        "  den=sum(p)\n",
        "  return p/den"
      ],
      "execution_count": 0,
      "outputs": []
    },
    {
      "cell_type": "markdown",
      "metadata": {
        "id": "4-F0eYK_kD-q",
        "colab_type": "text"
      },
      "source": [
        "## Test without Risk Analysis"
      ]
    },
    {
      "cell_type": "code",
      "metadata": {
        "id": "NRSsqbnbjnHt",
        "colab_type": "code",
        "outputId": "fa2e87c0-e31a-44b5-f733-e64d77bdfb74",
        "colab": {
          "base_uri": "https://localhost:8080/",
          "height": 119
        }
      },
      "source": [
        "test=[[1,0,0,1,1,1,0,1],[0,1,1,0,1,0,1,0]]\n",
        "for j in range(len(test)):\n",
        "  p=BayesianClassifierPredict(test[j])\n",
        "  print('test case',j+1)\n",
        "  for i in range(n):\n",
        "    print('\\tclass',targets[i],\":\",p[i])"
      ],
      "execution_count": 0,
      "outputs": [
        {
          "output_type": "stream",
          "text": [
            "test case 1\n",
            "\tclass 1 : 0.9980656818434983\n",
            "\tclass 0 : 0.0019343181565018254\n",
            "test case 2\n",
            "\tclass 1 : 0.01975717832602507\n",
            "\tclass 0 : 0.9802428216739749\n"
          ],
          "name": "stdout"
        }
      ]
    },
    {
      "cell_type": "markdown",
      "metadata": {
        "id": "D-F9iK2oje7l",
        "colab_type": "text"
      },
      "source": [
        "## Test with Risk Analysis"
      ]
    },
    {
      "cell_type": "code",
      "metadata": {
        "id": "oE8HOqnzYSWB",
        "colab_type": "code",
        "outputId": "a1417200-39c0-4035-8a61-521f14f308d5",
        "colab": {
          "base_uri": "https://localhost:8080/",
          "height": 51
        }
      },
      "source": [
        "test=[[1,0,0,1,1,1,0,1],[0,1,1,0,1,0,1,0]]\n",
        "for i in range(len(test)):\n",
        "  prob=BayesianClassifierPredict(test[i])\n",
        "  risk=np.dot(prob,loss.T)\n",
        "  print(\"test case\",i+1,\": spam\" if risk[0]<risk[1] else \": ham\")"
      ],
      "execution_count": 0,
      "outputs": [
        {
          "output_type": "stream",
          "text": [
            "test case 1 : spam\n",
            "test case 2 : ham\n"
          ],
          "name": "stdout"
        }
      ]
    },
    {
      "cell_type": "markdown",
      "metadata": {
        "id": "gxJs5Q2ddKxX",
        "colab_type": "text"
      },
      "source": [
        "# Bayesian Classifier for Continuous Values"
      ]
    },
    {
      "cell_type": "code",
      "metadata": {
        "id": "RbymSKReh-0e",
        "colab_type": "code",
        "colab": {}
      },
      "source": [
        "import pandas as pd\n",
        "import numpy as np\n",
        "from scipy.spatial import distance\n",
        "import math"
      ],
      "execution_count": 0,
      "outputs": []
    },
    {
      "cell_type": "code",
      "metadata": {
        "id": "poneGrvWaO5_",
        "colab_type": "code",
        "colab": {}
      },
      "source": [
        "data=pd.read_csv('spam_ham.csv',header=None)\n",
        "data.columns=['w1','w2','w3','w4','w5','w6','w7','w8','target']\n",
        "data.head(11)\n",
        "x=data.copy()\n",
        "x=x.drop(columns=['target'])"
      ],
      "execution_count": 0,
      "outputs": []
    },
    {
      "cell_type": "code",
      "metadata": {
        "id": "YQD0HX7taj-t",
        "colab_type": "code",
        "colab": {}
      },
      "source": [
        "mean=[[],[]]\n",
        "temp_var=[[],[]]\n",
        "for i in range(2):\n",
        "  for j in x.columns:\n",
        "    mean[i].append(np.mean(data[j].loc[data.target==i]))\n",
        "    temp_var[i].append(np.var(data[j].loc[data.target==i]))\n",
        "  mean[i]=np.array(mean[i])\n",
        "var=[[],[]]\n",
        "for i in range(len(temp_var)):\n",
        "  for j in range(len(temp_var[0])):\n",
        "    var[i].append( [0]*j + [temp_var[i][j]] + [0]*(len(temp_var[0])-j-1) )\n",
        "  var[i]=np.array(var[i])\n",
        "  "
      ],
      "execution_count": 0,
      "outputs": []
    },
    {
      "cell_type": "code",
      "metadata": {
        "id": "UmCEWnMmef-q",
        "colab_type": "code",
        "colab": {}
      },
      "source": [
        "def bayesian(x,mean,var):\n",
        "  p=[]\n",
        "  for i in range(2):\n",
        "    m=distance.mahalanobis(x,mean[i],np.linalg.inv(var[i]))**2\n",
        "    p.append(np.exp(-m/2) / (2*math.pi*(np.linalg.det(var[i])**.5)) ) \n",
        "  return p/sum(p)\n",
        "  "
      ],
      "execution_count": 0,
      "outputs": []
    },
    {
      "cell_type": "code",
      "metadata": {
        "id": "TcTo8pbM0BbZ",
        "colab_type": "code",
        "outputId": "4dad3e74-3822-4cb7-a1f7-2e6e0f4373ef",
        "colab": {
          "base_uri": "https://localhost:8080/",
          "height": 51
        }
      },
      "source": [
        "test=[np.array([1,0,0,1,1,1,0,1]),np.array([0,1,1,0,1,0,1,0])]\n",
        "for i in range(2):\n",
        "  prob=bayesian(test[i],mean,var)\n",
        "  print(\"test case\",i+1,':ham' if prob[0]>prob[1] else ':spam')"
      ],
      "execution_count": 0,
      "outputs": [
        {
          "output_type": "stream",
          "text": [
            "test case 1 :spam\n",
            "test case 2 :ham\n"
          ],
          "name": "stdout"
        }
      ]
    },
    {
      "cell_type": "markdown",
      "metadata": {
        "id": "LTI5w6h0gKvR",
        "colab_type": "text"
      },
      "source": [
        "# K-NN"
      ]
    },
    {
      "cell_type": "code",
      "metadata": {
        "id": "KqvfOskGgmRc",
        "colab_type": "code",
        "colab": {}
      },
      "source": [
        "import pandas as pd\n",
        "from sklearn.model_selection import train_test_split"
      ],
      "execution_count": 0,
      "outputs": []
    },
    {
      "cell_type": "code",
      "metadata": {
        "id": "c7iRSAnYgMOA",
        "colab_type": "code",
        "colab": {}
      },
      "source": [
        "data=pd.read_csv('iris.csv',header=None)\n",
        "data.columns=['x1','x2','x3','x4','y']"
      ],
      "execution_count": 0,
      "outputs": []
    },
    {
      "cell_type": "code",
      "metadata": {
        "id": "uq-_xD8Xr4iz",
        "colab_type": "code",
        "colab": {}
      },
      "source": [
        "def euclidean_dist(a,b):\n",
        "  sum=0\n",
        "  for i in range(len(a)-1):\n",
        "    sum+=(a[i]-b[i])**2\n",
        "  return sum**0.5"
      ],
      "execution_count": 0,
      "outputs": []
    },
    {
      "cell_type": "code",
      "metadata": {
        "id": "XutlSbUmg_or",
        "colab_type": "code",
        "colab": {}
      },
      "source": [
        "def knn(train,test,k,mode):\n",
        "  train=train.copy()\n",
        "  train['dist']=train.apply(lambda x:euclidean_dist(x,test),axis=1)\n",
        "  train=train.sort_values('dist')\n",
        "  #train=train.reset_index()\n",
        "  train=train[:k]\n",
        "  if mode=='classification':\n",
        "    c=train.y.value_counts()\n",
        "    c=sorted(c.items(),key=lambda x:x[1],reverse=True)\n",
        "    return c[0][0]\n",
        "  return np.mean(train.y)"
      ],
      "execution_count": 0,
      "outputs": []
    },
    {
      "cell_type": "code",
      "metadata": {
        "id": "6eUCa6MljINI",
        "colab_type": "code",
        "colab": {}
      },
      "source": [
        "x_data=data.copy()\n",
        "x_data=x_data.drop(columns=['y'])\n",
        "y_data=data['y'].copy()\n",
        "\n",
        "train,test,y_train,y_test=train_test_split(x_data,y_data,test_size=0.3,shuffle=True,random_state=2)\n",
        "test,valid,y_test,y_valid=train_test_split(test,y_test,test_size=0.5,shuffle=True,random_state=2)\n",
        "train['y']=y_train\n",
        "test['y']=y_test\n",
        "valid['y']=y_valid"
      ],
      "execution_count": 0,
      "outputs": []
    },
    {
      "cell_type": "code",
      "metadata": {
        "id": "eiAq6eGKyN8b",
        "colab_type": "code",
        "outputId": "24e755fd-75a4-484d-bb45-1e668ddaff56",
        "colab": {
          "base_uri": "https://localhost:8080/",
          "height": 102
        }
      },
      "source": [
        "K=[1,3,5]\n",
        "acc=[]\n",
        "for k in K:\n",
        "  cnt=0\n",
        "  for val in valid.values:\n",
        "    if knn(train,val,k,'classification')==val[len(val)-1]:\n",
        "      cnt+=1\n",
        "  acc.append(cnt/len(valid))\n",
        "print('Validation: The best k for this data is',K[acc.index(max(acc))])\n",
        "for i in range(len(K)):\n",
        "  print('k:',K[i],',acc:',acc[i])\n",
        "\n",
        "k=K[acc.index(max(acc))]\n",
        "cnt=0\n",
        "for val in test.values:\n",
        "  if knn(train,val,k,'classification')==val[len(val)-1]:\n",
        "    cnt+=1\n",
        "print('Accuracy for test with k =',k,':',cnt/len(test))"
      ],
      "execution_count": 0,
      "outputs": [
        {
          "output_type": "stream",
          "text": [
            "Validation: The best k for this data is 1\n",
            "k: 1 ,acc: 1.0\n",
            "k: 3 ,acc: 1.0\n",
            "k: 5 ,acc: 1.0\n",
            "Accuracy for test with k = 1 : 1.0\n"
          ],
          "name": "stdout"
        }
      ]
    },
    {
      "cell_type": "markdown",
      "metadata": {
        "id": "UtM5015vlhdw",
        "colab_type": "text"
      },
      "source": [
        "# Decision Tree"
      ]
    },
    {
      "cell_type": "code",
      "metadata": {
        "id": "fwqal5JMlj4n",
        "colab_type": "code",
        "colab": {}
      },
      "source": [
        "import pandas as pd\n",
        "import numpy as np"
      ],
      "execution_count": 0,
      "outputs": []
    },
    {
      "cell_type": "code",
      "metadata": {
        "id": "YXJQAXL_mTkS",
        "colab_type": "code",
        "colab": {}
      },
      "source": [
        "data=pd.read_csv('cancer.txt')\n",
        "data=data.drop(columns=['id'])\n",
        "data=data.loc[data['bn']!='?']\n",
        "data.bn=data.bn.astype(int)"
      ],
      "execution_count": 0,
      "outputs": []
    },
    {
      "cell_type": "markdown",
      "metadata": {
        "id": "Nb2JmAevq01i",
        "colab_type": "text"
      },
      "source": [
        "## Measures"
      ]
    },
    {
      "cell_type": "markdown",
      "metadata": {
        "id": "8EC2ZK3SnZKi",
        "colab_type": "text"
      },
      "source": [
        "### Entropy"
      ]
    },
    {
      "cell_type": "code",
      "metadata": {
        "id": "egXkAjKKmbwh",
        "colab_type": "code",
        "outputId": "acae3918-007c-45b2-8674-6e052205fb28",
        "colab": {
          "base_uri": "https://localhost:8080/",
          "height": 34
        }
      },
      "source": [
        "def entropy(data):\n",
        "  ycnt=np.array([len(data.c.loc[data.c==2]),len(data.c.loc[data.c==4])])\n",
        "  ycnt=ycnt/sum(ycnt)\n",
        "  if 0 in ycnt:\n",
        "    return 0\n",
        "  return -sum([i*np.log2(i) for i in ycnt ])\n",
        "print('Entropy:',entropy(data))"
      ],
      "execution_count": 0,
      "outputs": [
        {
          "output_type": "stream",
          "text": [
            "Entropy: 0.9340026588217947\n"
          ],
          "name": "stdout"
        }
      ]
    },
    {
      "cell_type": "markdown",
      "metadata": {
        "id": "xzYCHA5jqv6L",
        "colab_type": "text"
      },
      "source": [
        "### Conditional Entropy"
      ]
    },
    {
      "cell_type": "code",
      "metadata": {
        "id": "L7tMMg9RnOsi",
        "colab_type": "code",
        "outputId": "38b1a357-60b3-4563-bada-6036c38830fc",
        "colab": {
          "base_uri": "https://localhost:8080/",
          "height": 71
        }
      },
      "source": [
        "def conditionalEntropy(data,col):\n",
        "  ent=np.array([entropy(data.loc[data[col]==i]) for i in data[col].unique()])\n",
        "  prob=(data[col].value_counts()/len(data)).values\n",
        "  return np.dot(ent,prob)\n",
        "\n",
        "print('Columns',[data.columns[i] for i in range(len(data.columns)-1)],'\\nConditional Entropy:',[conditionalEntropy(data,data.columns[i]) for i in range(len(data.columns)-1)])"
      ],
      "execution_count": 0,
      "outputs": [
        {
          "output_type": "stream",
          "text": [
            "Columns ['ct', 'csize', 'cshape', 'ma', 'secs', 'bn', 'bc', 'nn', 'm'] \n",
            "Conditional Entropy: [0.6032906409349538, 0.235830078971963, 0.24179594010580469, 0.4428990218103843, 0.40669668205675213, 0.3172825226560971, 0.32012960719635497, 0.4665077226488734, 0.7140663387476905]\n"
          ],
          "name": "stdout"
        }
      ]
    },
    {
      "cell_type": "markdown",
      "metadata": {
        "id": "F3mIYKPYIRui",
        "colab_type": "text"
      },
      "source": [
        "###Information Gain"
      ]
    },
    {
      "cell_type": "code",
      "metadata": {
        "id": "_8Vo-kWwIawY",
        "colab_type": "code",
        "colab": {}
      },
      "source": [
        "print('')"
      ],
      "execution_count": 0,
      "outputs": []
    },
    {
      "cell_type": "markdown",
      "metadata": {
        "id": "hAuOUaA1v9ws",
        "colab_type": "text"
      },
      "source": [
        "## Decision tree"
      ]
    },
    {
      "cell_type": "code",
      "metadata": {
        "id": "39PIs7d3su0X",
        "colab_type": "code",
        "colab": {}
      },
      "source": [
        "from sklearn.tree import DecisionTreeClassifier, export_graphviz\n",
        "from graphviz import Source\n",
        "from IPython.display import SVG\n",
        "from sklearn.metrics import *"
      ],
      "execution_count": 0,
      "outputs": []
    },
    {
      "cell_type": "code",
      "metadata": {
        "id": "LqUypZOSw8IT",
        "colab_type": "code",
        "outputId": "94beea7b-aceb-4050-90a3-069857e79f98",
        "colab": {
          "base_uri": "https://localhost:8080/",
          "height": 34
        }
      },
      "source": [
        "x=data.copy()\n",
        "x=x.drop(columns=['c'])\n",
        "y=data['c'].copy()\n",
        "\n",
        "model=DecisionTreeClassifier(criterion='entropy')\n",
        "model.fit(x,y)\n",
        "y_pred=model.predict(x)\n",
        "print('accuracy:',accuracy_score(y,y_pred))"
      ],
      "execution_count": 0,
      "outputs": [
        {
          "output_type": "stream",
          "text": [
            "accuracy: 1.0\n"
          ],
          "name": "stdout"
        }
      ]
    },
    {
      "cell_type": "code",
      "metadata": {
        "id": "WNMyN60gxXqy",
        "colab_type": "code",
        "outputId": "dbeb0a0c-443f-4e3c-b936-1e26d5ad6e73",
        "colab": {
          "base_uri": "https://localhost:8080/",
          "height": 1000
        }
      },
      "source": [
        "graph= Source(export_graphviz(model,out_file=None,class_names=['2','4'],filled=True))\n",
        "display(SVG(graph.pipe(format='svg')))"
      ],
      "execution_count": 0,
      "outputs": [
        {
          "output_type": "display_data",
          "data": {
            "text/plain": [
              "<IPython.core.display.SVG object>"
            ],
            "image/svg+xml": "<svg height=\"1028pt\" viewBox=\"0.00 0.00 1578.50 1028.00\" width=\"1579pt\" xmlns=\"http://www.w3.org/2000/svg\" xmlns:xlink=\"http://www.w3.org/1999/xlink\">\n<g class=\"graph\" id=\"graph0\" transform=\"scale(1 1) rotate(0) translate(4 1024)\">\n<title>Tree</title>\n<polygon fill=\"#ffffff\" points=\"-4,4 -4,-1024 1574.5,-1024 1574.5,4 -4,4\" stroke=\"transparent\"/>\n<!-- 0 -->\n<g class=\"node\" id=\"node1\">\n<title>0</title>\n<polygon fill=\"#f3c5a4\" points=\"609.5,-1020 484.5,-1020 484.5,-937 609.5,-937 609.5,-1020\" stroke=\"#000000\"/>\n<text fill=\"#000000\" font-family=\"Times,serif\" font-size=\"14.00\" text-anchor=\"middle\" x=\"547\" y=\"-1004.8\">X[1] &lt;= 2.5</text>\n<text fill=\"#000000\" font-family=\"Times,serif\" font-size=\"14.00\" text-anchor=\"middle\" x=\"547\" y=\"-989.8\">entropy = 0.934</text>\n<text fill=\"#000000\" font-family=\"Times,serif\" font-size=\"14.00\" text-anchor=\"middle\" x=\"547\" y=\"-974.8\">samples = 683</text>\n<text fill=\"#000000\" font-family=\"Times,serif\" font-size=\"14.00\" text-anchor=\"middle\" x=\"547\" y=\"-959.8\">value = [444, 239]</text>\n<text fill=\"#000000\" font-family=\"Times,serif\" font-size=\"14.00\" text-anchor=\"middle\" x=\"547\" y=\"-944.8\">class = 2</text>\n</g>\n<!-- 1 -->\n<g class=\"node\" id=\"node2\">\n<title>1</title>\n<polygon fill=\"#e6853f\" points=\"427.5,-901 310.5,-901 310.5,-818 427.5,-818 427.5,-901\" stroke=\"#000000\"/>\n<text fill=\"#000000\" font-family=\"Times,serif\" font-size=\"14.00\" text-anchor=\"middle\" x=\"369\" y=\"-885.8\">X[5] &lt;= 3.5</text>\n<text fill=\"#000000\" font-family=\"Times,serif\" font-size=\"14.00\" text-anchor=\"middle\" x=\"369\" y=\"-870.8\">entropy = 0.188</text>\n<text fill=\"#000000\" font-family=\"Times,serif\" font-size=\"14.00\" text-anchor=\"middle\" x=\"369\" y=\"-855.8\">samples = 418</text>\n<text fill=\"#000000\" font-family=\"Times,serif\" font-size=\"14.00\" text-anchor=\"middle\" x=\"369\" y=\"-840.8\">value = [406, 12]</text>\n<text fill=\"#000000\" font-family=\"Times,serif\" font-size=\"14.00\" text-anchor=\"middle\" x=\"369\" y=\"-825.8\">class = 2</text>\n</g>\n<!-- 0&#45;&gt;1 -->\n<g class=\"edge\" id=\"edge1\">\n<title>0-&gt;1</title>\n<path d=\"M484.7442,-936.8796C469.0952,-926.4176 452.2301,-915.1426 436.3448,-904.5227\" fill=\"none\" stroke=\"#000000\"/>\n<polygon fill=\"#000000\" points=\"437.893,-901.3476 427.6345,-898.6995 434.0026,-907.1669 437.893,-901.3476\" stroke=\"#000000\"/>\n<text fill=\"#000000\" font-family=\"Times,serif\" font-size=\"14.00\" text-anchor=\"middle\" x=\"432.5056\" y=\"-919.5203\">True</text>\n</g>\n<!-- 14 -->\n<g class=\"node\" id=\"node15\">\n<title>14</title>\n<polygon fill=\"#5aade9\" points=\"819.5,-901 702.5,-901 702.5,-818 819.5,-818 819.5,-901\" stroke=\"#000000\"/>\n<text fill=\"#000000\" font-family=\"Times,serif\" font-size=\"14.00\" text-anchor=\"middle\" x=\"761\" y=\"-885.8\">X[1] &lt;= 4.5</text>\n<text fill=\"#000000\" font-family=\"Times,serif\" font-size=\"14.00\" text-anchor=\"middle\" x=\"761\" y=\"-870.8\">entropy = 0.593</text>\n<text fill=\"#000000\" font-family=\"Times,serif\" font-size=\"14.00\" text-anchor=\"middle\" x=\"761\" y=\"-855.8\">samples = 265</text>\n<text fill=\"#000000\" font-family=\"Times,serif\" font-size=\"14.00\" text-anchor=\"middle\" x=\"761\" y=\"-840.8\">value = [38, 227]</text>\n<text fill=\"#000000\" font-family=\"Times,serif\" font-size=\"14.00\" text-anchor=\"middle\" x=\"761\" y=\"-825.8\">class = 4</text>\n</g>\n<!-- 0&#45;&gt;14 -->\n<g class=\"edge\" id=\"edge14\">\n<title>0-&gt;14</title>\n<path d=\"M609.7611,-943.6001C636.0218,-928.9972 666.5975,-911.9948 693.3572,-897.1144\" fill=\"none\" stroke=\"#000000\"/>\n<polygon fill=\"#000000\" points=\"695.2356,-900.0747 702.2742,-892.1559 691.8336,-893.957 695.2356,-900.0747\" stroke=\"#000000\"/>\n<text fill=\"#000000\" font-family=\"Times,serif\" font-size=\"14.00\" text-anchor=\"middle\" x=\"695.4158\" y=\"-912.4967\">False</text>\n</g>\n<!-- 2 -->\n<g class=\"node\" id=\"node3\">\n<title>2</title>\n<polygon fill=\"#e5823a\" points=\"238,-782 128,-782 128,-699 238,-699 238,-782\" stroke=\"#000000\"/>\n<text fill=\"#000000\" font-family=\"Times,serif\" font-size=\"14.00\" text-anchor=\"middle\" x=\"183\" y=\"-766.8\">X[0] &lt;= 7.5</text>\n<text fill=\"#000000\" font-family=\"Times,serif\" font-size=\"14.00\" text-anchor=\"middle\" x=\"183\" y=\"-751.8\">entropy = 0.046</text>\n<text fill=\"#000000\" font-family=\"Times,serif\" font-size=\"14.00\" text-anchor=\"middle\" x=\"183\" y=\"-736.8\">samples = 395</text>\n<text fill=\"#000000\" font-family=\"Times,serif\" font-size=\"14.00\" text-anchor=\"middle\" x=\"183\" y=\"-721.8\">value = [393, 2]</text>\n<text fill=\"#000000\" font-family=\"Times,serif\" font-size=\"14.00\" text-anchor=\"middle\" x=\"183\" y=\"-706.8\">class = 2</text>\n</g>\n<!-- 1&#45;&gt;2 -->\n<g class=\"edge\" id=\"edge2\">\n<title>1-&gt;2</title>\n<path d=\"M310.4037,-822.011C290.1849,-809.0753 267.4406,-794.5238 246.8247,-781.3341\" fill=\"none\" stroke=\"#000000\"/>\n<polygon fill=\"#000000\" points=\"248.4429,-778.2144 238.1331,-775.7734 244.6704,-784.1109 248.4429,-778.2144\" stroke=\"#000000\"/>\n</g>\n<!-- 7 -->\n<g class=\"node\" id=\"node8\">\n<title>7</title>\n<polygon fill=\"#f9e2d1\" points=\"424,-782 314,-782 314,-699 424,-699 424,-782\" stroke=\"#000000\"/>\n<text fill=\"#000000\" font-family=\"Times,serif\" font-size=\"14.00\" text-anchor=\"middle\" x=\"369\" y=\"-766.8\">X[0] &lt;= 3.5</text>\n<text fill=\"#000000\" font-family=\"Times,serif\" font-size=\"14.00\" text-anchor=\"middle\" x=\"369\" y=\"-751.8\">entropy = 0.988</text>\n<text fill=\"#000000\" font-family=\"Times,serif\" font-size=\"14.00\" text-anchor=\"middle\" x=\"369\" y=\"-736.8\">samples = 23</text>\n<text fill=\"#000000\" font-family=\"Times,serif\" font-size=\"14.00\" text-anchor=\"middle\" x=\"369\" y=\"-721.8\">value = [13, 10]</text>\n<text fill=\"#000000\" font-family=\"Times,serif\" font-size=\"14.00\" text-anchor=\"middle\" x=\"369\" y=\"-706.8\">class = 2</text>\n</g>\n<!-- 1&#45;&gt;7 -->\n<g class=\"edge\" id=\"edge7\">\n<title>1-&gt;7</title>\n<path d=\"M369,-817.8796C369,-809.6838 369,-800.9891 369,-792.5013\" fill=\"none\" stroke=\"#000000\"/>\n<polygon fill=\"#000000\" points=\"372.5001,-792.298 369,-782.2981 365.5001,-792.2981 372.5001,-792.298\" stroke=\"#000000\"/>\n</g>\n<!-- 3 -->\n<g class=\"node\" id=\"node4\">\n<title>3</title>\n<polygon fill=\"#e58139\" points=\"110,-655.5 0,-655.5 0,-587.5 110,-587.5 110,-655.5\" stroke=\"#000000\"/>\n<text fill=\"#000000\" font-family=\"Times,serif\" font-size=\"14.00\" text-anchor=\"middle\" x=\"55\" y=\"-640.3\">entropy = 0.0</text>\n<text fill=\"#000000\" font-family=\"Times,serif\" font-size=\"14.00\" text-anchor=\"middle\" x=\"55\" y=\"-625.3\">samples = 392</text>\n<text fill=\"#000000\" font-family=\"Times,serif\" font-size=\"14.00\" text-anchor=\"middle\" x=\"55\" y=\"-610.3\">value = [392, 0]</text>\n<text fill=\"#000000\" font-family=\"Times,serif\" font-size=\"14.00\" text-anchor=\"middle\" x=\"55\" y=\"-595.3\">class = 2</text>\n</g>\n<!-- 2&#45;&gt;3 -->\n<g class=\"edge\" id=\"edge3\">\n<title>2-&gt;3</title>\n<path d=\"M138.2318,-698.8796C125.6944,-687.2237 112.0716,-674.5587 99.547,-662.9148\" fill=\"none\" stroke=\"#000000\"/>\n<polygon fill=\"#000000\" points=\"101.6172,-660.0605 91.9102,-655.8149 96.8509,-665.1872 101.6172,-660.0605\" stroke=\"#000000\"/>\n</g>\n<!-- 4 -->\n<g class=\"node\" id=\"node5\">\n<title>4</title>\n<polygon fill=\"#9ccef2\" points=\"238,-663 128,-663 128,-580 238,-580 238,-663\" stroke=\"#000000\"/>\n<text fill=\"#000000\" font-family=\"Times,serif\" font-size=\"14.00\" text-anchor=\"middle\" x=\"183\" y=\"-647.8\">X[2] &lt;= 2.0</text>\n<text fill=\"#000000\" font-family=\"Times,serif\" font-size=\"14.00\" text-anchor=\"middle\" x=\"183\" y=\"-632.8\">entropy = 0.918</text>\n<text fill=\"#000000\" font-family=\"Times,serif\" font-size=\"14.00\" text-anchor=\"middle\" x=\"183\" y=\"-617.8\">samples = 3</text>\n<text fill=\"#000000\" font-family=\"Times,serif\" font-size=\"14.00\" text-anchor=\"middle\" x=\"183\" y=\"-602.8\">value = [1, 2]</text>\n<text fill=\"#000000\" font-family=\"Times,serif\" font-size=\"14.00\" text-anchor=\"middle\" x=\"183\" y=\"-587.8\">class = 4</text>\n</g>\n<!-- 2&#45;&gt;4 -->\n<g class=\"edge\" id=\"edge4\">\n<title>2-&gt;4</title>\n<path d=\"M183,-698.8796C183,-690.6838 183,-681.9891 183,-673.5013\" fill=\"none\" stroke=\"#000000\"/>\n<polygon fill=\"#000000\" points=\"186.5001,-673.298 183,-663.2981 179.5001,-673.2981 186.5001,-673.298\" stroke=\"#000000\"/>\n</g>\n<!-- 5 -->\n<g class=\"node\" id=\"node6\">\n<title>5</title>\n<polygon fill=\"#e58139\" points=\"126.5,-536.5 31.5,-536.5 31.5,-468.5 126.5,-468.5 126.5,-536.5\" stroke=\"#000000\"/>\n<text fill=\"#000000\" font-family=\"Times,serif\" font-size=\"14.00\" text-anchor=\"middle\" x=\"79\" y=\"-521.3\">entropy = 0.0</text>\n<text fill=\"#000000\" font-family=\"Times,serif\" font-size=\"14.00\" text-anchor=\"middle\" x=\"79\" y=\"-506.3\">samples = 1</text>\n<text fill=\"#000000\" font-family=\"Times,serif\" font-size=\"14.00\" text-anchor=\"middle\" x=\"79\" y=\"-491.3\">value = [1, 0]</text>\n<text fill=\"#000000\" font-family=\"Times,serif\" font-size=\"14.00\" text-anchor=\"middle\" x=\"79\" y=\"-476.3\">class = 2</text>\n</g>\n<!-- 4&#45;&gt;5 -->\n<g class=\"edge\" id=\"edge5\">\n<title>4-&gt;5</title>\n<path d=\"M146.6258,-579.8796C136.6314,-568.4436 125.788,-556.0363 115.7714,-544.575\" fill=\"none\" stroke=\"#000000\"/>\n<polygon fill=\"#000000\" points=\"118.2055,-542.0414 108.9895,-536.8149 112.9347,-546.6479 118.2055,-542.0414\" stroke=\"#000000\"/>\n</g>\n<!-- 6 -->\n<g class=\"node\" id=\"node7\">\n<title>6</title>\n<polygon fill=\"#399de5\" points=\"239.5,-536.5 144.5,-536.5 144.5,-468.5 239.5,-468.5 239.5,-536.5\" stroke=\"#000000\"/>\n<text fill=\"#000000\" font-family=\"Times,serif\" font-size=\"14.00\" text-anchor=\"middle\" x=\"192\" y=\"-521.3\">entropy = 0.0</text>\n<text fill=\"#000000\" font-family=\"Times,serif\" font-size=\"14.00\" text-anchor=\"middle\" x=\"192\" y=\"-506.3\">samples = 2</text>\n<text fill=\"#000000\" font-family=\"Times,serif\" font-size=\"14.00\" text-anchor=\"middle\" x=\"192\" y=\"-491.3\">value = [0, 2]</text>\n<text fill=\"#000000\" font-family=\"Times,serif\" font-size=\"14.00\" text-anchor=\"middle\" x=\"192\" y=\"-476.3\">class = 4</text>\n</g>\n<!-- 4&#45;&gt;6 -->\n<g class=\"edge\" id=\"edge6\">\n<title>4-&gt;6</title>\n<path d=\"M186.1478,-579.8796C186.9545,-569.2134 187.8251,-557.7021 188.6419,-546.9015\" fill=\"none\" stroke=\"#000000\"/>\n<polygon fill=\"#000000\" points=\"192.1405,-547.0504 189.4048,-536.8149 185.1605,-546.5225 192.1405,-547.0504\" stroke=\"#000000\"/>\n</g>\n<!-- 8 -->\n<g class=\"node\" id=\"node9\">\n<title>8</title>\n<polygon fill=\"#e58139\" points=\"357.5,-655.5 256.5,-655.5 256.5,-587.5 357.5,-587.5 357.5,-655.5\" stroke=\"#000000\"/>\n<text fill=\"#000000\" font-family=\"Times,serif\" font-size=\"14.00\" text-anchor=\"middle\" x=\"307\" y=\"-640.3\">entropy = 0.0</text>\n<text fill=\"#000000\" font-family=\"Times,serif\" font-size=\"14.00\" text-anchor=\"middle\" x=\"307\" y=\"-625.3\">samples = 11</text>\n<text fill=\"#000000\" font-family=\"Times,serif\" font-size=\"14.00\" text-anchor=\"middle\" x=\"307\" y=\"-610.3\">value = [11, 0]</text>\n<text fill=\"#000000\" font-family=\"Times,serif\" font-size=\"14.00\" text-anchor=\"middle\" x=\"307\" y=\"-595.3\">class = 2</text>\n</g>\n<!-- 7&#45;&gt;8 -->\n<g class=\"edge\" id=\"edge8\">\n<title>7-&gt;8</title>\n<path d=\"M347.3154,-698.8796C341.5864,-687.8835 335.3894,-675.9893 329.6126,-664.9015\" fill=\"none\" stroke=\"#000000\"/>\n<polygon fill=\"#000000\" points=\"332.603,-663.0662 324.8784,-655.8149 326.395,-666.3007 332.603,-663.0662\" stroke=\"#000000\"/>\n</g>\n<!-- 9 -->\n<g class=\"node\" id=\"node10\">\n<title>9</title>\n<polygon fill=\"#61b1ea\" points=\"478.5,-663 375.5,-663 375.5,-580 478.5,-580 478.5,-663\" stroke=\"#000000\"/>\n<text fill=\"#000000\" font-family=\"Times,serif\" font-size=\"14.00\" text-anchor=\"middle\" x=\"427\" y=\"-647.8\">X[6] &lt;= 2.5</text>\n<text fill=\"#000000\" font-family=\"Times,serif\" font-size=\"14.00\" text-anchor=\"middle\" x=\"427\" y=\"-632.8\">entropy = 0.65</text>\n<text fill=\"#000000\" font-family=\"Times,serif\" font-size=\"14.00\" text-anchor=\"middle\" x=\"427\" y=\"-617.8\">samples = 12</text>\n<text fill=\"#000000\" font-family=\"Times,serif\" font-size=\"14.00\" text-anchor=\"middle\" x=\"427\" y=\"-602.8\">value = [2, 10]</text>\n<text fill=\"#000000\" font-family=\"Times,serif\" font-size=\"14.00\" text-anchor=\"middle\" x=\"427\" y=\"-587.8\">class = 4</text>\n</g>\n<!-- 7&#45;&gt;9 -->\n<g class=\"edge\" id=\"edge9\">\n<title>7-&gt;9</title>\n<path d=\"M389.2856,-698.8796C393.4557,-690.3236 397.8909,-681.2238 402.1997,-672.3833\" fill=\"none\" stroke=\"#000000\"/>\n<polygon fill=\"#000000\" points=\"405.3927,-673.8207 406.6278,-663.2981 399.1003,-670.7538 405.3927,-673.8207\" stroke=\"#000000\"/>\n</g>\n<!-- 10 -->\n<g class=\"node\" id=\"node11\">\n<title>10</title>\n<polygon fill=\"#ffffff\" points=\"361.5,-544 266.5,-544 266.5,-461 361.5,-461 361.5,-544\" stroke=\"#000000\"/>\n<text fill=\"#000000\" font-family=\"Times,serif\" font-size=\"14.00\" text-anchor=\"middle\" x=\"314\" y=\"-528.8\">X[3] &lt;= 3.5</text>\n<text fill=\"#000000\" font-family=\"Times,serif\" font-size=\"14.00\" text-anchor=\"middle\" x=\"314\" y=\"-513.8\">entropy = 1.0</text>\n<text fill=\"#000000\" font-family=\"Times,serif\" font-size=\"14.00\" text-anchor=\"middle\" x=\"314\" y=\"-498.8\">samples = 4</text>\n<text fill=\"#000000\" font-family=\"Times,serif\" font-size=\"14.00\" text-anchor=\"middle\" x=\"314\" y=\"-483.8\">value = [2, 2]</text>\n<text fill=\"#000000\" font-family=\"Times,serif\" font-size=\"14.00\" text-anchor=\"middle\" x=\"314\" y=\"-468.8\">class = 2</text>\n</g>\n<!-- 9&#45;&gt;10 -->\n<g class=\"edge\" id=\"edge10\">\n<title>9-&gt;10</title>\n<path d=\"M387.4781,-579.8796C378.8403,-570.7832 369.619,-561.0722 360.7303,-551.7116\" fill=\"none\" stroke=\"#000000\"/>\n<polygon fill=\"#000000\" points=\"363.1146,-549.1395 353.6906,-544.2981 358.0385,-553.9597 363.1146,-549.1395\" stroke=\"#000000\"/>\n</g>\n<!-- 13 -->\n<g class=\"node\" id=\"node14\">\n<title>13</title>\n<polygon fill=\"#399de5\" points=\"474.5,-536.5 379.5,-536.5 379.5,-468.5 474.5,-468.5 474.5,-536.5\" stroke=\"#000000\"/>\n<text fill=\"#000000\" font-family=\"Times,serif\" font-size=\"14.00\" text-anchor=\"middle\" x=\"427\" y=\"-521.3\">entropy = 0.0</text>\n<text fill=\"#000000\" font-family=\"Times,serif\" font-size=\"14.00\" text-anchor=\"middle\" x=\"427\" y=\"-506.3\">samples = 8</text>\n<text fill=\"#000000\" font-family=\"Times,serif\" font-size=\"14.00\" text-anchor=\"middle\" x=\"427\" y=\"-491.3\">value = [0, 8]</text>\n<text fill=\"#000000\" font-family=\"Times,serif\" font-size=\"14.00\" text-anchor=\"middle\" x=\"427\" y=\"-476.3\">class = 4</text>\n</g>\n<!-- 9&#45;&gt;13 -->\n<g class=\"edge\" id=\"edge13\">\n<title>9-&gt;13</title>\n<path d=\"M427,-579.8796C427,-569.2134 427,-557.7021 427,-546.9015\" fill=\"none\" stroke=\"#000000\"/>\n<polygon fill=\"#000000\" points=\"430.5001,-546.8149 427,-536.8149 423.5001,-546.815 430.5001,-546.8149\" stroke=\"#000000\"/>\n</g>\n<!-- 11 -->\n<g class=\"node\" id=\"node12\">\n<title>11</title>\n<polygon fill=\"#399de5\" points=\"276.5,-417.5 181.5,-417.5 181.5,-349.5 276.5,-349.5 276.5,-417.5\" stroke=\"#000000\"/>\n<text fill=\"#000000\" font-family=\"Times,serif\" font-size=\"14.00\" text-anchor=\"middle\" x=\"229\" y=\"-402.3\">entropy = 0.0</text>\n<text fill=\"#000000\" font-family=\"Times,serif\" font-size=\"14.00\" text-anchor=\"middle\" x=\"229\" y=\"-387.3\">samples = 2</text>\n<text fill=\"#000000\" font-family=\"Times,serif\" font-size=\"14.00\" text-anchor=\"middle\" x=\"229\" y=\"-372.3\">value = [0, 2]</text>\n<text fill=\"#000000\" font-family=\"Times,serif\" font-size=\"14.00\" text-anchor=\"middle\" x=\"229\" y=\"-357.3\">class = 4</text>\n</g>\n<!-- 10&#45;&gt;11 -->\n<g class=\"edge\" id=\"edge11\">\n<title>10-&gt;11</title>\n<path d=\"M284.2711,-460.8796C276.2597,-449.6636 267.5808,-437.5131 259.5266,-426.2372\" fill=\"none\" stroke=\"#000000\"/>\n<polygon fill=\"#000000\" points=\"262.1712,-423.9179 253.5107,-417.8149 256.475,-427.9866 262.1712,-423.9179\" stroke=\"#000000\"/>\n</g>\n<!-- 12 -->\n<g class=\"node\" id=\"node13\">\n<title>12</title>\n<polygon fill=\"#e58139\" points=\"389.5,-417.5 294.5,-417.5 294.5,-349.5 389.5,-349.5 389.5,-417.5\" stroke=\"#000000\"/>\n<text fill=\"#000000\" font-family=\"Times,serif\" font-size=\"14.00\" text-anchor=\"middle\" x=\"342\" y=\"-402.3\">entropy = 0.0</text>\n<text fill=\"#000000\" font-family=\"Times,serif\" font-size=\"14.00\" text-anchor=\"middle\" x=\"342\" y=\"-387.3\">samples = 2</text>\n<text fill=\"#000000\" font-family=\"Times,serif\" font-size=\"14.00\" text-anchor=\"middle\" x=\"342\" y=\"-372.3\">value = [2, 0]</text>\n<text fill=\"#000000\" font-family=\"Times,serif\" font-size=\"14.00\" text-anchor=\"middle\" x=\"342\" y=\"-357.3\">class = 2</text>\n</g>\n<!-- 10&#45;&gt;12 -->\n<g class=\"edge\" id=\"edge12\">\n<title>10-&gt;12</title>\n<path d=\"M323.793,-460.8796C326.3286,-450.1034 329.0671,-438.4647 331.6311,-427.5677\" fill=\"none\" stroke=\"#000000\"/>\n<polygon fill=\"#000000\" points=\"335.0424,-428.3508 333.9259,-417.8149 328.2285,-426.7474 335.0424,-428.3508\" stroke=\"#000000\"/>\n</g>\n<!-- 15 -->\n<g class=\"node\" id=\"node16\">\n<title>15</title>\n<polygon fill=\"#b7dbf6\" points=\"816,-782 706,-782 706,-699 816,-699 816,-782\" stroke=\"#000000\"/>\n<text fill=\"#000000\" font-family=\"Times,serif\" font-size=\"14.00\" text-anchor=\"middle\" x=\"761\" y=\"-766.8\">X[5] &lt;= 2.5</text>\n<text fill=\"#000000\" font-family=\"Times,serif\" font-size=\"14.00\" text-anchor=\"middle\" x=\"761\" y=\"-751.8\">entropy = 0.964</text>\n<text fill=\"#000000\" font-family=\"Times,serif\" font-size=\"14.00\" text-anchor=\"middle\" x=\"761\" y=\"-736.8\">samples = 90</text>\n<text fill=\"#000000\" font-family=\"Times,serif\" font-size=\"14.00\" text-anchor=\"middle\" x=\"761\" y=\"-721.8\">value = [35, 55]</text>\n<text fill=\"#000000\" font-family=\"Times,serif\" font-size=\"14.00\" text-anchor=\"middle\" x=\"761\" y=\"-706.8\">class = 4</text>\n</g>\n<!-- 14&#45;&gt;15 -->\n<g class=\"edge\" id=\"edge15\">\n<title>14-&gt;15</title>\n<path d=\"M761,-817.8796C761,-809.6838 761,-800.9891 761,-792.5013\" fill=\"none\" stroke=\"#000000\"/>\n<polygon fill=\"#000000\" points=\"764.5001,-792.298 761,-782.2981 757.5001,-792.2981 764.5001,-792.298\" stroke=\"#000000\"/>\n</g>\n<!-- 46 -->\n<g class=\"node\" id=\"node47\">\n<title>46</title>\n<polygon fill=\"#3c9fe5\" points=\"1413,-782 1303,-782 1303,-699 1413,-699 1413,-782\" stroke=\"#000000\"/>\n<text fill=\"#000000\" font-family=\"Times,serif\" font-size=\"14.00\" text-anchor=\"middle\" x=\"1358\" y=\"-766.8\">X[6] &lt;= 4.5</text>\n<text fill=\"#000000\" font-family=\"Times,serif\" font-size=\"14.00\" text-anchor=\"middle\" x=\"1358\" y=\"-751.8\">entropy = 0.125</text>\n<text fill=\"#000000\" font-family=\"Times,serif\" font-size=\"14.00\" text-anchor=\"middle\" x=\"1358\" y=\"-736.8\">samples = 175</text>\n<text fill=\"#000000\" font-family=\"Times,serif\" font-size=\"14.00\" text-anchor=\"middle\" x=\"1358\" y=\"-721.8\">value = [3, 172]</text>\n<text fill=\"#000000\" font-family=\"Times,serif\" font-size=\"14.00\" text-anchor=\"middle\" x=\"1358\" y=\"-706.8\">class = 4</text>\n</g>\n<!-- 14&#45;&gt;46 -->\n<g class=\"edge\" id=\"edge46\">\n<title>14-&gt;46</title>\n<path d=\"M819.6029,-847.8187C931.7905,-825.4563 1176.1282,-776.7525 1293.0829,-753.4399\" fill=\"none\" stroke=\"#000000\"/>\n<polygon fill=\"#000000\" points=\"1293.8552,-756.8549 1302.9781,-751.4675 1292.4868,-749.99 1293.8552,-756.8549\" stroke=\"#000000\"/>\n</g>\n<!-- 16 -->\n<g class=\"node\" id=\"node17\">\n<title>16</title>\n<polygon fill=\"#ea9a61\" points=\"719.5,-663 616.5,-663 616.5,-580 719.5,-580 719.5,-663\" stroke=\"#000000\"/>\n<text fill=\"#000000\" font-family=\"Times,serif\" font-size=\"14.00\" text-anchor=\"middle\" x=\"668\" y=\"-647.8\">X[7] &lt;= 2.5</text>\n<text fill=\"#000000\" font-family=\"Times,serif\" font-size=\"14.00\" text-anchor=\"middle\" x=\"668\" y=\"-632.8\">entropy = 0.65</text>\n<text fill=\"#000000\" font-family=\"Times,serif\" font-size=\"14.00\" text-anchor=\"middle\" x=\"668\" y=\"-617.8\">samples = 30</text>\n<text fill=\"#000000\" font-family=\"Times,serif\" font-size=\"14.00\" text-anchor=\"middle\" x=\"668\" y=\"-602.8\">value = [25, 5]</text>\n<text fill=\"#000000\" font-family=\"Times,serif\" font-size=\"14.00\" text-anchor=\"middle\" x=\"668\" y=\"-587.8\">class = 2</text>\n</g>\n<!-- 15&#45;&gt;16 -->\n<g class=\"edge\" id=\"edge16\">\n<title>15-&gt;16</title>\n<path d=\"M728.4731,-698.8796C721.5049,-689.9633 714.0753,-680.4565 706.8944,-671.268\" fill=\"none\" stroke=\"#000000\"/>\n<polygon fill=\"#000000\" points=\"709.5812,-669.0221 700.6657,-663.2981 704.0657,-673.3326 709.5812,-669.0221\" stroke=\"#000000\"/>\n</g>\n<!-- 25 -->\n<g class=\"node\" id=\"node26\">\n<title>25</title>\n<polygon fill=\"#61b1ea\" points=\"910,-663 800,-663 800,-580 910,-580 910,-663\" stroke=\"#000000\"/>\n<text fill=\"#000000\" font-family=\"Times,serif\" font-size=\"14.00\" text-anchor=\"middle\" x=\"855\" y=\"-647.8\">X[0] &lt;= 6.5</text>\n<text fill=\"#000000\" font-family=\"Times,serif\" font-size=\"14.00\" text-anchor=\"middle\" x=\"855\" y=\"-632.8\">entropy = 0.65</text>\n<text fill=\"#000000\" font-family=\"Times,serif\" font-size=\"14.00\" text-anchor=\"middle\" x=\"855\" y=\"-617.8\">samples = 60</text>\n<text fill=\"#000000\" font-family=\"Times,serif\" font-size=\"14.00\" text-anchor=\"middle\" x=\"855\" y=\"-602.8\">value = [10, 50]</text>\n<text fill=\"#000000\" font-family=\"Times,serif\" font-size=\"14.00\" text-anchor=\"middle\" x=\"855\" y=\"-587.8\">class = 4</text>\n</g>\n<!-- 15&#45;&gt;25 -->\n<g class=\"edge\" id=\"edge25\">\n<title>15-&gt;25</title>\n<path d=\"M793.8766,-698.8796C800.9197,-689.9633 808.4293,-680.4565 815.6874,-671.268\" fill=\"none\" stroke=\"#000000\"/>\n<polygon fill=\"#000000\" points=\"818.5309,-673.3147 821.983,-663.2981 813.0379,-668.9757 818.5309,-673.3147\" stroke=\"#000000\"/>\n</g>\n<!-- 17 -->\n<g class=\"node\" id=\"node18\">\n<title>17</title>\n<polygon fill=\"#e58139\" points=\"595,-536.5 493,-536.5 493,-468.5 595,-468.5 595,-536.5\" stroke=\"#000000\"/>\n<text fill=\"#000000\" font-family=\"Times,serif\" font-size=\"14.00\" text-anchor=\"middle\" x=\"544\" y=\"-521.3\">entropy = 0.0</text>\n<text fill=\"#000000\" font-family=\"Times,serif\" font-size=\"14.00\" text-anchor=\"middle\" x=\"544\" y=\"-506.3\">samples = 19</text>\n<text fill=\"#000000\" font-family=\"Times,serif\" font-size=\"14.00\" text-anchor=\"middle\" x=\"544\" y=\"-491.3\">value = [19, 0]</text>\n<text fill=\"#000000\" font-family=\"Times,serif\" font-size=\"14.00\" text-anchor=\"middle\" x=\"544\" y=\"-476.3\">class = 2</text>\n</g>\n<!-- 16&#45;&gt;17 -->\n<g class=\"edge\" id=\"edge17\">\n<title>16-&gt;17</title>\n<path d=\"M624.6308,-579.8796C612.4852,-568.2237 599.2881,-555.5587 587.1549,-543.9148\" fill=\"none\" stroke=\"#000000\"/>\n<polygon fill=\"#000000\" points=\"589.3953,-541.2138 579.7567,-536.8149 584.5484,-546.2643 589.3953,-541.2138\" stroke=\"#000000\"/>\n</g>\n<!-- 18 -->\n<g class=\"node\" id=\"node19\">\n<title>18</title>\n<polygon fill=\"#fbeade\" points=\"723,-544 613,-544 613,-461 723,-461 723,-544\" stroke=\"#000000\"/>\n<text fill=\"#000000\" font-family=\"Times,serif\" font-size=\"14.00\" text-anchor=\"middle\" x=\"668\" y=\"-528.8\">X[3] &lt;= 3.5</text>\n<text fill=\"#000000\" font-family=\"Times,serif\" font-size=\"14.00\" text-anchor=\"middle\" x=\"668\" y=\"-513.8\">entropy = 0.994</text>\n<text fill=\"#000000\" font-family=\"Times,serif\" font-size=\"14.00\" text-anchor=\"middle\" x=\"668\" y=\"-498.8\">samples = 11</text>\n<text fill=\"#000000\" font-family=\"Times,serif\" font-size=\"14.00\" text-anchor=\"middle\" x=\"668\" y=\"-483.8\">value = [6, 5]</text>\n<text fill=\"#000000\" font-family=\"Times,serif\" font-size=\"14.00\" text-anchor=\"middle\" x=\"668\" y=\"-468.8\">class = 2</text>\n</g>\n<!-- 16&#45;&gt;18 -->\n<g class=\"edge\" id=\"edge18\">\n<title>16-&gt;18</title>\n<path d=\"M668,-579.8796C668,-571.6838 668,-562.9891 668,-554.5013\" fill=\"none\" stroke=\"#000000\"/>\n<polygon fill=\"#000000\" points=\"671.5001,-554.298 668,-544.2981 664.5001,-554.2981 671.5001,-554.298\" stroke=\"#000000\"/>\n</g>\n<!-- 19 -->\n<g class=\"node\" id=\"node20\">\n<title>19</title>\n<polygon fill=\"#eeab7b\" points=\"574,-425 464,-425 464,-342 574,-342 574,-425\" stroke=\"#000000\"/>\n<text fill=\"#000000\" font-family=\"Times,serif\" font-size=\"14.00\" text-anchor=\"middle\" x=\"519\" y=\"-409.8\">X[0] &lt;= 5.5</text>\n<text fill=\"#000000\" font-family=\"Times,serif\" font-size=\"14.00\" text-anchor=\"middle\" x=\"519\" y=\"-394.8\">entropy = 0.811</text>\n<text fill=\"#000000\" font-family=\"Times,serif\" font-size=\"14.00\" text-anchor=\"middle\" x=\"519\" y=\"-379.8\">samples = 8</text>\n<text fill=\"#000000\" font-family=\"Times,serif\" font-size=\"14.00\" text-anchor=\"middle\" x=\"519\" y=\"-364.8\">value = [6, 2]</text>\n<text fill=\"#000000\" font-family=\"Times,serif\" font-size=\"14.00\" text-anchor=\"middle\" x=\"519\" y=\"-349.8\">class = 2</text>\n</g>\n<!-- 18&#45;&gt;19 -->\n<g class=\"edge\" id=\"edge19\">\n<title>18-&gt;19</title>\n<path d=\"M615.887,-460.8796C603.9775,-451.368 591.2266,-441.1843 579.0156,-431.432\" fill=\"none\" stroke=\"#000000\"/>\n<polygon fill=\"#000000\" points=\"581.0816,-428.6027 571.0835,-425.0969 576.7132,-434.0724 581.0816,-428.6027\" stroke=\"#000000\"/>\n</g>\n<!-- 24 -->\n<g class=\"node\" id=\"node25\">\n<title>24</title>\n<polygon fill=\"#399de5\" points=\"687.5,-417.5 592.5,-417.5 592.5,-349.5 687.5,-349.5 687.5,-417.5\" stroke=\"#000000\"/>\n<text fill=\"#000000\" font-family=\"Times,serif\" font-size=\"14.00\" text-anchor=\"middle\" x=\"640\" y=\"-402.3\">entropy = 0.0</text>\n<text fill=\"#000000\" font-family=\"Times,serif\" font-size=\"14.00\" text-anchor=\"middle\" x=\"640\" y=\"-387.3\">samples = 3</text>\n<text fill=\"#000000\" font-family=\"Times,serif\" font-size=\"14.00\" text-anchor=\"middle\" x=\"640\" y=\"-372.3\">value = [0, 3]</text>\n<text fill=\"#000000\" font-family=\"Times,serif\" font-size=\"14.00\" text-anchor=\"middle\" x=\"640\" y=\"-357.3\">class = 4</text>\n</g>\n<!-- 18&#45;&gt;24 -->\n<g class=\"edge\" id=\"edge24\">\n<title>18-&gt;24</title>\n<path d=\"M658.207,-460.8796C655.6714,-450.1034 652.9329,-438.4647 650.3689,-427.5677\" fill=\"none\" stroke=\"#000000\"/>\n<polygon fill=\"#000000\" points=\"653.7715,-426.7474 648.0741,-417.8149 646.9576,-428.3508 653.7715,-426.7474\" stroke=\"#000000\"/>\n</g>\n<!-- 20 -->\n<g class=\"node\" id=\"node21\">\n<title>20</title>\n<polygon fill=\"#e58139\" points=\"445.5,-298.5 350.5,-298.5 350.5,-230.5 445.5,-230.5 445.5,-298.5\" stroke=\"#000000\"/>\n<text fill=\"#000000\" font-family=\"Times,serif\" font-size=\"14.00\" text-anchor=\"middle\" x=\"398\" y=\"-283.3\">entropy = 0.0</text>\n<text fill=\"#000000\" font-family=\"Times,serif\" font-size=\"14.00\" text-anchor=\"middle\" x=\"398\" y=\"-268.3\">samples = 5</text>\n<text fill=\"#000000\" font-family=\"Times,serif\" font-size=\"14.00\" text-anchor=\"middle\" x=\"398\" y=\"-253.3\">value = [5, 0]</text>\n<text fill=\"#000000\" font-family=\"Times,serif\" font-size=\"14.00\" text-anchor=\"middle\" x=\"398\" y=\"-238.3\">class = 2</text>\n</g>\n<!-- 19&#45;&gt;20 -->\n<g class=\"edge\" id=\"edge20\">\n<title>19-&gt;20</title>\n<path d=\"M476.6801,-341.8796C464.8283,-330.2237 451.9505,-317.5587 440.1109,-305.9148\" fill=\"none\" stroke=\"#000000\"/>\n<polygon fill=\"#000000\" points=\"442.4756,-303.3314 432.8917,-298.8149 437.5673,-308.3223 442.4756,-303.3314\" stroke=\"#000000\"/>\n</g>\n<!-- 21 -->\n<g class=\"node\" id=\"node22\">\n<title>21</title>\n<polygon fill=\"#9ccef2\" points=\"574,-306 464,-306 464,-223 574,-223 574,-306\" stroke=\"#000000\"/>\n<text fill=\"#000000\" font-family=\"Times,serif\" font-size=\"14.00\" text-anchor=\"middle\" x=\"519\" y=\"-290.8\">X[3] &lt;= 2.0</text>\n<text fill=\"#000000\" font-family=\"Times,serif\" font-size=\"14.00\" text-anchor=\"middle\" x=\"519\" y=\"-275.8\">entropy = 0.918</text>\n<text fill=\"#000000\" font-family=\"Times,serif\" font-size=\"14.00\" text-anchor=\"middle\" x=\"519\" y=\"-260.8\">samples = 3</text>\n<text fill=\"#000000\" font-family=\"Times,serif\" font-size=\"14.00\" text-anchor=\"middle\" x=\"519\" y=\"-245.8\">value = [1, 2]</text>\n<text fill=\"#000000\" font-family=\"Times,serif\" font-size=\"14.00\" text-anchor=\"middle\" x=\"519\" y=\"-230.8\">class = 4</text>\n</g>\n<!-- 19&#45;&gt;21 -->\n<g class=\"edge\" id=\"edge21\">\n<title>19-&gt;21</title>\n<path d=\"M519,-341.8796C519,-333.6838 519,-324.9891 519,-316.5013\" fill=\"none\" stroke=\"#000000\"/>\n<polygon fill=\"#000000\" points=\"522.5001,-316.298 519,-306.2981 515.5001,-316.2981 522.5001,-316.298\" stroke=\"#000000\"/>\n</g>\n<!-- 22 -->\n<g class=\"node\" id=\"node23\">\n<title>22</title>\n<polygon fill=\"#399de5\" points=\"454.5,-179.5 359.5,-179.5 359.5,-111.5 454.5,-111.5 454.5,-179.5\" stroke=\"#000000\"/>\n<text fill=\"#000000\" font-family=\"Times,serif\" font-size=\"14.00\" text-anchor=\"middle\" x=\"407\" y=\"-164.3\">entropy = 0.0</text>\n<text fill=\"#000000\" font-family=\"Times,serif\" font-size=\"14.00\" text-anchor=\"middle\" x=\"407\" y=\"-149.3\">samples = 2</text>\n<text fill=\"#000000\" font-family=\"Times,serif\" font-size=\"14.00\" text-anchor=\"middle\" x=\"407\" y=\"-134.3\">value = [0, 2]</text>\n<text fill=\"#000000\" font-family=\"Times,serif\" font-size=\"14.00\" text-anchor=\"middle\" x=\"407\" y=\"-119.3\">class = 4</text>\n</g>\n<!-- 21&#45;&gt;22 -->\n<g class=\"edge\" id=\"edge22\">\n<title>21-&gt;22</title>\n<path d=\"M479.8278,-222.8796C468.9611,-211.3337 457.1624,-198.7976 446.2891,-187.2446\" fill=\"none\" stroke=\"#000000\"/>\n<polygon fill=\"#000000\" points=\"448.6988,-184.6982 439.2964,-179.8149 443.6014,-189.4958 448.6988,-184.6982\" stroke=\"#000000\"/>\n</g>\n<!-- 23 -->\n<g class=\"node\" id=\"node24\">\n<title>23</title>\n<polygon fill=\"#e58139\" points=\"567.5,-179.5 472.5,-179.5 472.5,-111.5 567.5,-111.5 567.5,-179.5\" stroke=\"#000000\"/>\n<text fill=\"#000000\" font-family=\"Times,serif\" font-size=\"14.00\" text-anchor=\"middle\" x=\"520\" y=\"-164.3\">entropy = 0.0</text>\n<text fill=\"#000000\" font-family=\"Times,serif\" font-size=\"14.00\" text-anchor=\"middle\" x=\"520\" y=\"-149.3\">samples = 1</text>\n<text fill=\"#000000\" font-family=\"Times,serif\" font-size=\"14.00\" text-anchor=\"middle\" x=\"520\" y=\"-134.3\">value = [1, 0]</text>\n<text fill=\"#000000\" font-family=\"Times,serif\" font-size=\"14.00\" text-anchor=\"middle\" x=\"520\" y=\"-119.3\">class = 2</text>\n</g>\n<!-- 21&#45;&gt;23 -->\n<g class=\"edge\" id=\"edge23\">\n<title>21-&gt;23</title>\n<path d=\"M519.3498,-222.8796C519.4394,-212.2134 519.5361,-200.7021 519.6269,-189.9015\" fill=\"none\" stroke=\"#000000\"/>\n<polygon fill=\"#000000\" points=\"523.1274,-189.844 519.7116,-179.8149 516.1276,-189.7851 523.1274,-189.844\" stroke=\"#000000\"/>\n</g>\n<!-- 26 -->\n<g class=\"node\" id=\"node27\">\n<title>26</title>\n<polygon fill=\"#97cbf1\" points=\"910,-544 800,-544 800,-461 910,-461 910,-544\" stroke=\"#000000\"/>\n<text fill=\"#000000\" font-family=\"Times,serif\" font-size=\"14.00\" text-anchor=\"middle\" x=\"855\" y=\"-528.8\">X[6] &lt;= 3.5</text>\n<text fill=\"#000000\" font-family=\"Times,serif\" font-size=\"14.00\" text-anchor=\"middle\" x=\"855\" y=\"-513.8\">entropy = 0.906</text>\n<text fill=\"#000000\" font-family=\"Times,serif\" font-size=\"14.00\" text-anchor=\"middle\" x=\"855\" y=\"-498.8\">samples = 28</text>\n<text fill=\"#000000\" font-family=\"Times,serif\" font-size=\"14.00\" text-anchor=\"middle\" x=\"855\" y=\"-483.8\">value = [9, 19]</text>\n<text fill=\"#000000\" font-family=\"Times,serif\" font-size=\"14.00\" text-anchor=\"middle\" x=\"855\" y=\"-468.8\">class = 4</text>\n</g>\n<!-- 25&#45;&gt;26 -->\n<g class=\"edge\" id=\"edge26\">\n<title>25-&gt;26</title>\n<path d=\"M855,-579.8796C855,-571.6838 855,-562.9891 855,-554.5013\" fill=\"none\" stroke=\"#000000\"/>\n<polygon fill=\"#000000\" points=\"858.5001,-554.298 855,-544.2981 851.5001,-554.2981 858.5001,-554.298\" stroke=\"#000000\"/>\n</g>\n<!-- 39 -->\n<g class=\"node\" id=\"node40\">\n<title>39</title>\n<polygon fill=\"#3fa0e6\" points=\"1165,-544 1055,-544 1055,-461 1165,-461 1165,-544\" stroke=\"#000000\"/>\n<text fill=\"#000000\" font-family=\"Times,serif\" font-size=\"14.00\" text-anchor=\"middle\" x=\"1110\" y=\"-528.8\">X[5] &lt;= 7.5</text>\n<text fill=\"#000000\" font-family=\"Times,serif\" font-size=\"14.00\" text-anchor=\"middle\" x=\"1110\" y=\"-513.8\">entropy = 0.201</text>\n<text fill=\"#000000\" font-family=\"Times,serif\" font-size=\"14.00\" text-anchor=\"middle\" x=\"1110\" y=\"-498.8\">samples = 32</text>\n<text fill=\"#000000\" font-family=\"Times,serif\" font-size=\"14.00\" text-anchor=\"middle\" x=\"1110\" y=\"-483.8\">value = [1, 31]</text>\n<text fill=\"#000000\" font-family=\"Times,serif\" font-size=\"14.00\" text-anchor=\"middle\" x=\"1110\" y=\"-468.8\">class = 4</text>\n</g>\n<!-- 25&#45;&gt;39 -->\n<g class=\"edge\" id=\"edge39\">\n<title>25-&gt;39</title>\n<path d=\"M910.0173,-595.8253C949.7636,-577.277 1003.5821,-552.1617 1045.3766,-532.6576\" fill=\"none\" stroke=\"#000000\"/>\n<polygon fill=\"#000000\" points=\"1047.0601,-535.7344 1054.6418,-528.3338 1044.0998,-529.3911 1047.0601,-535.7344\" stroke=\"#000000\"/>\n</g>\n<!-- 27 -->\n<g class=\"node\" id=\"node28\">\n<title>27</title>\n<polygon fill=\"#f6d5bd\" points=\"816,-425 706,-425 706,-342 816,-342 816,-425\" stroke=\"#000000\"/>\n<text fill=\"#000000\" font-family=\"Times,serif\" font-size=\"14.00\" text-anchor=\"middle\" x=\"761\" y=\"-409.8\">X[2] &lt;= 2.5</text>\n<text fill=\"#000000\" font-family=\"Times,serif\" font-size=\"14.00\" text-anchor=\"middle\" x=\"761\" y=\"-394.8\">entropy = 0.971</text>\n<text fill=\"#000000\" font-family=\"Times,serif\" font-size=\"14.00\" text-anchor=\"middle\" x=\"761\" y=\"-379.8\">samples = 10</text>\n<text fill=\"#000000\" font-family=\"Times,serif\" font-size=\"14.00\" text-anchor=\"middle\" x=\"761\" y=\"-364.8\">value = [6, 4]</text>\n<text fill=\"#000000\" font-family=\"Times,serif\" font-size=\"14.00\" text-anchor=\"middle\" x=\"761\" y=\"-349.8\">class = 2</text>\n</g>\n<!-- 26&#45;&gt;27 -->\n<g class=\"edge\" id=\"edge27\">\n<title>26-&gt;27</title>\n<path d=\"M822.1234,-460.8796C815.0803,-451.9633 807.5707,-442.4565 800.3126,-433.268\" fill=\"none\" stroke=\"#000000\"/>\n<polygon fill=\"#000000\" points=\"802.9621,-430.9757 794.017,-425.2981 797.4691,-435.3147 802.9621,-430.9757\" stroke=\"#000000\"/>\n</g>\n<!-- 34 -->\n<g class=\"node\" id=\"node35\">\n<title>34</title>\n<polygon fill=\"#61b1ea\" points=\"937.5,-425 834.5,-425 834.5,-342 937.5,-342 937.5,-425\" stroke=\"#000000\"/>\n<text fill=\"#000000\" font-family=\"Times,serif\" font-size=\"14.00\" text-anchor=\"middle\" x=\"886\" y=\"-409.8\">X[5] &lt;= 6.0</text>\n<text fill=\"#000000\" font-family=\"Times,serif\" font-size=\"14.00\" text-anchor=\"middle\" x=\"886\" y=\"-394.8\">entropy = 0.65</text>\n<text fill=\"#000000\" font-family=\"Times,serif\" font-size=\"14.00\" text-anchor=\"middle\" x=\"886\" y=\"-379.8\">samples = 18</text>\n<text fill=\"#000000\" font-family=\"Times,serif\" font-size=\"14.00\" text-anchor=\"middle\" x=\"886\" y=\"-364.8\">value = [3, 15]</text>\n<text fill=\"#000000\" font-family=\"Times,serif\" font-size=\"14.00\" text-anchor=\"middle\" x=\"886\" y=\"-349.8\">class = 4</text>\n</g>\n<!-- 26&#45;&gt;34 -->\n<g class=\"edge\" id=\"edge34\">\n<title>26-&gt;34</title>\n<path d=\"M865.8423,-460.8796C868.0008,-452.5938 870.2921,-443.798 872.5263,-435.2216\" fill=\"none\" stroke=\"#000000\"/>\n<polygon fill=\"#000000\" points=\"875.9774,-435.8575 875.1114,-425.2981 869.2035,-434.0928 875.9774,-435.8575\" stroke=\"#000000\"/>\n</g>\n<!-- 28 -->\n<g class=\"node\" id=\"node29\">\n<title>28</title>\n<polygon fill=\"#e58139\" points=\"687.5,-298.5 592.5,-298.5 592.5,-230.5 687.5,-230.5 687.5,-298.5\" stroke=\"#000000\"/>\n<text fill=\"#000000\" font-family=\"Times,serif\" font-size=\"14.00\" text-anchor=\"middle\" x=\"640\" y=\"-283.3\">entropy = 0.0</text>\n<text fill=\"#000000\" font-family=\"Times,serif\" font-size=\"14.00\" text-anchor=\"middle\" x=\"640\" y=\"-268.3\">samples = 3</text>\n<text fill=\"#000000\" font-family=\"Times,serif\" font-size=\"14.00\" text-anchor=\"middle\" x=\"640\" y=\"-253.3\">value = [3, 0]</text>\n<text fill=\"#000000\" font-family=\"Times,serif\" font-size=\"14.00\" text-anchor=\"middle\" x=\"640\" y=\"-238.3\">class = 2</text>\n</g>\n<!-- 27&#45;&gt;28 -->\n<g class=\"edge\" id=\"edge28\">\n<title>27-&gt;28</title>\n<path d=\"M718.6801,-341.8796C706.8283,-330.2237 693.9505,-317.5587 682.1109,-305.9148\" fill=\"none\" stroke=\"#000000\"/>\n<polygon fill=\"#000000\" points=\"684.4756,-303.3314 674.8917,-298.8149 679.5673,-308.3223 684.4756,-303.3314\" stroke=\"#000000\"/>\n</g>\n<!-- 29 -->\n<g class=\"node\" id=\"node30\">\n<title>29</title>\n<polygon fill=\"#cee6f8\" points=\"816,-306 706,-306 706,-223 816,-223 816,-306\" stroke=\"#000000\"/>\n<text fill=\"#000000\" font-family=\"Times,serif\" font-size=\"14.00\" text-anchor=\"middle\" x=\"761\" y=\"-290.8\">X[1] &lt;= 3.5</text>\n<text fill=\"#000000\" font-family=\"Times,serif\" font-size=\"14.00\" text-anchor=\"middle\" x=\"761\" y=\"-275.8\">entropy = 0.985</text>\n<text fill=\"#000000\" font-family=\"Times,serif\" font-size=\"14.00\" text-anchor=\"middle\" x=\"761\" y=\"-260.8\">samples = 7</text>\n<text fill=\"#000000\" font-family=\"Times,serif\" font-size=\"14.00\" text-anchor=\"middle\" x=\"761\" y=\"-245.8\">value = [3, 4]</text>\n<text fill=\"#000000\" font-family=\"Times,serif\" font-size=\"14.00\" text-anchor=\"middle\" x=\"761\" y=\"-230.8\">class = 4</text>\n</g>\n<!-- 27&#45;&gt;29 -->\n<g class=\"edge\" id=\"edge29\">\n<title>27-&gt;29</title>\n<path d=\"M761,-341.8796C761,-333.6838 761,-324.9891 761,-316.5013\" fill=\"none\" stroke=\"#000000\"/>\n<polygon fill=\"#000000\" points=\"764.5001,-316.298 761,-306.2981 757.5001,-316.2981 764.5001,-316.298\" stroke=\"#000000\"/>\n</g>\n<!-- 30 -->\n<g class=\"node\" id=\"node31\">\n<title>30</title>\n<polygon fill=\"#6ab6ec\" points=\"700,-187 590,-187 590,-104 700,-104 700,-187\" stroke=\"#000000\"/>\n<text fill=\"#000000\" font-family=\"Times,serif\" font-size=\"14.00\" text-anchor=\"middle\" x=\"645\" y=\"-171.8\">X[3] &lt;= 4.5</text>\n<text fill=\"#000000\" font-family=\"Times,serif\" font-size=\"14.00\" text-anchor=\"middle\" x=\"645\" y=\"-156.8\">entropy = 0.722</text>\n<text fill=\"#000000\" font-family=\"Times,serif\" font-size=\"14.00\" text-anchor=\"middle\" x=\"645\" y=\"-141.8\">samples = 5</text>\n<text fill=\"#000000\" font-family=\"Times,serif\" font-size=\"14.00\" text-anchor=\"middle\" x=\"645\" y=\"-126.8\">value = [1, 4]</text>\n<text fill=\"#000000\" font-family=\"Times,serif\" font-size=\"14.00\" text-anchor=\"middle\" x=\"645\" y=\"-111.8\">class = 4</text>\n</g>\n<!-- 29&#45;&gt;30 -->\n<g class=\"edge\" id=\"edge30\">\n<title>29-&gt;30</title>\n<path d=\"M720.4288,-222.8796C711.5618,-213.7832 702.0956,-204.0722 692.9709,-194.7116\" fill=\"none\" stroke=\"#000000\"/>\n<polygon fill=\"#000000\" points=\"695.2309,-192.0158 685.7443,-187.2981 690.2183,-196.9019 695.2309,-192.0158\" stroke=\"#000000\"/>\n</g>\n<!-- 33 -->\n<g class=\"node\" id=\"node34\">\n<title>33</title>\n<polygon fill=\"#e58139\" points=\"813.5,-179.5 718.5,-179.5 718.5,-111.5 813.5,-111.5 813.5,-179.5\" stroke=\"#000000\"/>\n<text fill=\"#000000\" font-family=\"Times,serif\" font-size=\"14.00\" text-anchor=\"middle\" x=\"766\" y=\"-164.3\">entropy = 0.0</text>\n<text fill=\"#000000\" font-family=\"Times,serif\" font-size=\"14.00\" text-anchor=\"middle\" x=\"766\" y=\"-149.3\">samples = 2</text>\n<text fill=\"#000000\" font-family=\"Times,serif\" font-size=\"14.00\" text-anchor=\"middle\" x=\"766\" y=\"-134.3\">value = [2, 0]</text>\n<text fill=\"#000000\" font-family=\"Times,serif\" font-size=\"14.00\" text-anchor=\"middle\" x=\"766\" y=\"-119.3\">class = 2</text>\n</g>\n<!-- 29&#45;&gt;33 -->\n<g class=\"edge\" id=\"edge33\">\n<title>29-&gt;33</title>\n<path d=\"M762.7488,-222.8796C763.1969,-212.2134 763.6806,-200.7021 764.1344,-189.9015\" fill=\"none\" stroke=\"#000000\"/>\n<polygon fill=\"#000000\" points=\"767.6352,-189.9531 764.5582,-179.8149 760.6414,-189.6592 767.6352,-189.9531\" stroke=\"#000000\"/>\n</g>\n<!-- 31 -->\n<g class=\"node\" id=\"node32\">\n<title>31</title>\n<polygon fill=\"#399de5\" points=\"635.5,-68 540.5,-68 540.5,0 635.5,0 635.5,-68\" stroke=\"#000000\"/>\n<text fill=\"#000000\" font-family=\"Times,serif\" font-size=\"14.00\" text-anchor=\"middle\" x=\"588\" y=\"-52.8\">entropy = 0.0</text>\n<text fill=\"#000000\" font-family=\"Times,serif\" font-size=\"14.00\" text-anchor=\"middle\" x=\"588\" y=\"-37.8\">samples = 4</text>\n<text fill=\"#000000\" font-family=\"Times,serif\" font-size=\"14.00\" text-anchor=\"middle\" x=\"588\" y=\"-22.8\">value = [0, 4]</text>\n<text fill=\"#000000\" font-family=\"Times,serif\" font-size=\"14.00\" text-anchor=\"middle\" x=\"588\" y=\"-7.8\">class = 4</text>\n</g>\n<!-- 30&#45;&gt;31 -->\n<g class=\"edge\" id=\"edge31\">\n<title>30-&gt;31</title>\n<path d=\"M623.7753,-103.9815C619.3119,-95.2504 614.5933,-86.0202 610.0987,-77.2281\" fill=\"none\" stroke=\"#000000\"/>\n<polygon fill=\"#000000\" points=\"613.1842,-75.5745 605.516,-68.2637 606.9514,-78.7608 613.1842,-75.5745\" stroke=\"#000000\"/>\n</g>\n<!-- 32 -->\n<g class=\"node\" id=\"node33\">\n<title>32</title>\n<polygon fill=\"#e58139\" points=\"748.5,-68 653.5,-68 653.5,0 748.5,0 748.5,-68\" stroke=\"#000000\"/>\n<text fill=\"#000000\" font-family=\"Times,serif\" font-size=\"14.00\" text-anchor=\"middle\" x=\"701\" y=\"-52.8\">entropy = 0.0</text>\n<text fill=\"#000000\" font-family=\"Times,serif\" font-size=\"14.00\" text-anchor=\"middle\" x=\"701\" y=\"-37.8\">samples = 1</text>\n<text fill=\"#000000\" font-family=\"Times,serif\" font-size=\"14.00\" text-anchor=\"middle\" x=\"701\" y=\"-22.8\">value = [1, 0]</text>\n<text fill=\"#000000\" font-family=\"Times,serif\" font-size=\"14.00\" text-anchor=\"middle\" x=\"701\" y=\"-7.8\">class = 2</text>\n</g>\n<!-- 30&#45;&gt;32 -->\n<g class=\"edge\" id=\"edge32\">\n<title>30-&gt;32</title>\n<path d=\"M665.8523,-103.9815C670.2375,-95.2504 674.8733,-86.0202 679.289,-77.2281\" fill=\"none\" stroke=\"#000000\"/>\n<polygon fill=\"#000000\" points=\"682.4308,-78.7708 683.7913,-68.2637 676.1754,-75.6291 682.4308,-78.7708\" stroke=\"#000000\"/>\n</g>\n<!-- 35 -->\n<g class=\"node\" id=\"node36\">\n<title>35</title>\n<polygon fill=\"#ffffff\" points=\"929.5,-306 834.5,-306 834.5,-223 929.5,-223 929.5,-306\" stroke=\"#000000\"/>\n<text fill=\"#000000\" font-family=\"Times,serif\" font-size=\"14.00\" text-anchor=\"middle\" x=\"882\" y=\"-290.8\">X[4] &lt;= 3.5</text>\n<text fill=\"#000000\" font-family=\"Times,serif\" font-size=\"14.00\" text-anchor=\"middle\" x=\"882\" y=\"-275.8\">entropy = 1.0</text>\n<text fill=\"#000000\" font-family=\"Times,serif\" font-size=\"14.00\" text-anchor=\"middle\" x=\"882\" y=\"-260.8\">samples = 6</text>\n<text fill=\"#000000\" font-family=\"Times,serif\" font-size=\"14.00\" text-anchor=\"middle\" x=\"882\" y=\"-245.8\">value = [3, 3]</text>\n<text fill=\"#000000\" font-family=\"Times,serif\" font-size=\"14.00\" text-anchor=\"middle\" x=\"882\" y=\"-230.8\">class = 2</text>\n</g>\n<!-- 34&#45;&gt;35 -->\n<g class=\"edge\" id=\"edge35\">\n<title>34-&gt;35</title>\n<path d=\"M884.601,-341.8796C884.3255,-333.6838 884.0332,-324.9891 883.7479,-316.5013\" fill=\"none\" stroke=\"#000000\"/>\n<polygon fill=\"#000000\" points=\"887.239,-316.1748 883.405,-306.2981 880.243,-316.41 887.239,-316.1748\" stroke=\"#000000\"/>\n</g>\n<!-- 38 -->\n<g class=\"node\" id=\"node39\">\n<title>38</title>\n<polygon fill=\"#399de5\" points=\"1050,-298.5 948,-298.5 948,-230.5 1050,-230.5 1050,-298.5\" stroke=\"#000000\"/>\n<text fill=\"#000000\" font-family=\"Times,serif\" font-size=\"14.00\" text-anchor=\"middle\" x=\"999\" y=\"-283.3\">entropy = 0.0</text>\n<text fill=\"#000000\" font-family=\"Times,serif\" font-size=\"14.00\" text-anchor=\"middle\" x=\"999\" y=\"-268.3\">samples = 12</text>\n<text fill=\"#000000\" font-family=\"Times,serif\" font-size=\"14.00\" text-anchor=\"middle\" x=\"999\" y=\"-253.3\">value = [0, 12]</text>\n<text fill=\"#000000\" font-family=\"Times,serif\" font-size=\"14.00\" text-anchor=\"middle\" x=\"999\" y=\"-238.3\">class = 4</text>\n</g>\n<!-- 34&#45;&gt;38 -->\n<g class=\"edge\" id=\"edge38\">\n<title>34-&gt;38</title>\n<path d=\"M925.5219,-341.8796C936.4857,-330.3337 948.3897,-317.7976 959.3601,-306.2446\" fill=\"none\" stroke=\"#000000\"/>\n<polygon fill=\"#000000\" points=\"962.0673,-308.4766 966.4152,-298.8149 956.9913,-303.6564 962.0673,-308.4766\" stroke=\"#000000\"/>\n</g>\n<!-- 36 -->\n<g class=\"node\" id=\"node37\">\n<title>36</title>\n<polygon fill=\"#399de5\" points=\"928.5,-179.5 833.5,-179.5 833.5,-111.5 928.5,-111.5 928.5,-179.5\" stroke=\"#000000\"/>\n<text fill=\"#000000\" font-family=\"Times,serif\" font-size=\"14.00\" text-anchor=\"middle\" x=\"881\" y=\"-164.3\">entropy = 0.0</text>\n<text fill=\"#000000\" font-family=\"Times,serif\" font-size=\"14.00\" text-anchor=\"middle\" x=\"881\" y=\"-149.3\">samples = 3</text>\n<text fill=\"#000000\" font-family=\"Times,serif\" font-size=\"14.00\" text-anchor=\"middle\" x=\"881\" y=\"-134.3\">value = [0, 3]</text>\n<text fill=\"#000000\" font-family=\"Times,serif\" font-size=\"14.00\" text-anchor=\"middle\" x=\"881\" y=\"-119.3\">class = 4</text>\n</g>\n<!-- 35&#45;&gt;36 -->\n<g class=\"edge\" id=\"edge36\">\n<title>35-&gt;36</title>\n<path d=\"M881.6502,-222.8796C881.5606,-212.2134 881.4639,-200.7021 881.3731,-189.9015\" fill=\"none\" stroke=\"#000000\"/>\n<polygon fill=\"#000000\" points=\"884.8724,-189.7851 881.2884,-179.8149 877.8726,-189.844 884.8724,-189.7851\" stroke=\"#000000\"/>\n</g>\n<!-- 37 -->\n<g class=\"node\" id=\"node38\">\n<title>37</title>\n<polygon fill=\"#e58139\" points=\"1041.5,-179.5 946.5,-179.5 946.5,-111.5 1041.5,-111.5 1041.5,-179.5\" stroke=\"#000000\"/>\n<text fill=\"#000000\" font-family=\"Times,serif\" font-size=\"14.00\" text-anchor=\"middle\" x=\"994\" y=\"-164.3\">entropy = 0.0</text>\n<text fill=\"#000000\" font-family=\"Times,serif\" font-size=\"14.00\" text-anchor=\"middle\" x=\"994\" y=\"-149.3\">samples = 3</text>\n<text fill=\"#000000\" font-family=\"Times,serif\" font-size=\"14.00\" text-anchor=\"middle\" x=\"994\" y=\"-134.3\">value = [3, 0]</text>\n<text fill=\"#000000\" font-family=\"Times,serif\" font-size=\"14.00\" text-anchor=\"middle\" x=\"994\" y=\"-119.3\">class = 2</text>\n</g>\n<!-- 35&#45;&gt;37 -->\n<g class=\"edge\" id=\"edge37\">\n<title>35-&gt;37</title>\n<path d=\"M921.1722,-222.8796C932.0389,-211.3337 943.8376,-198.7976 954.7109,-187.2446\" fill=\"none\" stroke=\"#000000\"/>\n<polygon fill=\"#000000\" points=\"957.3986,-189.4958 961.7036,-179.8149 952.3012,-184.6982 957.3986,-189.4958\" stroke=\"#000000\"/>\n</g>\n<!-- 40 -->\n<g class=\"node\" id=\"node41\">\n<title>40</title>\n<polygon fill=\"#52a9e8\" points=\"1165,-425 1055,-425 1055,-342 1165,-342 1165,-425\" stroke=\"#000000\"/>\n<text fill=\"#000000\" font-family=\"Times,serif\" font-size=\"14.00\" text-anchor=\"middle\" x=\"1110\" y=\"-409.8\">X[3] &lt;= 4.5</text>\n<text fill=\"#000000\" font-family=\"Times,serif\" font-size=\"14.00\" text-anchor=\"middle\" x=\"1110\" y=\"-394.8\">entropy = 0.503</text>\n<text fill=\"#000000\" font-family=\"Times,serif\" font-size=\"14.00\" text-anchor=\"middle\" x=\"1110\" y=\"-379.8\">samples = 9</text>\n<text fill=\"#000000\" font-family=\"Times,serif\" font-size=\"14.00\" text-anchor=\"middle\" x=\"1110\" y=\"-364.8\">value = [1, 8]</text>\n<text fill=\"#000000\" font-family=\"Times,serif\" font-size=\"14.00\" text-anchor=\"middle\" x=\"1110\" y=\"-349.8\">class = 4</text>\n</g>\n<!-- 39&#45;&gt;40 -->\n<g class=\"edge\" id=\"edge40\">\n<title>39-&gt;40</title>\n<path d=\"M1110,-460.8796C1110,-452.6838 1110,-443.9891 1110,-435.5013\" fill=\"none\" stroke=\"#000000\"/>\n<polygon fill=\"#000000\" points=\"1113.5001,-435.298 1110,-425.2981 1106.5001,-435.2981 1113.5001,-435.298\" stroke=\"#000000\"/>\n</g>\n<!-- 45 -->\n<g class=\"node\" id=\"node46\">\n<title>45</title>\n<polygon fill=\"#399de5\" points=\"1285,-417.5 1183,-417.5 1183,-349.5 1285,-349.5 1285,-417.5\" stroke=\"#000000\"/>\n<text fill=\"#000000\" font-family=\"Times,serif\" font-size=\"14.00\" text-anchor=\"middle\" x=\"1234\" y=\"-402.3\">entropy = 0.0</text>\n<text fill=\"#000000\" font-family=\"Times,serif\" font-size=\"14.00\" text-anchor=\"middle\" x=\"1234\" y=\"-387.3\">samples = 23</text>\n<text fill=\"#000000\" font-family=\"Times,serif\" font-size=\"14.00\" text-anchor=\"middle\" x=\"1234\" y=\"-372.3\">value = [0, 23]</text>\n<text fill=\"#000000\" font-family=\"Times,serif\" font-size=\"14.00\" text-anchor=\"middle\" x=\"1234\" y=\"-357.3\">class = 4</text>\n</g>\n<!-- 39&#45;&gt;45 -->\n<g class=\"edge\" id=\"edge45\">\n<title>39-&gt;45</title>\n<path d=\"M1153.3692,-460.8796C1165.5148,-449.2237 1178.7119,-436.5587 1190.8451,-424.9148\" fill=\"none\" stroke=\"#000000\"/>\n<polygon fill=\"#000000\" points=\"1193.4516,-427.2643 1198.2433,-417.8149 1188.6047,-422.2138 1193.4516,-427.2643\" stroke=\"#000000\"/>\n</g>\n<!-- 41 -->\n<g class=\"node\" id=\"node42\">\n<title>41</title>\n<polygon fill=\"#399de5\" points=\"1163.5,-298.5 1068.5,-298.5 1068.5,-230.5 1163.5,-230.5 1163.5,-298.5\" stroke=\"#000000\"/>\n<text fill=\"#000000\" font-family=\"Times,serif\" font-size=\"14.00\" text-anchor=\"middle\" x=\"1116\" y=\"-283.3\">entropy = 0.0</text>\n<text fill=\"#000000\" font-family=\"Times,serif\" font-size=\"14.00\" text-anchor=\"middle\" x=\"1116\" y=\"-268.3\">samples = 7</text>\n<text fill=\"#000000\" font-family=\"Times,serif\" font-size=\"14.00\" text-anchor=\"middle\" x=\"1116\" y=\"-253.3\">value = [0, 7]</text>\n<text fill=\"#000000\" font-family=\"Times,serif\" font-size=\"14.00\" text-anchor=\"middle\" x=\"1116\" y=\"-238.3\">class = 4</text>\n</g>\n<!-- 40&#45;&gt;41 -->\n<g class=\"edge\" id=\"edge41\">\n<title>40-&gt;41</title>\n<path d=\"M1112.0985,-341.8796C1112.6363,-331.2134 1113.2167,-319.7021 1113.7613,-308.9015\" fill=\"none\" stroke=\"#000000\"/>\n<polygon fill=\"#000000\" points=\"1117.2617,-308.9785 1114.2698,-298.8149 1110.2706,-308.626 1117.2617,-308.9785\" stroke=\"#000000\"/>\n</g>\n<!-- 42 -->\n<g class=\"node\" id=\"node43\">\n<title>42</title>\n<polygon fill=\"#ffffff\" points=\"1276.5,-306 1181.5,-306 1181.5,-223 1276.5,-223 1276.5,-306\" stroke=\"#000000\"/>\n<text fill=\"#000000\" font-family=\"Times,serif\" font-size=\"14.00\" text-anchor=\"middle\" x=\"1229\" y=\"-290.8\">X[7] &lt;= 9.0</text>\n<text fill=\"#000000\" font-family=\"Times,serif\" font-size=\"14.00\" text-anchor=\"middle\" x=\"1229\" y=\"-275.8\">entropy = 1.0</text>\n<text fill=\"#000000\" font-family=\"Times,serif\" font-size=\"14.00\" text-anchor=\"middle\" x=\"1229\" y=\"-260.8\">samples = 2</text>\n<text fill=\"#000000\" font-family=\"Times,serif\" font-size=\"14.00\" text-anchor=\"middle\" x=\"1229\" y=\"-245.8\">value = [1, 1]</text>\n<text fill=\"#000000\" font-family=\"Times,serif\" font-size=\"14.00\" text-anchor=\"middle\" x=\"1229\" y=\"-230.8\">class = 2</text>\n</g>\n<!-- 40&#45;&gt;42 -->\n<g class=\"edge\" id=\"edge42\">\n<title>40-&gt;42</title>\n<path d=\"M1151.6204,-341.8796C1160.8069,-332.6931 1170.6202,-322.8798 1180.0664,-313.4336\" fill=\"none\" stroke=\"#000000\"/>\n<polygon fill=\"#000000\" points=\"1182.6057,-315.8441 1187.2019,-306.2981 1177.6559,-310.8943 1182.6057,-315.8441\" stroke=\"#000000\"/>\n</g>\n<!-- 43 -->\n<g class=\"node\" id=\"node44\">\n<title>43</title>\n<polygon fill=\"#e58139\" points=\"1227.5,-179.5 1132.5,-179.5 1132.5,-111.5 1227.5,-111.5 1227.5,-179.5\" stroke=\"#000000\"/>\n<text fill=\"#000000\" font-family=\"Times,serif\" font-size=\"14.00\" text-anchor=\"middle\" x=\"1180\" y=\"-164.3\">entropy = 0.0</text>\n<text fill=\"#000000\" font-family=\"Times,serif\" font-size=\"14.00\" text-anchor=\"middle\" x=\"1180\" y=\"-149.3\">samples = 1</text>\n<text fill=\"#000000\" font-family=\"Times,serif\" font-size=\"14.00\" text-anchor=\"middle\" x=\"1180\" y=\"-134.3\">value = [1, 0]</text>\n<text fill=\"#000000\" font-family=\"Times,serif\" font-size=\"14.00\" text-anchor=\"middle\" x=\"1180\" y=\"-119.3\">class = 2</text>\n</g>\n<!-- 42&#45;&gt;43 -->\n<g class=\"edge\" id=\"edge43\">\n<title>42-&gt;43</title>\n<path d=\"M1211.8622,-222.8796C1207.3797,-211.9935 1202.5347,-200.227 1198.0083,-189.2344\" fill=\"none\" stroke=\"#000000\"/>\n<polygon fill=\"#000000\" points=\"1201.1736,-187.7291 1194.1297,-179.8149 1194.7009,-190.3944 1201.1736,-187.7291\" stroke=\"#000000\"/>\n</g>\n<!-- 44 -->\n<g class=\"node\" id=\"node45\">\n<title>44</title>\n<polygon fill=\"#399de5\" points=\"1340.5,-179.5 1245.5,-179.5 1245.5,-111.5 1340.5,-111.5 1340.5,-179.5\" stroke=\"#000000\"/>\n<text fill=\"#000000\" font-family=\"Times,serif\" font-size=\"14.00\" text-anchor=\"middle\" x=\"1293\" y=\"-164.3\">entropy = 0.0</text>\n<text fill=\"#000000\" font-family=\"Times,serif\" font-size=\"14.00\" text-anchor=\"middle\" x=\"1293\" y=\"-149.3\">samples = 1</text>\n<text fill=\"#000000\" font-family=\"Times,serif\" font-size=\"14.00\" text-anchor=\"middle\" x=\"1293\" y=\"-134.3\">value = [0, 1]</text>\n<text fill=\"#000000\" font-family=\"Times,serif\" font-size=\"14.00\" text-anchor=\"middle\" x=\"1293\" y=\"-119.3\">class = 4</text>\n</g>\n<!-- 42&#45;&gt;44 -->\n<g class=\"edge\" id=\"edge44\">\n<title>42-&gt;44</title>\n<path d=\"M1251.3841,-222.8796C1257.298,-211.8835 1263.6949,-199.9893 1269.658,-188.9015\" fill=\"none\" stroke=\"#000000\"/>\n<polygon fill=\"#000000\" points=\"1272.8908,-190.2799 1274.5449,-179.8149 1266.7258,-186.9642 1272.8908,-190.2799\" stroke=\"#000000\"/>\n</g>\n<!-- 47 -->\n<g class=\"node\" id=\"node48\">\n<title>47</title>\n<polygon fill=\"#47a4e7\" points=\"1413,-663 1303,-663 1303,-580 1413,-580 1413,-663\" stroke=\"#000000\"/>\n<text fill=\"#000000\" font-family=\"Times,serif\" font-size=\"14.00\" text-anchor=\"middle\" x=\"1358\" y=\"-647.8\">X[0] &lt;= 6.5</text>\n<text fill=\"#000000\" font-family=\"Times,serif\" font-size=\"14.00\" text-anchor=\"middle\" x=\"1358\" y=\"-632.8\">entropy = 0.348</text>\n<text fill=\"#000000\" font-family=\"Times,serif\" font-size=\"14.00\" text-anchor=\"middle\" x=\"1358\" y=\"-617.8\">samples = 46</text>\n<text fill=\"#000000\" font-family=\"Times,serif\" font-size=\"14.00\" text-anchor=\"middle\" x=\"1358\" y=\"-602.8\">value = [3, 43]</text>\n<text fill=\"#000000\" font-family=\"Times,serif\" font-size=\"14.00\" text-anchor=\"middle\" x=\"1358\" y=\"-587.8\">class = 4</text>\n</g>\n<!-- 46&#45;&gt;47 -->\n<g class=\"edge\" id=\"edge47\">\n<title>46-&gt;47</title>\n<path d=\"M1358,-698.8796C1358,-690.6838 1358,-681.9891 1358,-673.5013\" fill=\"none\" stroke=\"#000000\"/>\n<polygon fill=\"#000000\" points=\"1361.5001,-673.298 1358,-663.2981 1354.5001,-673.2981 1361.5001,-673.298\" stroke=\"#000000\"/>\n</g>\n<!-- 56 -->\n<g class=\"node\" id=\"node57\">\n<title>56</title>\n<polygon fill=\"#399de5\" points=\"1541,-655.5 1431,-655.5 1431,-587.5 1541,-587.5 1541,-655.5\" stroke=\"#000000\"/>\n<text fill=\"#000000\" font-family=\"Times,serif\" font-size=\"14.00\" text-anchor=\"middle\" x=\"1486\" y=\"-640.3\">entropy = 0.0</text>\n<text fill=\"#000000\" font-family=\"Times,serif\" font-size=\"14.00\" text-anchor=\"middle\" x=\"1486\" y=\"-625.3\">samples = 129</text>\n<text fill=\"#000000\" font-family=\"Times,serif\" font-size=\"14.00\" text-anchor=\"middle\" x=\"1486\" y=\"-610.3\">value = [0, 129]</text>\n<text fill=\"#000000\" font-family=\"Times,serif\" font-size=\"14.00\" text-anchor=\"middle\" x=\"1486\" y=\"-595.3\">class = 4</text>\n</g>\n<!-- 46&#45;&gt;56 -->\n<g class=\"edge\" id=\"edge56\">\n<title>46-&gt;56</title>\n<path d=\"M1402.7682,-698.8796C1415.3056,-687.2237 1428.9284,-674.5587 1441.453,-662.9148\" fill=\"none\" stroke=\"#000000\"/>\n<polygon fill=\"#000000\" points=\"1444.1491,-665.1872 1449.0898,-655.8149 1439.3828,-660.0605 1444.1491,-665.1872\" stroke=\"#000000\"/>\n</g>\n<!-- 48 -->\n<g class=\"node\" id=\"node49\">\n<title>48</title>\n<polygon fill=\"#67b4eb\" points=\"1413,-544 1303,-544 1303,-461 1413,-461 1413,-544\" stroke=\"#000000\"/>\n<text fill=\"#000000\" font-family=\"Times,serif\" font-size=\"14.00\" text-anchor=\"middle\" x=\"1358\" y=\"-528.8\">X[5] &lt;= 8.5</text>\n<text fill=\"#000000\" font-family=\"Times,serif\" font-size=\"14.00\" text-anchor=\"middle\" x=\"1358\" y=\"-513.8\">entropy = 0.696</text>\n<text fill=\"#000000\" font-family=\"Times,serif\" font-size=\"14.00\" text-anchor=\"middle\" x=\"1358\" y=\"-498.8\">samples = 16</text>\n<text fill=\"#000000\" font-family=\"Times,serif\" font-size=\"14.00\" text-anchor=\"middle\" x=\"1358\" y=\"-483.8\">value = [3, 13]</text>\n<text fill=\"#000000\" font-family=\"Times,serif\" font-size=\"14.00\" text-anchor=\"middle\" x=\"1358\" y=\"-468.8\">class = 4</text>\n</g>\n<!-- 47&#45;&gt;48 -->\n<g class=\"edge\" id=\"edge48\">\n<title>47-&gt;48</title>\n<path d=\"M1358,-579.8796C1358,-571.6838 1358,-562.9891 1358,-554.5013\" fill=\"none\" stroke=\"#000000\"/>\n<polygon fill=\"#000000\" points=\"1361.5001,-554.298 1358,-544.2981 1354.5001,-554.2981 1361.5001,-554.298\" stroke=\"#000000\"/>\n</g>\n<!-- 55 -->\n<g class=\"node\" id=\"node56\">\n<title>55</title>\n<polygon fill=\"#399de5\" points=\"1533,-536.5 1431,-536.5 1431,-468.5 1533,-468.5 1533,-536.5\" stroke=\"#000000\"/>\n<text fill=\"#000000\" font-family=\"Times,serif\" font-size=\"14.00\" text-anchor=\"middle\" x=\"1482\" y=\"-521.3\">entropy = 0.0</text>\n<text fill=\"#000000\" font-family=\"Times,serif\" font-size=\"14.00\" text-anchor=\"middle\" x=\"1482\" y=\"-506.3\">samples = 30</text>\n<text fill=\"#000000\" font-family=\"Times,serif\" font-size=\"14.00\" text-anchor=\"middle\" x=\"1482\" y=\"-491.3\">value = [0, 30]</text>\n<text fill=\"#000000\" font-family=\"Times,serif\" font-size=\"14.00\" text-anchor=\"middle\" x=\"1482\" y=\"-476.3\">class = 4</text>\n</g>\n<!-- 47&#45;&gt;55 -->\n<g class=\"edge\" id=\"edge55\">\n<title>47-&gt;55</title>\n<path d=\"M1401.3692,-579.8796C1413.5148,-568.2237 1426.7119,-555.5587 1438.8451,-543.9148\" fill=\"none\" stroke=\"#000000\"/>\n<polygon fill=\"#000000\" points=\"1441.4516,-546.2643 1446.2433,-536.8149 1436.6047,-541.2138 1441.4516,-546.2643\" stroke=\"#000000\"/>\n</g>\n<!-- 49 -->\n<g class=\"node\" id=\"node50\">\n<title>49</title>\n<polygon fill=\"#cee6f8\" points=\"1413,-425 1303,-425 1303,-342 1413,-342 1413,-425\" stroke=\"#000000\"/>\n<text fill=\"#000000\" font-family=\"Times,serif\" font-size=\"14.00\" text-anchor=\"middle\" x=\"1358\" y=\"-409.8\">X[2] &lt;= 6.5</text>\n<text fill=\"#000000\" font-family=\"Times,serif\" font-size=\"14.00\" text-anchor=\"middle\" x=\"1358\" y=\"-394.8\">entropy = 0.985</text>\n<text fill=\"#000000\" font-family=\"Times,serif\" font-size=\"14.00\" text-anchor=\"middle\" x=\"1358\" y=\"-379.8\">samples = 7</text>\n<text fill=\"#000000\" font-family=\"Times,serif\" font-size=\"14.00\" text-anchor=\"middle\" x=\"1358\" y=\"-364.8\">value = [3, 4]</text>\n<text fill=\"#000000\" font-family=\"Times,serif\" font-size=\"14.00\" text-anchor=\"middle\" x=\"1358\" y=\"-349.8\">class = 4</text>\n</g>\n<!-- 48&#45;&gt;49 -->\n<g class=\"edge\" id=\"edge49\">\n<title>48-&gt;49</title>\n<path d=\"M1358,-460.8796C1358,-452.6838 1358,-443.9891 1358,-435.5013\" fill=\"none\" stroke=\"#000000\"/>\n<polygon fill=\"#000000\" points=\"1361.5001,-435.298 1358,-425.2981 1354.5001,-435.2981 1361.5001,-435.298\" stroke=\"#000000\"/>\n</g>\n<!-- 54 -->\n<g class=\"node\" id=\"node55\">\n<title>54</title>\n<polygon fill=\"#399de5\" points=\"1526.5,-417.5 1431.5,-417.5 1431.5,-349.5 1526.5,-349.5 1526.5,-417.5\" stroke=\"#000000\"/>\n<text fill=\"#000000\" font-family=\"Times,serif\" font-size=\"14.00\" text-anchor=\"middle\" x=\"1479\" y=\"-402.3\">entropy = 0.0</text>\n<text fill=\"#000000\" font-family=\"Times,serif\" font-size=\"14.00\" text-anchor=\"middle\" x=\"1479\" y=\"-387.3\">samples = 9</text>\n<text fill=\"#000000\" font-family=\"Times,serif\" font-size=\"14.00\" text-anchor=\"middle\" x=\"1479\" y=\"-372.3\">value = [0, 9]</text>\n<text fill=\"#000000\" font-family=\"Times,serif\" font-size=\"14.00\" text-anchor=\"middle\" x=\"1479\" y=\"-357.3\">class = 4</text>\n</g>\n<!-- 48&#45;&gt;54 -->\n<g class=\"edge\" id=\"edge54\">\n<title>48-&gt;54</title>\n<path d=\"M1400.3199,-460.8796C1412.1717,-449.2237 1425.0495,-436.5587 1436.8891,-424.9148\" fill=\"none\" stroke=\"#000000\"/>\n<polygon fill=\"#000000\" points=\"1439.4327,-427.3223 1444.1083,-417.8149 1434.5244,-422.3314 1439.4327,-427.3223\" stroke=\"#000000\"/>\n</g>\n<!-- 50 -->\n<g class=\"node\" id=\"node51\">\n<title>50</title>\n<polygon fill=\"#399de5\" points=\"1400.5,-298.5 1305.5,-298.5 1305.5,-230.5 1400.5,-230.5 1400.5,-298.5\" stroke=\"#000000\"/>\n<text fill=\"#000000\" font-family=\"Times,serif\" font-size=\"14.00\" text-anchor=\"middle\" x=\"1353\" y=\"-283.3\">entropy = 0.0</text>\n<text fill=\"#000000\" font-family=\"Times,serif\" font-size=\"14.00\" text-anchor=\"middle\" x=\"1353\" y=\"-268.3\">samples = 3</text>\n<text fill=\"#000000\" font-family=\"Times,serif\" font-size=\"14.00\" text-anchor=\"middle\" x=\"1353\" y=\"-253.3\">value = [0, 3]</text>\n<text fill=\"#000000\" font-family=\"Times,serif\" font-size=\"14.00\" text-anchor=\"middle\" x=\"1353\" y=\"-238.3\">class = 4</text>\n</g>\n<!-- 49&#45;&gt;50 -->\n<g class=\"edge\" id=\"edge50\">\n<title>49-&gt;50</title>\n<path d=\"M1356.2512,-341.8796C1355.8031,-331.2134 1355.3194,-319.7021 1354.8656,-308.9015\" fill=\"none\" stroke=\"#000000\"/>\n<polygon fill=\"#000000\" points=\"1358.3586,-308.6592 1354.4418,-298.8149 1351.3648,-308.9531 1358.3586,-308.6592\" stroke=\"#000000\"/>\n</g>\n<!-- 51 -->\n<g class=\"node\" id=\"node52\">\n<title>51</title>\n<polygon fill=\"#eeab7b\" points=\"1529,-306 1419,-306 1419,-223 1529,-223 1529,-306\" stroke=\"#000000\"/>\n<text fill=\"#000000\" font-family=\"Times,serif\" font-size=\"14.00\" text-anchor=\"middle\" x=\"1474\" y=\"-290.8\">X[2] &lt;= 9.0</text>\n<text fill=\"#000000\" font-family=\"Times,serif\" font-size=\"14.00\" text-anchor=\"middle\" x=\"1474\" y=\"-275.8\">entropy = 0.811</text>\n<text fill=\"#000000\" font-family=\"Times,serif\" font-size=\"14.00\" text-anchor=\"middle\" x=\"1474\" y=\"-260.8\">samples = 4</text>\n<text fill=\"#000000\" font-family=\"Times,serif\" font-size=\"14.00\" text-anchor=\"middle\" x=\"1474\" y=\"-245.8\">value = [3, 1]</text>\n<text fill=\"#000000\" font-family=\"Times,serif\" font-size=\"14.00\" text-anchor=\"middle\" x=\"1474\" y=\"-230.8\">class = 2</text>\n</g>\n<!-- 49&#45;&gt;51 -->\n<g class=\"edge\" id=\"edge51\">\n<title>49-&gt;51</title>\n<path d=\"M1398.5712,-341.8796C1407.4382,-332.7832 1416.9044,-323.0722 1426.0291,-313.7116\" fill=\"none\" stroke=\"#000000\"/>\n<polygon fill=\"#000000\" points=\"1428.7817,-315.9019 1433.2557,-306.2981 1423.7691,-311.0158 1428.7817,-315.9019\" stroke=\"#000000\"/>\n</g>\n<!-- 52 -->\n<g class=\"node\" id=\"node53\">\n<title>52</title>\n<polygon fill=\"#e58139\" points=\"1457.5,-179.5 1362.5,-179.5 1362.5,-111.5 1457.5,-111.5 1457.5,-179.5\" stroke=\"#000000\"/>\n<text fill=\"#000000\" font-family=\"Times,serif\" font-size=\"14.00\" text-anchor=\"middle\" x=\"1410\" y=\"-164.3\">entropy = 0.0</text>\n<text fill=\"#000000\" font-family=\"Times,serif\" font-size=\"14.00\" text-anchor=\"middle\" x=\"1410\" y=\"-149.3\">samples = 3</text>\n<text fill=\"#000000\" font-family=\"Times,serif\" font-size=\"14.00\" text-anchor=\"middle\" x=\"1410\" y=\"-134.3\">value = [3, 0]</text>\n<text fill=\"#000000\" font-family=\"Times,serif\" font-size=\"14.00\" text-anchor=\"middle\" x=\"1410\" y=\"-119.3\">class = 2</text>\n</g>\n<!-- 51&#45;&gt;52 -->\n<g class=\"edge\" id=\"edge52\">\n<title>51-&gt;52</title>\n<path d=\"M1451.6159,-222.8796C1445.702,-211.8835 1439.3051,-199.9893 1433.342,-188.9015\" fill=\"none\" stroke=\"#000000\"/>\n<polygon fill=\"#000000\" points=\"1436.2742,-186.9642 1428.4551,-179.8149 1430.1092,-190.2799 1436.2742,-186.9642\" stroke=\"#000000\"/>\n</g>\n<!-- 53 -->\n<g class=\"node\" id=\"node54\">\n<title>53</title>\n<polygon fill=\"#399de5\" points=\"1570.5,-179.5 1475.5,-179.5 1475.5,-111.5 1570.5,-111.5 1570.5,-179.5\" stroke=\"#000000\"/>\n<text fill=\"#000000\" font-family=\"Times,serif\" font-size=\"14.00\" text-anchor=\"middle\" x=\"1523\" y=\"-164.3\">entropy = 0.0</text>\n<text fill=\"#000000\" font-family=\"Times,serif\" font-size=\"14.00\" text-anchor=\"middle\" x=\"1523\" y=\"-149.3\">samples = 1</text>\n<text fill=\"#000000\" font-family=\"Times,serif\" font-size=\"14.00\" text-anchor=\"middle\" x=\"1523\" y=\"-134.3\">value = [0, 1]</text>\n<text fill=\"#000000\" font-family=\"Times,serif\" font-size=\"14.00\" text-anchor=\"middle\" x=\"1523\" y=\"-119.3\">class = 4</text>\n</g>\n<!-- 51&#45;&gt;53 -->\n<g class=\"edge\" id=\"edge53\">\n<title>51-&gt;53</title>\n<path d=\"M1491.1378,-222.8796C1495.6203,-211.9935 1500.4653,-200.227 1504.9917,-189.2344\" fill=\"none\" stroke=\"#000000\"/>\n<polygon fill=\"#000000\" points=\"1508.2991,-190.3944 1508.8703,-179.8149 1501.8264,-187.7291 1508.2991,-190.3944\" stroke=\"#000000\"/>\n</g>\n</g>\n</svg>"
          },
          "metadata": {
            "tags": []
          }
        }
      ]
    },
    {
      "cell_type": "code",
      "metadata": {
        "id": "3vZ16TvHx-tT",
        "colab_type": "code",
        "colab": {}
      },
      "source": [
        ""
      ],
      "execution_count": 0,
      "outputs": []
    },
    {
      "cell_type": "markdown",
      "metadata": {
        "id": "jyc3CT7GBehr",
        "colab_type": "text"
      },
      "source": [
        "# K-means"
      ]
    },
    {
      "cell_type": "code",
      "metadata": {
        "id": "N6Nj8NE9BdF5",
        "colab_type": "code",
        "colab": {}
      },
      "source": [
        "from PIL import Image\n",
        "import math\n",
        "import numpy as np\n",
        "import random\n",
        "import matplotlib.pyplot as plt\n",
        "from mpl_toolkits.mplot3d import Axes3D"
      ],
      "execution_count": 0,
      "outputs": []
    },
    {
      "cell_type": "code",
      "metadata": {
        "id": "4lapUe_JBq6N",
        "colab_type": "code",
        "colab": {}
      },
      "source": [
        "im=Image.open('bird_small.tiff')\n",
        "pixelMap=im.load()\n",
        "imgnew=Image.new(im.mode,im.size)\n",
        "pixelnew=imgnew.load()"
      ],
      "execution_count": 0,
      "outputs": []
    },
    {
      "cell_type": "code",
      "metadata": {
        "id": "spucOqrlBuIN",
        "colab_type": "code",
        "outputId": "56777655-8cc9-497e-8bd5-eb569eefcd36",
        "colab": {
          "base_uri": "https://localhost:8080/",
          "height": 54
        }
      },
      "source": [
        "k=16\n",
        "c=[]\n",
        "for i in range(k):\n",
        "    c.append(pixelMap[random.randint(0,im.size[0]-1),random.randint(0,im.size[1]-1)])\n",
        "print(c)"
      ],
      "execution_count": 0,
      "outputs": [
        {
          "output_type": "stream",
          "text": [
            "[(125, 125, 101), (237, 224, 114), (240, 235, 176), (15, 16, 15), (249, 161, 129), (135, 108, 48), (173, 132, 71), (21, 21, 18), (14, 15, 14), (243, 204, 137), (202, 158, 124), (205, 174, 180), (192, 150, 86), (31, 35, 33), (190, 164, 89), (227, 216, 162)]\n"
          ],
          "name": "stdout"
        }
      ]
    },
    {
      "cell_type": "code",
      "metadata": {
        "id": "RwI9JsDtByW1",
        "colab_type": "code",
        "outputId": "b0d0f4b7-9766-465a-812a-5140125f638f",
        "colab": {
          "base_uri": "https://localhost:8080/",
          "height": 54
        }
      },
      "source": [
        "x=[]\n",
        "itr=0\n",
        "cluster=[]\n",
        "while itr<20:\n",
        "    #finding clusters\n",
        "    t=c.copy()\n",
        "    \n",
        "    cluster=[]\n",
        "    for i in range(k):\n",
        "      cluster.append([])\n",
        "    for i in range(im.size[0]):\n",
        "        for j in range(im.size[1]):\n",
        "            dist=[]\n",
        "            for m in range(k):\n",
        "                dist.append(np.linalg.norm(np.array(c[m])-np.array(pixelMap[i,j])))\n",
        "            cluster[dist.index(min(dist))].append(pixelMap[i,j])\n",
        "            \n",
        "    #finding centroid\n",
        "    temp=[]\n",
        "    for i in range(k):\n",
        "        s=np.array([0,0,0])\n",
        "        for j in cluster[i]:\n",
        "            s[0]+=j[0]\n",
        "            s[1]+=j[1]\n",
        "            s[2]+=j[2]\n",
        "        s=s/len(cluster[i])\n",
        "        temp.append(s)\n",
        "    for i in range(k):\n",
        "        c[i]=temp[i]     \n",
        "      \n",
        "    itr+=1\n",
        "    \n",
        "#flooring    \n",
        "final=[]\n",
        "for i in range(k):\n",
        "    final.append([])\n",
        "    for j in range(3):\n",
        "        final[i].append(int(math.floor(c[i][j])))\n",
        "print(final)"
      ],
      "execution_count": 0,
      "outputs": [
        {
          "output_type": "stream",
          "text": [
            "[[118, 108, 112], [244, 216, 155], [249, 240, 206], [30, 32, 30], [225, 178, 106], [115, 84, 56], [160, 117, 55], [50, 48, 46], [19, 20, 18], [202, 177, 134], [161, 141, 131], [135, 168, 209], [227, 142, 58], [75, 69, 71], [188, 150, 86], [211, 191, 191]]\n"
          ],
          "name": "stdout"
        }
      ]
    },
    {
      "cell_type": "code",
      "metadata": {
        "id": "BkZAvMF6B3W0",
        "colab_type": "code",
        "colab": {}
      },
      "source": [
        "#assigning new values\n",
        "for i in range(im.size[0]):\n",
        "    for j in range(im.size[1]):\n",
        "        dist=[]\n",
        "        for m in range(k):\n",
        "            dist.append(np.linalg.norm(np.array(final[m])-np.array(pixelMap[i,j])))\n",
        "        pixelnew[i,j]=tuple(final[dist.index(min(dist))])"
      ],
      "execution_count": 0,
      "outputs": []
    },
    {
      "cell_type": "code",
      "metadata": {
        "id": "k73q7vj8EC4W",
        "colab_type": "code",
        "outputId": "8d45cd88-375c-46bc-fd3d-d40256f5277c",
        "colab": {
          "base_uri": "https://localhost:8080/",
          "height": 216
        }
      },
      "source": [
        "plt.subplot(1,2,1)\n",
        "plt.imshow(imgnew)\n",
        "plt.title('Compressed',color='w')\n",
        "plt.subplot(1,2,2)\n",
        "plt.imshow(im)\n",
        "plt.title('Original',color='w')\n",
        "plt.show()"
      ],
      "execution_count": 0,
      "outputs": [
        {
          "output_type": "display_data",
          "data": {
            "image/png": "[encoded data removed]",
            "text/plain": [
              "<Figure size 432x288 with 2 Axes>"
            ]
          },
          "metadata": {
            "tags": []
          }
        }
      ]
    },
    {
      "cell_type": "code",
      "metadata": {
        "id": "_sakvcGfNgjM",
        "colab_type": "code",
        "outputId": "d31c9bd5-8aca-4f9c-e2da-9be05359abd6",
        "colab": {
          "base_uri": "https://localhost:8080/",
          "height": 34
        }
      },
      "source": [
        "loss=0\n",
        "for i in range(im.size[0]):\n",
        "  for j in range(im.size[1]):\n",
        "    loss+=np.linalg.norm(np.array(pixelnew[i,j])-np.array(pixelMap[i,j]))**2\n",
        "print('Avg energy loss:',loss/(im.size[0]*im.size[1]))"
      ],
      "execution_count": 0,
      "outputs": [
        {
          "output_type": "stream",
          "text": [
            "Avg energy loss: 592.407470703125\n"
          ],
          "name": "stdout"
        }
      ]
    },
    {
      "cell_type": "code",
      "metadata": {
        "id": "RjzZXt-sPIWH",
        "colab_type": "code",
        "outputId": "1b1def23-fad8-42fd-e9ef-6e2b1a1f69d5",
        "colab": {
          "base_uri": "https://localhost:8080/",
          "height": 319
        }
      },
      "source": [
        "#3d plot\n",
        "\n",
        "fig = plt.figure()\n",
        "ax = Axes3D(fig)\n",
        "for i in range(len(final)):\n",
        "  ax.scatter([cluster[i][j][0] for j in range(len(cluster[i]))],[cluster[i][j][1] for j in range(len(cluster[i]))],[cluster[i][j][2] for j in range(len(cluster[i]))],c=[np.array(final[i])/255.0 for j in range(len(cluster[i]))])\n",
        "plt.show()"
      ],
      "execution_count": 0,
      "outputs": [
        {
          "output_type": "display_data",
          "data": {
            "image/png": "[encoded data removed]",
            "text/plain": [
              "<Figure size 432x288 with 1 Axes>"
            ]
          },
          "metadata": {
            "tags": []
          }
        }
      ]
    },
    {
      "cell_type": "markdown",
      "metadata": {
        "id": "4qTCkTMTfLP_",
        "colab_type": "text"
      },
      "source": [
        "# PCA"
      ]
    },
    {
      "cell_type": "code",
      "metadata": {
        "id": "ts6As7qefMYe",
        "colab_type": "code",
        "colab": {}
      },
      "source": [
        "import pandas as pd\n",
        "import numpy as np\n",
        "import matplotlib.pyplot as plt"
      ],
      "execution_count": 0,
      "outputs": []
    },
    {
      "cell_type": "code",
      "metadata": {
        "id": "TwRmn9G4gFpe",
        "colab_type": "code",
        "outputId": "cb4ad8ca-8b6a-4a0c-ede9-81f19e7e39c3",
        "colab": {
          "base_uri": "https://localhost:8080/",
          "height": 433
        }
      },
      "source": [
        "k=2\n",
        "data=pd.read_csv('iris.csv',header=None)\n",
        "data=data.drop(4,axis=1)\n",
        "data.head()"
      ],
      "execution_count": 0,
      "outputs": [
        {
          "output_type": "error",
          "ename": "FileNotFoundError",
          "evalue": "ignored",
          "traceback": [
            "\u001b[0;31m---------------------------------------------------------------------------\u001b[0m",
            "\u001b[0;31mFileNotFoundError\u001b[0m                         Traceback (most recent call last)",
            "\u001b[0;32m<ipython-input-2-b0ff672efad8>\u001b[0m in \u001b[0;36m<module>\u001b[0;34m()\u001b[0m\n\u001b[1;32m      1\u001b[0m \u001b[0mk\u001b[0m\u001b[0;34m=\u001b[0m\u001b[0;36m2\u001b[0m\u001b[0;34m\u001b[0m\u001b[0;34m\u001b[0m\u001b[0m\n\u001b[0;32m----> 2\u001b[0;31m \u001b[0mdata\u001b[0m\u001b[0;34m=\u001b[0m\u001b[0mpd\u001b[0m\u001b[0;34m.\u001b[0m\u001b[0mread_csv\u001b[0m\u001b[0;34m(\u001b[0m\u001b[0;34m'iris.csv'\u001b[0m\u001b[0;34m,\u001b[0m\u001b[0mheader\u001b[0m\u001b[0;34m=\u001b[0m\u001b[0;32mNone\u001b[0m\u001b[0;34m)\u001b[0m\u001b[0;34m\u001b[0m\u001b[0;34m\u001b[0m\u001b[0m\n\u001b[0m\u001b[1;32m      3\u001b[0m \u001b[0mdata\u001b[0m\u001b[0;34m=\u001b[0m\u001b[0mdata\u001b[0m\u001b[0;34m.\u001b[0m\u001b[0mdrop\u001b[0m\u001b[0;34m(\u001b[0m\u001b[0;36m4\u001b[0m\u001b[0;34m,\u001b[0m\u001b[0maxis\u001b[0m\u001b[0;34m=\u001b[0m\u001b[0;36m1\u001b[0m\u001b[0;34m)\u001b[0m\u001b[0;34m\u001b[0m\u001b[0;34m\u001b[0m\u001b[0m\n\u001b[1;32m      4\u001b[0m \u001b[0mdata\u001b[0m\u001b[0;34m.\u001b[0m\u001b[0mhead\u001b[0m\u001b[0;34m(\u001b[0m\u001b[0;34m)\u001b[0m\u001b[0;34m\u001b[0m\u001b[0;34m\u001b[0m\u001b[0m\n",
            "\u001b[0;32m/usr/local/lib/python3.6/dist-packages/pandas/io/parsers.py\u001b[0m in \u001b[0;36mparser_f\u001b[0;34m(filepath_or_buffer, sep, delimiter, header, names, index_col, usecols, squeeze, prefix, mangle_dupe_cols, dtype, engine, converters, true_values, false_values, skipinitialspace, skiprows, skipfooter, nrows, na_values, keep_default_na, na_filter, verbose, skip_blank_lines, parse_dates, infer_datetime_format, keep_date_col, date_parser, dayfirst, iterator, chunksize, compression, thousands, decimal, lineterminator, quotechar, quoting, doublequote, escapechar, comment, encoding, dialect, tupleize_cols, error_bad_lines, warn_bad_lines, delim_whitespace, low_memory, memory_map, float_precision)\u001b[0m\n\u001b[1;32m    700\u001b[0m                     skip_blank_lines=skip_blank_lines)\n\u001b[1;32m    701\u001b[0m \u001b[0;34m\u001b[0m\u001b[0m\n\u001b[0;32m--> 702\u001b[0;31m         \u001b[0;32mreturn\u001b[0m \u001b[0m_read\u001b[0m\u001b[0;34m(\u001b[0m\u001b[0mfilepath_or_buffer\u001b[0m\u001b[0;34m,\u001b[0m \u001b[0mkwds\u001b[0m\u001b[0;34m)\u001b[0m\u001b[0;34m\u001b[0m\u001b[0;34m\u001b[0m\u001b[0m\n\u001b[0m\u001b[1;32m    703\u001b[0m \u001b[0;34m\u001b[0m\u001b[0m\n\u001b[1;32m    704\u001b[0m     \u001b[0mparser_f\u001b[0m\u001b[0;34m.\u001b[0m\u001b[0m__name__\u001b[0m \u001b[0;34m=\u001b[0m \u001b[0mname\u001b[0m\u001b[0;34m\u001b[0m\u001b[0;34m\u001b[0m\u001b[0m\n",
            "\u001b[0;32m/usr/local/lib/python3.6/dist-packages/pandas/io/parsers.py\u001b[0m in \u001b[0;36m_read\u001b[0;34m(filepath_or_buffer, kwds)\u001b[0m\n\u001b[1;32m    427\u001b[0m \u001b[0;34m\u001b[0m\u001b[0m\n\u001b[1;32m    428\u001b[0m     \u001b[0;31m# Create the parser.\u001b[0m\u001b[0;34m\u001b[0m\u001b[0;34m\u001b[0m\u001b[0;34m\u001b[0m\u001b[0m\n\u001b[0;32m--> 429\u001b[0;31m     \u001b[0mparser\u001b[0m \u001b[0;34m=\u001b[0m \u001b[0mTextFileReader\u001b[0m\u001b[0;34m(\u001b[0m\u001b[0mfilepath_or_buffer\u001b[0m\u001b[0;34m,\u001b[0m \u001b[0;34m**\u001b[0m\u001b[0mkwds\u001b[0m\u001b[0;34m)\u001b[0m\u001b[0;34m\u001b[0m\u001b[0;34m\u001b[0m\u001b[0m\n\u001b[0m\u001b[1;32m    430\u001b[0m \u001b[0;34m\u001b[0m\u001b[0m\n\u001b[1;32m    431\u001b[0m     \u001b[0;32mif\u001b[0m \u001b[0mchunksize\u001b[0m \u001b[0;32mor\u001b[0m \u001b[0miterator\u001b[0m\u001b[0;34m:\u001b[0m\u001b[0;34m\u001b[0m\u001b[0;34m\u001b[0m\u001b[0m\n",
            "\u001b[0;32m/usr/local/lib/python3.6/dist-packages/pandas/io/parsers.py\u001b[0m in \u001b[0;36m__init__\u001b[0;34m(self, f, engine, **kwds)\u001b[0m\n\u001b[1;32m    893\u001b[0m             \u001b[0mself\u001b[0m\u001b[0;34m.\u001b[0m\u001b[0moptions\u001b[0m\u001b[0;34m[\u001b[0m\u001b[0;34m'has_index_names'\u001b[0m\u001b[0;34m]\u001b[0m \u001b[0;34m=\u001b[0m \u001b[0mkwds\u001b[0m\u001b[0;34m[\u001b[0m\u001b[0;34m'has_index_names'\u001b[0m\u001b[0;34m]\u001b[0m\u001b[0;34m\u001b[0m\u001b[0;34m\u001b[0m\u001b[0m\n\u001b[1;32m    894\u001b[0m \u001b[0;34m\u001b[0m\u001b[0m\n\u001b[0;32m--> 895\u001b[0;31m         \u001b[0mself\u001b[0m\u001b[0;34m.\u001b[0m\u001b[0m_make_engine\u001b[0m\u001b[0;34m(\u001b[0m\u001b[0mself\u001b[0m\u001b[0;34m.\u001b[0m\u001b[0mengine\u001b[0m\u001b[0;34m)\u001b[0m\u001b[0;34m\u001b[0m\u001b[0;34m\u001b[0m\u001b[0m\n\u001b[0m\u001b[1;32m    896\u001b[0m \u001b[0;34m\u001b[0m\u001b[0m\n\u001b[1;32m    897\u001b[0m     \u001b[0;32mdef\u001b[0m \u001b[0mclose\u001b[0m\u001b[0;34m(\u001b[0m\u001b[0mself\u001b[0m\u001b[0;34m)\u001b[0m\u001b[0;34m:\u001b[0m\u001b[0;34m\u001b[0m\u001b[0;34m\u001b[0m\u001b[0m\n",
            "\u001b[0;32m/usr/local/lib/python3.6/dist-packages/pandas/io/parsers.py\u001b[0m in \u001b[0;36m_make_engine\u001b[0;34m(self, engine)\u001b[0m\n\u001b[1;32m   1120\u001b[0m     \u001b[0;32mdef\u001b[0m \u001b[0m_make_engine\u001b[0m\u001b[0;34m(\u001b[0m\u001b[0mself\u001b[0m\u001b[0;34m,\u001b[0m \u001b[0mengine\u001b[0m\u001b[0;34m=\u001b[0m\u001b[0;34m'c'\u001b[0m\u001b[0;34m)\u001b[0m\u001b[0;34m:\u001b[0m\u001b[0;34m\u001b[0m\u001b[0;34m\u001b[0m\u001b[0m\n\u001b[1;32m   1121\u001b[0m         \u001b[0;32mif\u001b[0m \u001b[0mengine\u001b[0m \u001b[0;34m==\u001b[0m \u001b[0;34m'c'\u001b[0m\u001b[0;34m:\u001b[0m\u001b[0;34m\u001b[0m\u001b[0;34m\u001b[0m\u001b[0m\n\u001b[0;32m-> 1122\u001b[0;31m             \u001b[0mself\u001b[0m\u001b[0;34m.\u001b[0m\u001b[0m_engine\u001b[0m \u001b[0;34m=\u001b[0m \u001b[0mCParserWrapper\u001b[0m\u001b[0;34m(\u001b[0m\u001b[0mself\u001b[0m\u001b[0;34m.\u001b[0m\u001b[0mf\u001b[0m\u001b[0;34m,\u001b[0m \u001b[0;34m**\u001b[0m\u001b[0mself\u001b[0m\u001b[0;34m.\u001b[0m\u001b[0moptions\u001b[0m\u001b[0;34m)\u001b[0m\u001b[0;34m\u001b[0m\u001b[0;34m\u001b[0m\u001b[0m\n\u001b[0m\u001b[1;32m   1123\u001b[0m         \u001b[0;32melse\u001b[0m\u001b[0;34m:\u001b[0m\u001b[0;34m\u001b[0m\u001b[0;34m\u001b[0m\u001b[0m\n\u001b[1;32m   1124\u001b[0m             \u001b[0;32mif\u001b[0m \u001b[0mengine\u001b[0m \u001b[0;34m==\u001b[0m \u001b[0;34m'python'\u001b[0m\u001b[0;34m:\u001b[0m\u001b[0;34m\u001b[0m\u001b[0;34m\u001b[0m\u001b[0m\n",
            "\u001b[0;32m/usr/local/lib/python3.6/dist-packages/pandas/io/parsers.py\u001b[0m in \u001b[0;36m__init__\u001b[0;34m(self, src, **kwds)\u001b[0m\n\u001b[1;32m   1851\u001b[0m         \u001b[0mkwds\u001b[0m\u001b[0;34m[\u001b[0m\u001b[0;34m'usecols'\u001b[0m\u001b[0;34m]\u001b[0m \u001b[0;34m=\u001b[0m \u001b[0mself\u001b[0m\u001b[0;34m.\u001b[0m\u001b[0musecols\u001b[0m\u001b[0;34m\u001b[0m\u001b[0;34m\u001b[0m\u001b[0m\n\u001b[1;32m   1852\u001b[0m \u001b[0;34m\u001b[0m\u001b[0m\n\u001b[0;32m-> 1853\u001b[0;31m         \u001b[0mself\u001b[0m\u001b[0;34m.\u001b[0m\u001b[0m_reader\u001b[0m \u001b[0;34m=\u001b[0m \u001b[0mparsers\u001b[0m\u001b[0;34m.\u001b[0m\u001b[0mTextReader\u001b[0m\u001b[0;34m(\u001b[0m\u001b[0msrc\u001b[0m\u001b[0;34m,\u001b[0m \u001b[0;34m**\u001b[0m\u001b[0mkwds\u001b[0m\u001b[0;34m)\u001b[0m\u001b[0;34m\u001b[0m\u001b[0;34m\u001b[0m\u001b[0m\n\u001b[0m\u001b[1;32m   1854\u001b[0m         \u001b[0mself\u001b[0m\u001b[0;34m.\u001b[0m\u001b[0munnamed_cols\u001b[0m \u001b[0;34m=\u001b[0m \u001b[0mself\u001b[0m\u001b[0;34m.\u001b[0m\u001b[0m_reader\u001b[0m\u001b[0;34m.\u001b[0m\u001b[0munnamed_cols\u001b[0m\u001b[0;34m\u001b[0m\u001b[0;34m\u001b[0m\u001b[0m\n\u001b[1;32m   1855\u001b[0m \u001b[0;34m\u001b[0m\u001b[0m\n",
            "\u001b[0;32mpandas/_libs/parsers.pyx\u001b[0m in \u001b[0;36mpandas._libs.parsers.TextReader.__cinit__\u001b[0;34m()\u001b[0m\n",
            "\u001b[0;32mpandas/_libs/parsers.pyx\u001b[0m in \u001b[0;36mpandas._libs.parsers.TextReader._setup_parser_source\u001b[0;34m()\u001b[0m\n",
            "\u001b[0;31mFileNotFoundError\u001b[0m: [Errno 2] File b'iris.csv' does not exist: b'iris.csv'"
          ]
        }
      ]
    },
    {
      "cell_type": "code",
      "metadata": {
        "id": "GQt28AHdgNXN",
        "colab_type": "code",
        "outputId": "ac6a382a-35d6-4b34-b9a0-090cb0b4ac6c",
        "colab": {
          "base_uri": "https://localhost:8080/",
          "height": 183
        }
      },
      "source": [
        "#Mean Centered\n",
        "mdata=data-data.mean()\n",
        "mdata.head()"
      ],
      "execution_count": 0,
      "outputs": [
        {
          "output_type": "error",
          "ename": "NameError",
          "evalue": "ignored",
          "traceback": [
            "\u001b[0;31m---------------------------------------------------------------------------\u001b[0m",
            "\u001b[0;31mNameError\u001b[0m                                 Traceback (most recent call last)",
            "\u001b[0;32m<ipython-input-3-e0821f8f1639>\u001b[0m in \u001b[0;36m<module>\u001b[0;34m()\u001b[0m\n\u001b[0;32m----> 1\u001b[0;31m \u001b[0mmdata\u001b[0m\u001b[0;34m=\u001b[0m\u001b[0mdata\u001b[0m\u001b[0;34m-\u001b[0m\u001b[0mdata\u001b[0m\u001b[0;34m.\u001b[0m\u001b[0mmean\u001b[0m\u001b[0;34m(\u001b[0m\u001b[0;34m)\u001b[0m\u001b[0;34m\u001b[0m\u001b[0;34m\u001b[0m\u001b[0m\n\u001b[0m\u001b[1;32m      2\u001b[0m \u001b[0mmdata\u001b[0m\u001b[0;34m.\u001b[0m\u001b[0mhead\u001b[0m\u001b[0;34m(\u001b[0m\u001b[0;34m)\u001b[0m\u001b[0;34m\u001b[0m\u001b[0;34m\u001b[0m\u001b[0m\n",
            "\u001b[0;31mNameError\u001b[0m: name 'data' is not defined"
          ]
        }
      ]
    },
    {
      "cell_type": "code",
      "metadata": {
        "id": "qwuTShWSghcd",
        "colab_type": "code",
        "colab": {}
      },
      "source": [
        "#Covariance\n",
        "cov=mdata.cov()"
      ],
      "execution_count": 0,
      "outputs": []
    },
    {
      "cell_type": "code",
      "metadata": {
        "id": "uCDUYx-7g82e",
        "colab_type": "code",
        "colab": {}
      },
      "source": [
        "#Eigen value,vector\n",
        "eVal,eVec=np.linalg.eig(cov)\n",
        "eVec=eVec.T\n",
        "eVal,eVec=zip(*sorted(zip(eVal,eVec),reverse=True))"
      ],
      "execution_count": 0,
      "outputs": []
    },
    {
      "cell_type": "code",
      "metadata": {
        "id": "QeSS2aePhTpO",
        "colab_type": "code",
        "outputId": "14d9e0c8-e0e2-4e38-a6f1-09700b1fbb35",
        "colab": {
          "base_uri": "https://localhost:8080/",
          "height": 204
        }
      },
      "source": [
        "#new Reduced Data\n",
        "eVec=eVec[:k]\n",
        "z=pd.DataFrame(np.dot(data,np.array(eVec).T))\n",
        "z.head()"
      ],
      "execution_count": 0,
      "outputs": [
        {
          "output_type": "execute_result",
          "data": {
            "text/html": [
              "<div>\n",
              "<style scoped>\n",
              "    .dataframe tbody tr th:only-of-type {\n",
              "        vertical-align: middle;\n",
              "    }\n",
              "\n",
              "    .dataframe tbody tr th {\n",
              "        vertical-align: top;\n",
              "    }\n",
              "\n",
              "    .dataframe thead th {\n",
              "        text-align: right;\n",
              "    }\n",
              "</style>\n",
              "<table border=\"1\" class=\"dataframe\">\n",
              "  <thead>\n",
              "    <tr style=\"text-align: right;\">\n",
              "      <th></th>\n",
              "      <th>0</th>\n",
              "      <th>1</th>\n",
              "    </tr>\n",
              "  </thead>\n",
              "  <tbody>\n",
              "    <tr>\n",
              "      <th>0</th>\n",
              "      <td>2.827136</td>\n",
              "      <td>-5.641331</td>\n",
              "    </tr>\n",
              "    <tr>\n",
              "      <th>1</th>\n",
              "      <td>2.795952</td>\n",
              "      <td>-5.145167</td>\n",
              "    </tr>\n",
              "    <tr>\n",
              "      <th>2</th>\n",
              "      <td>2.621524</td>\n",
              "      <td>-5.177378</td>\n",
              "    </tr>\n",
              "    <tr>\n",
              "      <th>3</th>\n",
              "      <td>2.764906</td>\n",
              "      <td>-5.003599</td>\n",
              "    </tr>\n",
              "    <tr>\n",
              "      <th>4</th>\n",
              "      <td>2.782750</td>\n",
              "      <td>-5.648648</td>\n",
              "    </tr>\n",
              "  </tbody>\n",
              "</table>\n",
              "</div>"
            ],
            "text/plain": [
              "          0         1\n",
              "0  2.827136 -5.641331\n",
              "1  2.795952 -5.145167\n",
              "2  2.621524 -5.177378\n",
              "3  2.764906 -5.003599\n",
              "4  2.782750 -5.648648"
            ]
          },
          "metadata": {
            "tags": []
          },
          "execution_count": 28
        }
      ]
    },
    {
      "cell_type": "code",
      "metadata": {
        "id": "xBelaJmJmFTT",
        "colab_type": "code",
        "outputId": "cf51a650-01fe-4cb9-d366-aa4a2c562f1a",
        "colab": {
          "base_uri": "https://localhost:8080/",
          "height": 286
        }
      },
      "source": [
        "plt.subplot(1,2,1)\n",
        "plt.scatter(data[:50][0],data[:50][1],color='r')\n",
        "plt.scatter(data[50:100][0],data[50:100][1],color='b')\n",
        "plt.scatter(data[100:][0],data[100:][1],color='g')\n",
        "plt.subplot(1,2,2)\n",
        "plt.scatter(z[:50][0],z[:50][1],color='r')\n",
        "plt.scatter(z[50:100][0],z[50:100][1],color='b')\n",
        "plt.scatter(z[100:][0],z[100:][1],color='g')"
      ],
      "execution_count": 0,
      "outputs": [
        {
          "output_type": "execute_result",
          "data": {
            "text/plain": [
              "<matplotlib.collections.PathCollection at 0x7f509e076080>"
            ]
          },
          "metadata": {
            "tags": []
          },
          "execution_count": 29
        },
        {
          "output_type": "display_data",
          "data": {
            "image/png": "[encoded data removed]",
            "text/plain": [
              "<Figure size 432x288 with 2 Axes>"
            ]
          },
          "metadata": {
            "tags": []
          }
        }
      ]
    },
    {
      "cell_type": "markdown",
      "metadata": {
        "id": "jdZDR9aVMrco",
        "colab_type": "text"
      },
      "source": [
        "# SVM"
      ]
    },
    {
      "cell_type": "code",
      "metadata": {
        "id": "NzEMa14EMvJ2",
        "colab_type": "code",
        "colab": {}
      },
      "source": [
        "from sklearn.svm import SVC\n",
        "import pandas as pd\n",
        "from sklearn import datasets\n",
        "from sklearn.metrics import accuracy_score\n",
        "from sklearn.model_selection import GridSearchCV"
      ],
      "execution_count": 0,
      "outputs": []
    },
    {
      "cell_type": "code",
      "metadata": {
        "id": "kRChxCeVNoCp",
        "colab_type": "code",
        "outputId": "7563b5d3-c367-431f-c8ac-727b015c7647",
        "colab": {
          "base_uri": "https://localhost:8080/",
          "height": 258
        }
      },
      "source": [
        "cancer=datasets.load_breast_cancer()\n",
        "data=pd.DataFrame(cancer.data,columns=cancer.feature_names)\n",
        "y=cancer.target\n",
        "data.head()"
      ],
      "execution_count": 0,
      "outputs": [
        {
          "output_type": "execute_result",
          "data": {
            "text/html": [
              "<div>\n",
              "<style scoped>\n",
              "    .dataframe tbody tr th:only-of-type {\n",
              "        vertical-align: middle;\n",
              "    }\n",
              "\n",
              "    .dataframe tbody tr th {\n",
              "        vertical-align: top;\n",
              "    }\n",
              "\n",
              "    .dataframe thead th {\n",
              "        text-align: right;\n",
              "    }\n",
              "</style>\n",
              "<table border=\"1\" class=\"dataframe\">\n",
              "  <thead>\n",
              "    <tr style=\"text-align: right;\">\n",
              "      <th></th>\n",
              "      <th>mean radius</th>\n",
              "      <th>mean texture</th>\n",
              "      <th>mean perimeter</th>\n",
              "      <th>mean area</th>\n",
              "      <th>mean smoothness</th>\n",
              "      <th>mean compactness</th>\n",
              "      <th>mean concavity</th>\n",
              "      <th>mean concave points</th>\n",
              "      <th>mean symmetry</th>\n",
              "      <th>mean fractal dimension</th>\n",
              "      <th>radius error</th>\n",
              "      <th>texture error</th>\n",
              "      <th>perimeter error</th>\n",
              "      <th>area error</th>\n",
              "      <th>smoothness error</th>\n",
              "      <th>compactness error</th>\n",
              "      <th>concavity error</th>\n",
              "      <th>concave points error</th>\n",
              "      <th>symmetry error</th>\n",
              "      <th>fractal dimension error</th>\n",
              "      <th>worst radius</th>\n",
              "      <th>worst texture</th>\n",
              "      <th>worst perimeter</th>\n",
              "      <th>worst area</th>\n",
              "      <th>worst smoothness</th>\n",
              "      <th>worst compactness</th>\n",
              "      <th>worst concavity</th>\n",
              "      <th>worst concave points</th>\n",
              "      <th>worst symmetry</th>\n",
              "      <th>worst fractal dimension</th>\n",
              "    </tr>\n",
              "  </thead>\n",
              "  <tbody>\n",
              "    <tr>\n",
              "      <th>0</th>\n",
              "      <td>17.99</td>\n",
              "      <td>10.38</td>\n",
              "      <td>122.80</td>\n",
              "      <td>1001.0</td>\n",
              "      <td>0.11840</td>\n",
              "      <td>0.27760</td>\n",
              "      <td>0.3001</td>\n",
              "      <td>0.14710</td>\n",
              "      <td>0.2419</td>\n",
              "      <td>0.07871</td>\n",
              "      <td>1.0950</td>\n",
              "      <td>0.9053</td>\n",
              "      <td>8.589</td>\n",
              "      <td>153.40</td>\n",
              "      <td>0.006399</td>\n",
              "      <td>0.04904</td>\n",
              "      <td>0.05373</td>\n",
              "      <td>0.01587</td>\n",
              "      <td>0.03003</td>\n",
              "      <td>0.006193</td>\n",
              "      <td>25.38</td>\n",
              "      <td>17.33</td>\n",
              "      <td>184.60</td>\n",
              "      <td>2019.0</td>\n",
              "      <td>0.1622</td>\n",
              "      <td>0.6656</td>\n",
              "      <td>0.7119</td>\n",
              "      <td>0.2654</td>\n",
              "      <td>0.4601</td>\n",
              "      <td>0.11890</td>\n",
              "    </tr>\n",
              "    <tr>\n",
              "      <th>1</th>\n",
              "      <td>20.57</td>\n",
              "      <td>17.77</td>\n",
              "      <td>132.90</td>\n",
              "      <td>1326.0</td>\n",
              "      <td>0.08474</td>\n",
              "      <td>0.07864</td>\n",
              "      <td>0.0869</td>\n",
              "      <td>0.07017</td>\n",
              "      <td>0.1812</td>\n",
              "      <td>0.05667</td>\n",
              "      <td>0.5435</td>\n",
              "      <td>0.7339</td>\n",
              "      <td>3.398</td>\n",
              "      <td>74.08</td>\n",
              "      <td>0.005225</td>\n",
              "      <td>0.01308</td>\n",
              "      <td>0.01860</td>\n",
              "      <td>0.01340</td>\n",
              "      <td>0.01389</td>\n",
              "      <td>0.003532</td>\n",
              "      <td>24.99</td>\n",
              "      <td>23.41</td>\n",
              "      <td>158.80</td>\n",
              "      <td>1956.0</td>\n",
              "      <td>0.1238</td>\n",
              "      <td>0.1866</td>\n",
              "      <td>0.2416</td>\n",
              "      <td>0.1860</td>\n",
              "      <td>0.2750</td>\n",
              "      <td>0.08902</td>\n",
              "    </tr>\n",
              "    <tr>\n",
              "      <th>2</th>\n",
              "      <td>19.69</td>\n",
              "      <td>21.25</td>\n",
              "      <td>130.00</td>\n",
              "      <td>1203.0</td>\n",
              "      <td>0.10960</td>\n",
              "      <td>0.15990</td>\n",
              "      <td>0.1974</td>\n",
              "      <td>0.12790</td>\n",
              "      <td>0.2069</td>\n",
              "      <td>0.05999</td>\n",
              "      <td>0.7456</td>\n",
              "      <td>0.7869</td>\n",
              "      <td>4.585</td>\n",
              "      <td>94.03</td>\n",
              "      <td>0.006150</td>\n",
              "      <td>0.04006</td>\n",
              "      <td>0.03832</td>\n",
              "      <td>0.02058</td>\n",
              "      <td>0.02250</td>\n",
              "      <td>0.004571</td>\n",
              "      <td>23.57</td>\n",
              "      <td>25.53</td>\n",
              "      <td>152.50</td>\n",
              "      <td>1709.0</td>\n",
              "      <td>0.1444</td>\n",
              "      <td>0.4245</td>\n",
              "      <td>0.4504</td>\n",
              "      <td>0.2430</td>\n",
              "      <td>0.3613</td>\n",
              "      <td>0.08758</td>\n",
              "    </tr>\n",
              "    <tr>\n",
              "      <th>3</th>\n",
              "      <td>11.42</td>\n",
              "      <td>20.38</td>\n",
              "      <td>77.58</td>\n",
              "      <td>386.1</td>\n",
              "      <td>0.14250</td>\n",
              "      <td>0.28390</td>\n",
              "      <td>0.2414</td>\n",
              "      <td>0.10520</td>\n",
              "      <td>0.2597</td>\n",
              "      <td>0.09744</td>\n",
              "      <td>0.4956</td>\n",
              "      <td>1.1560</td>\n",
              "      <td>3.445</td>\n",
              "      <td>27.23</td>\n",
              "      <td>0.009110</td>\n",
              "      <td>0.07458</td>\n",
              "      <td>0.05661</td>\n",
              "      <td>0.01867</td>\n",
              "      <td>0.05963</td>\n",
              "      <td>0.009208</td>\n",
              "      <td>14.91</td>\n",
              "      <td>26.50</td>\n",
              "      <td>98.87</td>\n",
              "      <td>567.7</td>\n",
              "      <td>0.2098</td>\n",
              "      <td>0.8663</td>\n",
              "      <td>0.6869</td>\n",
              "      <td>0.2575</td>\n",
              "      <td>0.6638</td>\n",
              "      <td>0.17300</td>\n",
              "    </tr>\n",
              "    <tr>\n",
              "      <th>4</th>\n",
              "      <td>20.29</td>\n",
              "      <td>14.34</td>\n",
              "      <td>135.10</td>\n",
              "      <td>1297.0</td>\n",
              "      <td>0.10030</td>\n",
              "      <td>0.13280</td>\n",
              "      <td>0.1980</td>\n",
              "      <td>0.10430</td>\n",
              "      <td>0.1809</td>\n",
              "      <td>0.05883</td>\n",
              "      <td>0.7572</td>\n",
              "      <td>0.7813</td>\n",
              "      <td>5.438</td>\n",
              "      <td>94.44</td>\n",
              "      <td>0.011490</td>\n",
              "      <td>0.02461</td>\n",
              "      <td>0.05688</td>\n",
              "      <td>0.01885</td>\n",
              "      <td>0.01756</td>\n",
              "      <td>0.005115</td>\n",
              "      <td>22.54</td>\n",
              "      <td>16.67</td>\n",
              "      <td>152.20</td>\n",
              "      <td>1575.0</td>\n",
              "      <td>0.1374</td>\n",
              "      <td>0.2050</td>\n",
              "      <td>0.4000</td>\n",
              "      <td>0.1625</td>\n",
              "      <td>0.2364</td>\n",
              "      <td>0.07678</td>\n",
              "    </tr>\n",
              "  </tbody>\n",
              "</table>\n",
              "</div>"
            ],
            "text/plain": [
              "   mean radius  mean texture  ...  worst symmetry  worst fractal dimension\n",
              "0        17.99         10.38  ...          0.4601                  0.11890\n",
              "1        20.57         17.77  ...          0.2750                  0.08902\n",
              "2        19.69         21.25  ...          0.3613                  0.08758\n",
              "3        11.42         20.38  ...          0.6638                  0.17300\n",
              "4        20.29         14.34  ...          0.2364                  0.07678\n",
              "\n",
              "[5 rows x 30 columns]"
            ]
          },
          "metadata": {
            "tags": []
          },
          "execution_count": 21
        }
      ]
    },
    {
      "cell_type": "code",
      "metadata": {
        "id": "wmeUR07sN6Rn",
        "colab_type": "code",
        "outputId": "56c3ff91-aade-4c6d-b4e4-058ebd1658a0",
        "colab": {
          "base_uri": "https://localhost:8080/",
          "height": 88
        }
      },
      "source": [
        "params={'kernel':('linear','rbf','poly')}\n",
        "model=SVC(gamma='scale')\n",
        "clf=GridSearchCV(model,params,cv=5)\n",
        "clf.fit(data,y)\n",
        "ypred=clf.predict(data)\n",
        "accuracy_score(y,ypred)"
      ],
      "execution_count": 0,
      "outputs": [
        {
          "output_type": "stream",
          "text": [
            "/usr/local/lib/python3.6/dist-packages/sklearn/model_selection/_search.py:814: DeprecationWarning: The default of the `iid` parameter will change from True to False in version 0.22 and will be removed in 0.24. This will change numeric results when test-set sizes are unequal.\n",
            "  DeprecationWarning)\n"
          ],
          "name": "stderr"
        },
        {
          "output_type": "execute_result",
          "data": {
            "text/plain": [
              "0.9666080843585237"
            ]
          },
          "metadata": {
            "tags": []
          },
          "execution_count": 22
        }
      ]
    },
    {
      "cell_type": "markdown",
      "metadata": {
        "id": "NzNyL3MISbC9",
        "colab_type": "text"
      },
      "source": [
        "# Linear Discriminant Analysis"
      ]
    },
    {
      "cell_type": "code",
      "metadata": {
        "id": "7ExKtAWJOtoc",
        "colab_type": "code",
        "colab": {}
      },
      "source": [
        "from sklearn import datasets\n",
        "import pandas as pd\n",
        "import numpy as np"
      ],
      "execution_count": 0,
      "outputs": []
    },
    {
      "cell_type": "code",
      "metadata": {
        "id": "NMx7Tu93TGqL",
        "colab_type": "code",
        "outputId": "dcb568ca-8460-410f-f699-1186555c852d",
        "colab": {
          "base_uri": "https://localhost:8080/",
          "height": 258
        }
      },
      "source": [
        "cancer=datasets.load_breast_cancer()\n",
        "data=pd.DataFrame(cancer.data,columns=cancer.feature_names)\n",
        "y=cancer.target\n",
        "data['target']=y\n",
        "data.head()\n",
        "#data=[[4,2,0],[2,4,0],[2,3,0],[3,6,0],[4,4,0],[9,10,1],[6,8,1],[9,5,1],[8,7,1],[10,8,1]]\n",
        "#data=pd.DataFrame(data,columns=['x1','x2','target'])"
      ],
      "execution_count": 0,
      "outputs": [
        {
          "output_type": "execute_result",
          "data": {
            "text/html": [
              "<div>\n",
              "<style scoped>\n",
              "    .dataframe tbody tr th:only-of-type {\n",
              "        vertical-align: middle;\n",
              "    }\n",
              "\n",
              "    .dataframe tbody tr th {\n",
              "        vertical-align: top;\n",
              "    }\n",
              "\n",
              "    .dataframe thead th {\n",
              "        text-align: right;\n",
              "    }\n",
              "</style>\n",
              "<table border=\"1\" class=\"dataframe\">\n",
              "  <thead>\n",
              "    <tr style=\"text-align: right;\">\n",
              "      <th></th>\n",
              "      <th>mean radius</th>\n",
              "      <th>mean texture</th>\n",
              "      <th>mean perimeter</th>\n",
              "      <th>mean area</th>\n",
              "      <th>mean smoothness</th>\n",
              "      <th>mean compactness</th>\n",
              "      <th>mean concavity</th>\n",
              "      <th>mean concave points</th>\n",
              "      <th>mean symmetry</th>\n",
              "      <th>mean fractal dimension</th>\n",
              "      <th>radius error</th>\n",
              "      <th>texture error</th>\n",
              "      <th>perimeter error</th>\n",
              "      <th>area error</th>\n",
              "      <th>smoothness error</th>\n",
              "      <th>compactness error</th>\n",
              "      <th>concavity error</th>\n",
              "      <th>concave points error</th>\n",
              "      <th>symmetry error</th>\n",
              "      <th>fractal dimension error</th>\n",
              "      <th>worst radius</th>\n",
              "      <th>worst texture</th>\n",
              "      <th>worst perimeter</th>\n",
              "      <th>worst area</th>\n",
              "      <th>worst smoothness</th>\n",
              "      <th>worst compactness</th>\n",
              "      <th>worst concavity</th>\n",
              "      <th>worst concave points</th>\n",
              "      <th>worst symmetry</th>\n",
              "      <th>worst fractal dimension</th>\n",
              "      <th>target</th>\n",
              "    </tr>\n",
              "  </thead>\n",
              "  <tbody>\n",
              "    <tr>\n",
              "      <th>0</th>\n",
              "      <td>17.99</td>\n",
              "      <td>10.38</td>\n",
              "      <td>122.80</td>\n",
              "      <td>1001.0</td>\n",
              "      <td>0.11840</td>\n",
              "      <td>0.27760</td>\n",
              "      <td>0.3001</td>\n",
              "      <td>0.14710</td>\n",
              "      <td>0.2419</td>\n",
              "      <td>0.07871</td>\n",
              "      <td>1.0950</td>\n",
              "      <td>0.9053</td>\n",
              "      <td>8.589</td>\n",
              "      <td>153.40</td>\n",
              "      <td>0.006399</td>\n",
              "      <td>0.04904</td>\n",
              "      <td>0.05373</td>\n",
              "      <td>0.01587</td>\n",
              "      <td>0.03003</td>\n",
              "      <td>0.006193</td>\n",
              "      <td>25.38</td>\n",
              "      <td>17.33</td>\n",
              "      <td>184.60</td>\n",
              "      <td>2019.0</td>\n",
              "      <td>0.1622</td>\n",
              "      <td>0.6656</td>\n",
              "      <td>0.7119</td>\n",
              "      <td>0.2654</td>\n",
              "      <td>0.4601</td>\n",
              "      <td>0.11890</td>\n",
              "      <td>0</td>\n",
              "    </tr>\n",
              "    <tr>\n",
              "      <th>1</th>\n",
              "      <td>20.57</td>\n",
              "      <td>17.77</td>\n",
              "      <td>132.90</td>\n",
              "      <td>1326.0</td>\n",
              "      <td>0.08474</td>\n",
              "      <td>0.07864</td>\n",
              "      <td>0.0869</td>\n",
              "      <td>0.07017</td>\n",
              "      <td>0.1812</td>\n",
              "      <td>0.05667</td>\n",
              "      <td>0.5435</td>\n",
              "      <td>0.7339</td>\n",
              "      <td>3.398</td>\n",
              "      <td>74.08</td>\n",
              "      <td>0.005225</td>\n",
              "      <td>0.01308</td>\n",
              "      <td>0.01860</td>\n",
              "      <td>0.01340</td>\n",
              "      <td>0.01389</td>\n",
              "      <td>0.003532</td>\n",
              "      <td>24.99</td>\n",
              "      <td>23.41</td>\n",
              "      <td>158.80</td>\n",
              "      <td>1956.0</td>\n",
              "      <td>0.1238</td>\n",
              "      <td>0.1866</td>\n",
              "      <td>0.2416</td>\n",
              "      <td>0.1860</td>\n",
              "      <td>0.2750</td>\n",
              "      <td>0.08902</td>\n",
              "      <td>0</td>\n",
              "    </tr>\n",
              "    <tr>\n",
              "      <th>2</th>\n",
              "      <td>19.69</td>\n",
              "      <td>21.25</td>\n",
              "      <td>130.00</td>\n",
              "      <td>1203.0</td>\n",
              "      <td>0.10960</td>\n",
              "      <td>0.15990</td>\n",
              "      <td>0.1974</td>\n",
              "      <td>0.12790</td>\n",
              "      <td>0.2069</td>\n",
              "      <td>0.05999</td>\n",
              "      <td>0.7456</td>\n",
              "      <td>0.7869</td>\n",
              "      <td>4.585</td>\n",
              "      <td>94.03</td>\n",
              "      <td>0.006150</td>\n",
              "      <td>0.04006</td>\n",
              "      <td>0.03832</td>\n",
              "      <td>0.02058</td>\n",
              "      <td>0.02250</td>\n",
              "      <td>0.004571</td>\n",
              "      <td>23.57</td>\n",
              "      <td>25.53</td>\n",
              "      <td>152.50</td>\n",
              "      <td>1709.0</td>\n",
              "      <td>0.1444</td>\n",
              "      <td>0.4245</td>\n",
              "      <td>0.4504</td>\n",
              "      <td>0.2430</td>\n",
              "      <td>0.3613</td>\n",
              "      <td>0.08758</td>\n",
              "      <td>0</td>\n",
              "    </tr>\n",
              "    <tr>\n",
              "      <th>3</th>\n",
              "      <td>11.42</td>\n",
              "      <td>20.38</td>\n",
              "      <td>77.58</td>\n",
              "      <td>386.1</td>\n",
              "      <td>0.14250</td>\n",
              "      <td>0.28390</td>\n",
              "      <td>0.2414</td>\n",
              "      <td>0.10520</td>\n",
              "      <td>0.2597</td>\n",
              "      <td>0.09744</td>\n",
              "      <td>0.4956</td>\n",
              "      <td>1.1560</td>\n",
              "      <td>3.445</td>\n",
              "      <td>27.23</td>\n",
              "      <td>0.009110</td>\n",
              "      <td>0.07458</td>\n",
              "      <td>0.05661</td>\n",
              "      <td>0.01867</td>\n",
              "      <td>0.05963</td>\n",
              "      <td>0.009208</td>\n",
              "      <td>14.91</td>\n",
              "      <td>26.50</td>\n",
              "      <td>98.87</td>\n",
              "      <td>567.7</td>\n",
              "      <td>0.2098</td>\n",
              "      <td>0.8663</td>\n",
              "      <td>0.6869</td>\n",
              "      <td>0.2575</td>\n",
              "      <td>0.6638</td>\n",
              "      <td>0.17300</td>\n",
              "      <td>0</td>\n",
              "    </tr>\n",
              "    <tr>\n",
              "      <th>4</th>\n",
              "      <td>20.29</td>\n",
              "      <td>14.34</td>\n",
              "      <td>135.10</td>\n",
              "      <td>1297.0</td>\n",
              "      <td>0.10030</td>\n",
              "      <td>0.13280</td>\n",
              "      <td>0.1980</td>\n",
              "      <td>0.10430</td>\n",
              "      <td>0.1809</td>\n",
              "      <td>0.05883</td>\n",
              "      <td>0.7572</td>\n",
              "      <td>0.7813</td>\n",
              "      <td>5.438</td>\n",
              "      <td>94.44</td>\n",
              "      <td>0.011490</td>\n",
              "      <td>0.02461</td>\n",
              "      <td>0.05688</td>\n",
              "      <td>0.01885</td>\n",
              "      <td>0.01756</td>\n",
              "      <td>0.005115</td>\n",
              "      <td>22.54</td>\n",
              "      <td>16.67</td>\n",
              "      <td>152.20</td>\n",
              "      <td>1575.0</td>\n",
              "      <td>0.1374</td>\n",
              "      <td>0.2050</td>\n",
              "      <td>0.4000</td>\n",
              "      <td>0.1625</td>\n",
              "      <td>0.2364</td>\n",
              "      <td>0.07678</td>\n",
              "      <td>0</td>\n",
              "    </tr>\n",
              "  </tbody>\n",
              "</table>\n",
              "</div>"
            ],
            "text/plain": [
              "   mean radius  mean texture  ...  worst fractal dimension  target\n",
              "0        17.99         10.38  ...                  0.11890       0\n",
              "1        20.57         17.77  ...                  0.08902       0\n",
              "2        19.69         21.25  ...                  0.08758       0\n",
              "3        11.42         20.38  ...                  0.17300       0\n",
              "4        20.29         14.34  ...                  0.07678       0\n",
              "\n",
              "[5 rows x 31 columns]"
            ]
          },
          "metadata": {
            "tags": []
          },
          "execution_count": 130
        }
      ]
    },
    {
      "cell_type": "code",
      "metadata": {
        "id": "6-qMRHj-TgGP",
        "colab_type": "code",
        "colab": {}
      },
      "source": [
        "d1=data.loc[data.target==0]\n",
        "d1=d1.drop(columns=['target'])\n",
        "d2=data.loc[data.target==1]\n",
        "d2=d2.drop(columns=['target'])"
      ],
      "execution_count": 0,
      "outputs": []
    },
    {
      "cell_type": "code",
      "metadata": {
        "id": "PyGIQIXxULqa",
        "colab_type": "code",
        "colab": {}
      },
      "source": [
        "m1=d1.mean()\n",
        "m2=d2.mean()"
      ],
      "execution_count": 0,
      "outputs": []
    },
    {
      "cell_type": "code",
      "metadata": {
        "id": "eweMqxPYUtnG",
        "colab_type": "code",
        "colab": {}
      },
      "source": [
        "d1=d1-m1\n",
        "d2=d2-m2\n",
        "s1=sum([np.matmul( i.reshape(len(i),1) , i.reshape(1,len(i))) for i in d1.values])\n",
        "s2=sum([np.matmul( i.reshape(len(i),1) , i.reshape(1,len(i))) for i in d2.values])"
      ],
      "execution_count": 0,
      "outputs": []
    },
    {
      "cell_type": "code",
      "metadata": {
        "id": "xWqI5U_gUub0",
        "colab_type": "code",
        "colab": {}
      },
      "source": [
        "sw=s1+s2\n",
        "sb=np.matmul((m1.values-m2.values).reshape(len(m1), 1), (m1.values-m2.values).reshape(1, len(m2)))"
      ],
      "execution_count": 0,
      "outputs": []
    },
    {
      "cell_type": "code",
      "metadata": {
        "id": "W8Rl9NgqWNkp",
        "colab_type": "code",
        "colab": {}
      },
      "source": [
        "A = np.matmul(np.linalg.inv(sw), sb)"
      ],
      "execution_count": 0,
      "outputs": []
    },
    {
      "cell_type": "code",
      "metadata": {
        "id": "S4YKdkP9YQUl",
        "colab_type": "code",
        "colab": {}
      },
      "source": [
        "eVal,eVec=np.linalg.eig(A)\n",
        "eVec=eVec.T\n",
        "eVal,eVec=zip(*sorted(zip(eVal,eVec),reverse=True))"
      ],
      "execution_count": 0,
      "outputs": []
    },
    {
      "cell_type": "code",
      "metadata": {
        "id": "NWKe00KP5OV4",
        "colab_type": "code",
        "outputId": "18d00c7b-8a65-45a3-f0f5-619bdceaca97",
        "colab": {
          "base_uri": "https://localhost:8080/",
          "height": 187
        }
      },
      "source": [
        "k=1\n",
        "eVec=eVec[:1]\n",
        "eVec"
      ],
      "execution_count": 0,
      "outputs": [
        {
          "output_type": "execute_result",
          "data": {
            "text/plain": [
              "(array([ 1.00040512e-02+0.j, -2.08810544e-04+0.j, -1.09056593e-03+0.j,\n",
              "        -1.46007490e-05+0.j, -3.89046456e-03+0.j,  1.93952602e-01+0.j,\n",
              "        -6.42214465e-02+0.j, -9.83919045e-02+0.j, -4.71827341e-03+0.j,\n",
              "        -1.52797770e-03+0.j, -1.99810826e-02+0.j,  3.10471898e-04+0.j,\n",
              "         1.03453958e-03+0.j,  4.24109466e-05+0.j, -7.28318592e-01+0.j,\n",
              "        -2.98154428e-03+0.j,  1.63791099e-01+0.j, -4.85472417e-01+0.j,\n",
              "        -7.79727371e-02+0.j,  3.28294432e-01+0.j, -8.96635676e-03+0.j,\n",
              "        -3.28888645e-04+0.j,  1.11861784e-04+0.j,  4.64537557e-05+0.j,\n",
              "        -2.49378545e-02+0.j, -3.08512960e-03+0.j, -1.75112295e-02+0.j,\n",
              "        -2.13295501e-02+0.j, -2.55778048e-02+0.j, -1.97694168e-01+0.j]),)"
            ]
          },
          "metadata": {
            "tags": []
          },
          "execution_count": 137
        }
      ]
    },
    {
      "cell_type": "code",
      "metadata": {
        "id": "V3zIDdfRY5EJ",
        "colab_type": "code",
        "outputId": "758e889f-b558-4d4d-f577-167922a8772f",
        "colab": {
          "base_uri": "https://localhost:8080/",
          "height": 204
        }
      },
      "source": [
        "data=data.drop(columns=['target'])\n",
        "z=pd.DataFrame(np.dot(data,np.array(eVec).T))\n",
        "z.head()"
      ],
      "execution_count": 0,
      "outputs": [
        {
          "output_type": "execute_result",
          "data": {
            "text/html": [
              "<div>\n",
              "<style scoped>\n",
              "    .dataframe tbody tr th:only-of-type {\n",
              "        vertical-align: middle;\n",
              "    }\n",
              "\n",
              "    .dataframe tbody tr th {\n",
              "        vertical-align: top;\n",
              "    }\n",
              "\n",
              "    .dataframe thead th {\n",
              "        text-align: right;\n",
              "    }\n",
              "</style>\n",
              "<table border=\"1\" class=\"dataframe\">\n",
              "  <thead>\n",
              "    <tr style=\"text-align: right;\">\n",
              "      <th></th>\n",
              "      <th>0</th>\n",
              "    </tr>\n",
              "  </thead>\n",
              "  <tbody>\n",
              "    <tr>\n",
              "      <th>0</th>\n",
              "      <td>(-0.1409101466330904+0j)</td>\n",
              "    </tr>\n",
              "    <tr>\n",
              "      <th>1</th>\n",
              "      <td>(-0.1315642786013714+0j)</td>\n",
              "    </tr>\n",
              "    <tr>\n",
              "      <th>2</th>\n",
              "      <td>(-0.14484911739686984+0j)</td>\n",
              "    </tr>\n",
              "    <tr>\n",
              "      <th>3</th>\n",
              "      <td>(-0.14764989094930717+0j)</td>\n",
              "    </tr>\n",
              "    <tr>\n",
              "      <th>4</th>\n",
              "      <td>(-0.13121130075905468+0j)</td>\n",
              "    </tr>\n",
              "  </tbody>\n",
              "</table>\n",
              "</div>"
            ],
            "text/plain": [
              "                           0\n",
              "0   (-0.1409101466330904+0j)\n",
              "1   (-0.1315642786013714+0j)\n",
              "2  (-0.14484911739686984+0j)\n",
              "3  (-0.14764989094930717+0j)\n",
              "4  (-0.13121130075905468+0j)"
            ]
          },
          "metadata": {
            "tags": []
          },
          "execution_count": 138
        }
      ]
    },
    {
      "cell_type": "code",
      "metadata": {
        "id": "x5aEXWFjZX35",
        "colab_type": "code",
        "colab": {}
      },
      "source": [
        "from sklearn.discriminant_analysis import LinearDiscriminantAnalysis as lda"
      ],
      "execution_count": 0,
      "outputs": []
    },
    {
      "cell_type": "code",
      "metadata": {
        "id": "oOZtS_B053XQ",
        "colab_type": "code",
        "colab": {}
      },
      "source": [
        "x=np.array([[4,2],[2,4],[2,3],[3,6],[4,4],[9,10],[6,8],[9,5],[8,7],[10,8]])\n",
        "y=np.array([0,0,0,0,0,1,1,1,1,1])"
      ],
      "execution_count": 0,
      "outputs": []
    },
    {
      "cell_type": "code",
      "metadata": {
        "id": "VyIa78D0Zr5Z",
        "colab_type": "code",
        "colab": {}
      },
      "source": [
        "model=lda(solver='eigen')\n",
        "model=model.fit(x,y)"
      ],
      "execution_count": 0,
      "outputs": []
    },
    {
      "cell_type": "code",
      "metadata": {
        "id": "C0ThuVI3a2gZ",
        "colab_type": "code",
        "outputId": "fea7c52d-4fd0-4d0a-f2ff-3a51758cfa5a",
        "colab": {
          "base_uri": "https://localhost:8080/",
          "height": 187
        }
      },
      "source": [
        "model.transform(x)"
      ],
      "execution_count": 0,
      "outputs": [
        {
          "output_type": "execute_result",
          "data": {
            "text/plain": [
              "array([[ -3.80179624],\n",
              "       [ -2.96564169],\n",
              "       [ -2.61072716],\n",
              "       [ -4.44846253],\n",
              "       [ -4.51162528],\n",
              "       [-10.50607141],\n",
              "       [ -7.47726697],\n",
              "       [ -8.7314988 ],\n",
              "       [ -8.66833605],\n",
              "       [-10.56923417]])"
            ]
          },
          "metadata": {
            "tags": []
          },
          "execution_count": 101
        }
      ]
    },
    {
      "cell_type": "markdown",
      "metadata": {
        "id": "PWDN-57nX6tK",
        "colab_type": "text"
      },
      "source": [
        "# t Hypothesis testing"
      ]
    },
    {
      "cell_type": "code",
      "metadata": {
        "id": "jsql0rZujejd",
        "colab_type": "code",
        "colab": {}
      },
      "source": [
        "import warnings\n",
        "warnings.filterwarnings('ignore')"
      ],
      "execution_count": 0,
      "outputs": []
    },
    {
      "cell_type": "code",
      "metadata": {
        "id": "05gSuXntfxkk",
        "colab_type": "code",
        "colab": {}
      },
      "source": [
        "import pandas as pd\n",
        "from sklearn.datasets import load_breast_cancer"
      ],
      "execution_count": 0,
      "outputs": []
    },
    {
      "cell_type": "code",
      "metadata": {
        "id": "T2Isg1DZZKYa",
        "colab_type": "code",
        "colab": {}
      },
      "source": [
        "data=load_breast_cancer()\n",
        "x=data.data\n",
        "y=data.target"
      ],
      "execution_count": 0,
      "outputs": []
    },
    {
      "cell_type": "code",
      "metadata": {
        "id": "EFOgb8gBZcuG",
        "colab_type": "code",
        "colab": {}
      },
      "source": [
        "from sklearn.model_selection import KFold\n",
        "from sklearn.linear_model import LogisticRegression\n",
        "from sklearn.linear_model import Perceptron\n",
        "from sklearn.naive_bayes import GaussianNB\n",
        "from sklearn.metrics import f1_score"
      ],
      "execution_count": 0,
      "outputs": []
    },
    {
      "cell_type": "code",
      "metadata": {
        "id": "Jdm6C3ARcQpI",
        "colab_type": "code",
        "outputId": "9de5b330-757e-4b21-c0c5-e195fb406de7",
        "colab": {
          "base_uri": "https://localhost:8080/",
          "height": 204
        }
      },
      "source": [
        "clf = LogisticRegression()\n",
        "\n",
        "kf = KFold(n_splits=10,shuffle=False)\n",
        "\n",
        "fscore_lr = []\n",
        "\n",
        "for train_index, test_index in kf.split(x):\n",
        "  x_train, x_test = x[train_index], x[test_index]\n",
        "  y_train, y_test = y[train_index], y[test_index]\n",
        "  clf.fit(x_train,y_train)\n",
        "  y_pred = clf.predict(x_test)\n",
        "  fscore_lr.append(f1_score(y_test, y_pred))\n",
        "  \n",
        "fscore_lr"
      ],
      "execution_count": 0,
      "outputs": [
        {
          "output_type": "execute_result",
          "data": {
            "text/plain": [
              "[0.7586206896551725,\n",
              " 0.958904109589041,\n",
              " 0.9589041095890412,\n",
              " 0.9666666666666666,\n",
              " 0.9655172413793104,\n",
              " 0.9662921348314608,\n",
              " 0.9879518072289156,\n",
              " 0.9767441860465117,\n",
              " 0.9647058823529412,\n",
              " 0.9767441860465116]"
            ]
          },
          "metadata": {
            "tags": []
          },
          "execution_count": 17
        }
      ]
    },
    {
      "cell_type": "code",
      "metadata": {
        "id": "V1kkTfjwgzio",
        "colab_type": "code",
        "outputId": "b0932a22-941d-40aa-819e-9a8b4153f7a8",
        "colab": {
          "base_uri": "https://localhost:8080/",
          "height": 204
        }
      },
      "source": [
        "clf = Perceptron()\n",
        "\n",
        "kf = KFold(n_splits=10,shuffle=False)\n",
        "\n",
        "fscore_p = []\n",
        "\n",
        "for train_index, test_index in kf.split(x):\n",
        "  x_train, x_test = x[train_index], x[test_index]\n",
        "  y_train, y_test = y[train_index], y[test_index]\n",
        "  clf.fit(x_train,y_train)\n",
        "  y_pred = clf.predict(x_test)\n",
        "  fscore_p.append(f1_score(y_test, y_pred))\n",
        "  \n",
        "fscore_p"
      ],
      "execution_count": 0,
      "outputs": [
        {
          "output_type": "execute_result",
          "data": {
            "text/plain": [
              "[0.5641025641025641,\n",
              " 0.9189189189189189,\n",
              " 0.9444444444444444,\n",
              " 0.8524590163934426,\n",
              " 0.8923076923076924,\n",
              " 0.9156626506024096,\n",
              " 0.9382716049382716,\n",
              " 0.9887640449438202,\n",
              " 0.9024390243902439,\n",
              " 0.9]"
            ]
          },
          "metadata": {
            "tags": []
          },
          "execution_count": 18
        }
      ]
    },
    {
      "cell_type": "code",
      "metadata": {
        "id": "mjNB5sjIknp_",
        "colab_type": "code",
        "outputId": "abefeb7b-bee9-43ed-9500-a3cfa098d0fe",
        "colab": {
          "base_uri": "https://localhost:8080/",
          "height": 204
        }
      },
      "source": [
        "clf = GaussianNB()\n",
        "\n",
        "kf = KFold(n_splits=10,shuffle=False)\n",
        "\n",
        "fscore_b = []\n",
        "\n",
        "for train_index, test_index in kf.split(x):\n",
        "  x_train, x_test = x[train_index], x[test_index]\n",
        "  y_train, y_test = y[train_index], y[test_index]\n",
        "  clf.fit(x_train,y_train)\n",
        "  y_pred = clf.predict(x_test)\n",
        "  fscore_b.append(f1_score(y_test, y_pred))\n",
        "  \n",
        "fscore_b"
      ],
      "execution_count": 0,
      "outputs": [
        {
          "output_type": "execute_result",
          "data": {
            "text/plain": [
              "[0.7857142857142858,\n",
              " 0.888888888888889,\n",
              " 0.9295774647887323,\n",
              " 0.9354838709677419,\n",
              " 0.9491525423728815,\n",
              " 0.9777777777777777,\n",
              " 0.9879518072289156,\n",
              " 0.9772727272727273,\n",
              " 0.9647058823529412,\n",
              " 0.9772727272727273]"
            ]
          },
          "metadata": {
            "tags": []
          },
          "execution_count": 19
        }
      ]
    },
    {
      "cell_type": "code",
      "metadata": {
        "id": "lZQsqcrHl8U6",
        "colab_type": "code",
        "colab": {}
      },
      "source": [
        "import numpy as np\n",
        "from scipy import stats"
      ],
      "execution_count": 0,
      "outputs": []
    },
    {
      "cell_type": "code",
      "metadata": {
        "id": "EWCqJSszk7GF",
        "colab_type": "code",
        "colab": {}
      },
      "source": [
        "def t_test(a,b,alpha):\n",
        "  \n",
        "  N=len(a)\n",
        "  \n",
        "  #For unbiased max likelihood estimate we have to divide the var by N-1, and therefore the parameter ddof = 1\n",
        "  var_a = a.var(ddof=1)\n",
        "  var_b = b.var(ddof=1)\n",
        "\n",
        "  #std deviation\n",
        "  s = np.sqrt((var_a + var_b)/2)\n",
        "\n",
        "  ## Calculate the t-statistics\n",
        "  t = (a.mean() - b.mean())/(s*np.sqrt(2/N))\n",
        "\n",
        "\n",
        "\n",
        "  ## Compare with the critical t-value\n",
        "  #Degrees of freedom\n",
        "  df = 2*N - 2\n",
        "\n",
        "  #p-value after comparison with the t \n",
        "  c = stats.t.ppf(1-alpha/2,df=df)\n",
        "  #print('p = '+ str(stats.t.cdf(t,df=df)))\n",
        "\n",
        "  print('comparison of t and critical values:')\n",
        "  print(\"t = \" + str(t))\n",
        "  print(\"c = \" + str(c))"
      ],
      "execution_count": 0,
      "outputs": []
    },
    {
      "cell_type": "code",
      "metadata": {
        "id": "zjm0Wee7mlQl",
        "colab_type": "code",
        "colab": {}
      },
      "source": [
        "def inbuilt_t_test(a,b):\n",
        "  ## Cross Checking with the internal scipy function\n",
        "  return stats.ttest_ind(a,b,equal_var=False)"
      ],
      "execution_count": 0,
      "outputs": []
    },
    {
      "cell_type": "code",
      "metadata": {
        "id": "eUGQhWPqmzXr",
        "colab_type": "code",
        "outputId": "ec738169-7f0b-43c0-9bb9-1ac1e5876f05",
        "colab": {
          "base_uri": "https://localhost:8080/",
          "height": 185
        }
      },
      "source": [
        "print('Logistic vs. Perceptron\\n')\n",
        "\n",
        "t_test(np.array(fscore_lr),np.array(fscore_p),0.05)\n",
        "t, p = inbuilt_t_test(np.array(fscore_lr),np.array(fscore_p))\n",
        "\n",
        "print('\\np value:')\n",
        "print(\"p = \" + str(p))\n",
        "print('statistically significant' if p<0.05 else 'statistically not significant')"
      ],
      "execution_count": 0,
      "outputs": [
        {
          "output_type": "stream",
          "text": [
            "Logistic vs. Perceptron\n",
            "\n",
            "comparison of t and critical values:\n",
            "t = 1.5530441005217184\n",
            "c = 2.10092204024096\n",
            "\n",
            "p value:\n",
            "p = 0.14220862823785327\n",
            "statistically not significant\n"
          ],
          "name": "stdout"
        }
      ]
    },
    {
      "cell_type": "code",
      "metadata": {
        "id": "H07oeMXUm-YS",
        "colab_type": "code",
        "outputId": "2aa51231-cd06-4ba9-a188-072323ead918",
        "colab": {
          "base_uri": "https://localhost:8080/",
          "height": 185
        }
      },
      "source": [
        "print('Logistic vs. Bayes\\n')\n",
        "\n",
        "t_test(np.array(fscore_lr),np.array(fscore_b),0.05)\n",
        "t, p = inbuilt_t_test(np.array(fscore_lr),np.array(fscore_b))\n",
        "print('\\np value:')\n",
        "print(\"p = \" + str(p))\n",
        "print('statistically significant' if p<0.05 else 'statistically not significant')"
      ],
      "execution_count": 0,
      "outputs": [
        {
          "output_type": "stream",
          "text": [
            "Logistic vs. Bayes\n",
            "\n",
            "comparison of t and critical values:\n",
            "t = 0.37329204477792366\n",
            "c = 2.10092204024096\n",
            "\n",
            "p value:\n",
            "p = 0.713328791058755\n",
            "statistically not significant\n"
          ],
          "name": "stdout"
        }
      ]
    },
    {
      "cell_type": "code",
      "metadata": {
        "id": "jzyZtLRWnix4",
        "colab_type": "code",
        "outputId": "eaee44b3-e6c6-43b9-ed75-85637af03bad",
        "colab": {
          "base_uri": "https://localhost:8080/",
          "height": 185
        }
      },
      "source": [
        "print('Bayes vs. Perceptron\\n')\n",
        "t_test(np.array(fscore_p),np.array(fscore_b),0.05)\n",
        "t, p = inbuilt_t_test(np.array(fscore_p),np.array(fscore_b))\n",
        "print('\\np value:')\n",
        "print(\"p = \" + str(p))\n",
        "print('statistically significant' if p<0.05 else 'statistically not significant')"
      ],
      "execution_count": 0,
      "outputs": [
        {
          "output_type": "stream",
          "text": [
            "Bayes vs. Perceptron\n",
            "\n",
            "comparison of t and critical values:\n",
            "t = -1.3304751607573784\n",
            "c = 2.10092204024096\n",
            "\n",
            "p value:\n",
            "p = 0.20530284537476504\n",
            "statistically not significant\n"
          ],
          "name": "stdout"
        }
      ]
    },
    {
      "cell_type": "markdown",
      "metadata": {
        "id": "o68bfjh0o-y0",
        "colab_type": "text"
      },
      "source": [
        "# k medoids"
      ]
    },
    {
      "cell_type": "code",
      "metadata": {
        "id": "H-O_BN_IJk1L",
        "colab_type": "code",
        "colab": {}
      },
      "source": [
        "!pip install pyclustering"
      ],
      "execution_count": 0,
      "outputs": []
    },
    {
      "cell_type": "code",
      "metadata": {
        "id": "RaEIKhvgnnGL",
        "colab_type": "code",
        "colab": {}
      },
      "source": [
        "from pyclustering.cluster.kmedoids import kmedoids\n",
        "from pyclustering.cluster import cluster_visualizer\n",
        "from pyclustering.utils import read_sample, calculate_distance_matrix\n",
        "from pyclustering.samples.definitions import FCPS_SAMPLES\n",
        "import pandas as pd\n",
        "from sklearn.datasets import load_iris"
      ],
      "execution_count": 0,
      "outputs": []
    },
    {
      "cell_type": "code",
      "metadata": {
        "id": "f92Lamds5Hjc",
        "colab_type": "code",
        "outputId": "7789b890-7ab1-4443-8c7a-cf8215df66a6",
        "colab": {
          "base_uri": "https://localhost:8080/",
          "height": 517
        }
      },
      "source": [
        "\n",
        "# Load list of points for cluster analysis.\n",
        "#sample = read_sample(FCPS_SAMPLES.SAMPLE_TWO_DIAMONDS)\n",
        "data=pd.read_csv(\"iris.data.csv\")\n",
        "data=data.drop([\"species\",\"x1\"],axis=1)\n",
        "sample=data.values.tolist()\n",
        "#sample=read_sample(\"K:\\iris.data.csv\")\n",
        "\n",
        "# Set random initial medoids.\n",
        "initial_medoids = [1, 50]\n",
        "matrix = calculate_distance_matrix(sample)\n",
        "\n",
        "# Create instance of K-Medoids algorithm.\n",
        "kmedoids_instance = kmedoids(matrix, initial_medoids, data_type='distance_matrix')\n",
        "\n",
        "# run cluster analysis and obtain results\n",
        "kmedoids_instance.process()\n",
        "\n",
        "clusters = kmedoids_instance.get_clusters()\n",
        "medoids = kmedoids_instance.get_medoids()\n",
        "\n",
        "# Show allocated clusters.\n",
        "print(clusters)\n",
        "\n",
        "# Display clusters.\n",
        "visualizer = cluster_visualizer()\n",
        "visualizer.append_clusters(clusters, sample)\n",
        "visualizer.show() "
      ],
      "execution_count": 0,
      "outputs": [
        {
          "output_type": "stream",
          "text": [
            "[[7, 0, 1, 2, 3, 4, 5, 6, 8, 9, 10, 11, 12, 13, 14, 15, 16, 17, 18, 19, 20, 21, 22, 23, 24, 25, 26, 27, 28, 29, 30, 31, 32, 33, 34, 35, 36, 37, 38, 39, 40, 41, 42, 43, 44, 45, 46, 47, 48, 49], [74, 50, 51, 52, 53, 54, 55, 56, 57, 58, 59, 60, 61, 62, 63, 64, 65, 66, 67, 68, 69, 70, 71, 72, 73, 75, 76, 77, 78, 79, 80, 81, 82, 83, 84, 85, 86, 87, 88, 89, 90, 91, 92, 93, 94, 95, 96, 97, 98, 99]]\n"
          ],
          "name": "stdout"
        },
        {
          "output_type": "display_data",
          "data": {
            "image/png": "[encoded data removed]",
            "text/plain": [
              "<Figure size 432x288 with 1 Axes>"
            ]
          },
          "metadata": {
            "tags": []
          }
        },
        {
          "output_type": "execute_result",
          "data": {
            "image/png": "[encoded data removed]",
            "text/plain": [
              "<Figure size 432x288 with 1 Axes>"
            ]
          },
          "metadata": {
            "tags": []
          },
          "execution_count": 7
        }
      ]
    },
    {
      "cell_type": "markdown",
      "metadata": {
        "id": "kGZQh0UZzF9K",
        "colab_type": "text"
      },
      "source": [
        "# Agnes"
      ]
    },
    {
      "cell_type": "code",
      "metadata": {
        "id": "_Y-zCqnE5hdw",
        "colab_type": "code",
        "colab": {}
      },
      "source": [
        "import pandas as pd\n",
        "import numpy as np"
      ],
      "execution_count": 0,
      "outputs": []
    },
    {
      "cell_type": "code",
      "metadata": {
        "id": "SlyabvlPzIBJ",
        "colab_type": "code",
        "colab": {}
      },
      "source": [
        "data=pd.read_csv(\"iris.data.csv\",header=None)\n",
        "data.columns=[\"x1\",\"x2\",\"x3\",\"x4\",\"y\"]\n",
        "data[\"y\"]=data[\"y\"].map({\"Iris-setosa\":0,\"Iris-versicolor\":1,\"Iris-virginica\":2})\n",
        "data[\"x1\"]=pd.to_numeric(data[\"x1\"],errors='coerce')\n",
        "data[\"x2\"]=pd.to_numeric(data[\"x2\"],errors='coerce')\n",
        "data[\"x3\"]=pd.to_numeric(data[\"x3\"],errors='coerce')\n",
        "data[\"x4\"]=pd.to_numeric(data[\"x4\"],errors='coerce')\n",
        "data=data.dropna()"
      ],
      "execution_count": 0,
      "outputs": []
    },
    {
      "cell_type": "code",
      "metadata": {
        "id": "njmJvrKr06VC",
        "colab_type": "code",
        "outputId": "e8f07333-d2e0-46cb-94c4-e169d58eb05f",
        "colab": {
          "base_uri": "https://localhost:8080/",
          "height": 121
        }
      },
      "source": [
        "np.array(data['y'].to_list())"
      ],
      "execution_count": 0,
      "outputs": [
        {
          "output_type": "execute_result",
          "data": {
            "text/plain": [
              "array([0., 0., 0., 0., 0., 0., 0., 0., 0., 0., 0., 0., 0., 0., 0., 0., 0.,\n",
              "       0., 0., 0., 0., 0., 0., 0., 0., 0., 0., 0., 0., 0., 0., 0., 0., 0.,\n",
              "       0., 0., 0., 0., 0., 0., 0., 0., 0., 0., 0., 0., 0., 0., 0., 0., 1.,\n",
              "       1., 1., 1., 1., 1., 1., 1., 1., 1., 1., 1., 1., 1., 1., 1., 1., 1.,\n",
              "       1., 1., 1., 1., 1., 1., 1., 1., 1., 1., 1., 1., 1., 1., 1., 1., 1.,\n",
              "       1., 1., 1., 1., 1., 1., 1., 1., 1., 1., 1., 1., 1., 1., 1.])"
            ]
          },
          "metadata": {
            "tags": []
          },
          "execution_count": 24
        }
      ]
    },
    {
      "cell_type": "code",
      "metadata": {
        "id": "3eCqbi4EzPHv",
        "colab_type": "code",
        "colab": {}
      },
      "source": [
        "from sklearn.cluster import AgglomerativeClustering\n",
        "\n",
        "hc = AgglomerativeClustering(affinity='euclidean', linkage='ward')\n",
        "data=data.drop([\"y\"],axis=1)\n",
        "y_hc = hc.fit_predict(data)"
      ],
      "execution_count": 0,
      "outputs": []
    },
    {
      "cell_type": "code",
      "metadata": {
        "id": "Lm6z9tcZzWU2",
        "colab_type": "code",
        "outputId": "d9faa79e-4d92-4775-bd0a-c6181bee2a8b",
        "colab": {
          "base_uri": "https://localhost:8080/",
          "height": 104
        }
      },
      "source": [
        "y_hc"
      ],
      "execution_count": 0,
      "outputs": [
        {
          "output_type": "execute_result",
          "data": {
            "text/plain": [
              "array([1, 1, 1, 1, 1, 1, 1, 1, 1, 1, 1, 1, 1, 1, 1, 1, 1, 1, 1, 1, 1, 1,\n",
              "       1, 1, 1, 1, 1, 1, 1, 1, 1, 1, 1, 1, 1, 1, 1, 1, 1, 1, 1, 1, 1, 1,\n",
              "       1, 1, 1, 1, 1, 1, 0, 0, 0, 0, 0, 0, 0, 0, 0, 0, 0, 0, 0, 0, 0, 0,\n",
              "       0, 0, 0, 0, 0, 0, 0, 0, 0, 0, 0, 0, 0, 0, 0, 0, 0, 0, 0, 0, 0, 0,\n",
              "       0, 0, 0, 0, 0, 0, 0, 0, 0, 0, 0, 0])"
            ]
          },
          "metadata": {
            "tags": []
          },
          "execution_count": 26
        }
      ]
    },
    {
      "cell_type": "code",
      "metadata": {
        "id": "Ix5IfwzZzXHM",
        "colab_type": "code",
        "outputId": "c3ef2853-030e-4874-e817-fec8e24c275d",
        "colab": {
          "base_uri": "https://localhost:8080/",
          "height": 35
        }
      },
      "source": [
        "len(y_hc)\n"
      ],
      "execution_count": 0,
      "outputs": [
        {
          "output_type": "execute_result",
          "data": {
            "text/plain": [
              "100"
            ]
          },
          "metadata": {
            "tags": []
          },
          "execution_count": 20
        }
      ]
    },
    {
      "cell_type": "code",
      "metadata": {
        "id": "gwZUM2JI0qHP",
        "colab_type": "code",
        "colab": {}
      },
      "source": [
        ""
      ],
      "execution_count": 0,
      "outputs": []
    },
    {
      "cell_type": "markdown",
      "metadata": {
        "id": "NC5muaGrNdwx",
        "colab_type": "text"
      },
      "source": [
        "# Eigen Faces-incomplete"
      ]
    },
    {
      "cell_type": "code",
      "metadata": {
        "id": "WaKemHnpNc9v",
        "colab_type": "code",
        "colab": {}
      },
      "source": [
        "from time import time\n",
        "import logging\n",
        "import matplotlib.pyplot as plt\n",
        "\n",
        "from sklearn.model_selection import train_test_split\n",
        "from sklearn.model_selection import GridSearchCV\n",
        "from sklearn.datasets import fetch_lfw_people\n",
        "from sklearn.metrics import classification_report\n",
        "from sklearn.metrics import confusion_matrix\n",
        "from sklearn.decomposition import PCA\n",
        "from sklearn.svm import SVC\n",
        " \n",
        "#logging.basicConfig(level=logging.INFO, format='%(asctime)s %(message)s')"
      ],
      "execution_count": 0,
      "outputs": []
    },
    {
      "cell_type": "code",
      "metadata": {
        "id": "tal_r-6pNlq8",
        "colab_type": "code",
        "outputId": "1f360c7d-f08d-42ed-fb03-5afa3542f415",
        "colab": {
          "base_uri": "https://localhost:8080/",
          "height": 329
        }
      },
      "source": [
        "lfw_people = fetch_lfw_people(min_faces_per_person=70, resize=0.4)\n",
        "\n",
        "# to find the shapes for plotting, returns no.of samples, height and width\n",
        "n_samples, h, w = lfw_people.images.shape\n",
        "print(h,w)\n",
        "#data is obtained and number of features is found\n",
        "X = lfw_people.data\n",
        "print(\"data set:\",lfw_people.data)\n",
        "print(\"target names:\",lfw_people.target_names)\n",
        "n_features = X.shape[1]\n",
        "\n",
        "# the label to predict is the id of the person\n",
        "y = lfw_people.target\n",
        "target_names = lfw_people.target_names\n",
        "n_classes = target_names.shape[0]\n",
        "\n",
        "print(\"Total dataset size:\")\n",
        "print(\"n_samples: %d\" % n_samples)\n",
        "print(\"n_features: %d\" % n_features)\n",
        "print(\"n_classes: %d\" % n_classes)"
      ],
      "execution_count": 0,
      "outputs": [
        {
          "output_type": "stream",
          "text": [
            "Downloading LFW metadata: https://ndownloader.figshare.com/files/5976012\n",
            "Downloading LFW metadata: https://ndownloader.figshare.com/files/5976009\n",
            "Downloading LFW metadata: https://ndownloader.figshare.com/files/5976006\n",
            "Downloading LFW data (~200MB): https://ndownloader.figshare.com/files/5976015\n"
          ],
          "name": "stderr"
        },
        {
          "output_type": "stream",
          "text": [
            "50 37\n",
            "data set: [[254.       254.       251.66667  ...  87.333336  88.666664  86.666664]\n",
            " [ 39.666668  50.333332  47.       ... 117.666664 115.       133.66667 ]\n",
            " [ 89.333336 104.       126.       ... 175.33333  183.33333  183.      ]\n",
            " ...\n",
            " [ 86.        80.333336  74.666664 ...  44.        49.666668  44.666668]\n",
            " [ 50.333332  65.666664  88.       ... 197.       179.33333  166.33333 ]\n",
            " [ 30.        27.        32.666668 ...  35.        35.333332  61.      ]]\n",
            "target names: ['Ariel Sharon' 'Colin Powell' 'Donald Rumsfeld' 'George W Bush'\n",
            " 'Gerhard Schroeder' 'Hugo Chavez' 'Tony Blair']\n",
            "Total dataset size:\n",
            "n_samples: 1288\n",
            "n_features: 1850\n",
            "n_classes: 7\n"
          ],
          "name": "stdout"
        }
      ]
    },
    {
      "cell_type": "code",
      "metadata": {
        "id": "4J9Wp0qgNur_",
        "colab_type": "code",
        "outputId": "f41067cb-b1ff-42c3-9904-4a7211a0dca9",
        "colab": {
          "base_uri": "https://localhost:8080/",
          "height": 277
        }
      },
      "source": [
        "X_train, X_test, y_train, y_test = train_test_split(X, y, test_size=0.25)\n",
        "n_components = 150\n",
        "\n",
        "print(\"Extracting the top %d eigenfaces from %d faces\"\n",
        "      % (n_components, X_train.shape[1]))\n",
        "\n",
        "pca = PCA(n_components=n_components).fit(X_train)\n",
        "\n",
        "eigenfaces = pca.components_.reshape((n_components, h, w))\n",
        "\n",
        "print(\"Projecting the input data on the eigenfaces orthonormal basis\")\n",
        "\n",
        "X_train_pca = pca.transform(X_train)\n",
        "X_test_pca = pca.transform(X_test)\n",
        "X_train"
      ],
      "execution_count": 0,
      "outputs": [
        {
          "output_type": "stream",
          "text": [
            "Extracting the top 150 eigenfaces from 1850 faces\n",
            "Projecting the input data on the eigenfaces orthonormal basis\n"
          ],
          "name": "stdout"
        },
        {
          "output_type": "execute_result",
          "data": {
            "text/plain": [
              "array([[163.33333 , 148.      , 136.66667 , ..., 217.33333 , 196.66667 ,\n",
              "        164.66667 ],\n",
              "       [ 68.666664,  70.666664,  84.666664, ..., 236.33333 , 239.      ,\n",
              "        237.      ],\n",
              "       [ 75.666664,  63.333332, 107.333336, ..., 204.66667 , 192.33333 ,\n",
              "        142.      ],\n",
              "       ...,\n",
              "       [139.      , 137.33333 , 135.      , ..., 130.66667 , 105.      ,\n",
              "         94.333336],\n",
              "       [ 96.666664,  87.666664,  81.333336, ..., 146.66667 , 148.33333 ,\n",
              "        145.      ],\n",
              "       [ 94.      , 102.      , 110.      , ..., 198.      , 101.      ,\n",
              "         41.666668]], dtype=float32)"
            ]
          },
          "metadata": {
            "tags": []
          },
          "execution_count": 17
        }
      ]
    },
    {
      "cell_type": "code",
      "metadata": {
        "id": "PhzAmqwSNxwX",
        "colab_type": "code",
        "outputId": "fd29852e-6140-4908-d0f0-99a739ed256a",
        "colab": {
          "base_uri": "https://localhost:8080/",
          "height": 176
        }
      },
      "source": [
        "print(\"Fitting the classifier to the training set\")\n",
        "\n",
        "param_grid = {'C': [1e3, 5e3, 1e4, 5e4, 1e5],\n",
        "              'gamma': [0.0001, 0.0005, 0.001, 0.005, 0.01, 0.1], }\n",
        "clf = GridSearchCV(SVC(kernel='rbf', class_weight='balanced'), param_grid)\n",
        "clf = clf.fit(X_train_pca, y_train)\n",
        "print(\"Best estimator found by grid search:\")\n",
        "print(clf.best_estimator_)"
      ],
      "execution_count": 0,
      "outputs": [
        {
          "output_type": "stream",
          "text": [
            "Fitting the classifier to the training set\n"
          ],
          "name": "stdout"
        },
        {
          "output_type": "stream",
          "text": [
            "/usr/local/lib/python3.6/dist-packages/sklearn/model_selection/_split.py:1978: FutureWarning: The default value of cv will change from 3 to 5 in version 0.22. Specify it explicitly to silence this warning.\n",
            "  warnings.warn(CV_WARNING, FutureWarning)\n"
          ],
          "name": "stderr"
        },
        {
          "output_type": "stream",
          "text": [
            "Best estimator found by grid search:\n",
            "SVC(C=1000.0, cache_size=200, class_weight='balanced', coef0=0.0,\n",
            "    decision_function_shape='ovr', degree=3, gamma=0.0001, kernel='rbf',\n",
            "    max_iter=-1, probability=False, random_state=None, shrinking=True,\n",
            "    tol=0.001, verbose=False)\n"
          ],
          "name": "stdout"
        }
      ]
    },
    {
      "cell_type": "code",
      "metadata": {
        "id": "LSiTPN7fOAiS",
        "colab_type": "code",
        "outputId": "88aaf53b-21cf-4e20-898e-7f5b8f8ccc7f",
        "colab": {
          "base_uri": "https://localhost:8080/",
          "height": 471
        }
      },
      "source": [
        "print(\"Predicting people's names on the test set\")\n",
        "y_pred = clf.predict(X_test_pca)\n",
        "from sklearn.metrics import accuracy_score\n",
        "print(accuracy_score(y_pred,y_test))\n",
        "print(classification_report(y_test, y_pred, target_names=target_names))\n",
        "print(confusion_matrix(y_test, y_pred, labels=range(n_classes)))"
      ],
      "execution_count": 0,
      "outputs": [
        {
          "output_type": "stream",
          "text": [
            "Predicting people's names on the test set\n",
            "0.41304347826086957\n",
            "                   precision    recall  f1-score   support\n",
            "\n",
            "     Ariel Sharon       0.00      0.00      0.00        20\n",
            "     Colin Powell       0.00      0.00      0.00        55\n",
            "  Donald Rumsfeld       0.00      0.00      0.00        25\n",
            "    George W Bush       0.41      1.00      0.58       133\n",
            "Gerhard Schroeder       0.00      0.00      0.00        33\n",
            "      Hugo Chavez       0.00      0.00      0.00        17\n",
            "       Tony Blair       0.00      0.00      0.00        39\n",
            "\n",
            "         accuracy                           0.41       322\n",
            "        macro avg       0.06      0.14      0.08       322\n",
            "     weighted avg       0.17      0.41      0.24       322\n",
            "\n",
            "[[  0   0   0  20   0   0   0]\n",
            " [  0   0   0  55   0   0   0]\n",
            " [  0   0   0  25   0   0   0]\n",
            " [  0   0   0 133   0   0   0]\n",
            " [  0   0   0  33   0   0   0]\n",
            " [  0   0   0  17   0   0   0]\n",
            " [  0   0   0  39   0   0   0]]\n"
          ],
          "name": "stdout"
        },
        {
          "output_type": "stream",
          "text": [
            "/usr/local/lib/python3.6/dist-packages/sklearn/metrics/classification.py:1437: UndefinedMetricWarning: Precision and F-score are ill-defined and being set to 0.0 in labels with no predicted samples.\n",
            "  'precision', 'predicted', average, warn_for)\n"
          ],
          "name": "stderr"
        }
      ]
    },
    {
      "cell_type": "code",
      "metadata": {
        "id": "kiJ3Gx18OIbM",
        "colab_type": "code",
        "outputId": "8f92aea3-fd6a-4a29-f306-a4519acecef5",
        "colab": {
          "base_uri": "https://localhost:8080/",
          "height": 1000
        }
      },
      "source": [
        "def plot_gallery(images, titles, h, w, n_row=3, n_col=4):\n",
        "    \"\"\"Helper function to plot a gallery of portraits\"\"\"\n",
        "    plt.figure(figsize=(1.8 * n_col, 2.4 * n_row))\n",
        "    plt.subplots_adjust(bottom=0, \n",
        "                        left=.01, right=.99, top=.90, hspace=.35)\n",
        "    for i in range(n_row * n_col):\n",
        "        plt.subplot(n_row, n_col, i + 1)\n",
        "        plt.imshow(images[i].reshape((h, w)), cmap=plt.cm.gray)\n",
        "        plt.title(titles[i], size=12)\n",
        "        plt.xticks(())\n",
        "        plt.yticks(())\n",
        "\n",
        "\n",
        "# plot the result of the prediction on a portion of the test set\n",
        "\n",
        "def title(y_pred, y_test, target_names, i):\n",
        "    pred_name = target_names[y_pred[i]].rsplit(' ', 1)[-1]\n",
        "    true_name = target_names[y_test[i]].rsplit(' ', 1)[-1]\n",
        "    return 'predicted: %s\\ntrue:      %s' % (pred_name, true_name)\n",
        "\n",
        "prediction_titles = [title(y_pred, y_test, target_names, i)\n",
        "                     for i in range(y_pred.shape[0])]\n",
        "\n",
        "plot_gallery(X_test, prediction_titles, h, w)\n",
        "\n",
        "# plot the gallery of the most significative eigenfaces\n",
        "\n",
        "eigenface_titles = [\"eigenface %d\" % i for i in range(eigenfaces.shape[0])]\n",
        "plot_gallery(eigenfaces, eigenface_titles, h, w)\n",
        "\n",
        "plt.show()"
      ],
      "execution_count": 0,
      "outputs": [
        {
          "output_type": "display_data",
          "data": {
            "image/png": "[encoded data removed]",
            "text/plain": [
              "<Figure size 518.4x518.4 with 12 Axes>"
            ]
          },
          "metadata": {
            "tags": []
          }
        },
        {
          "output_type": "display_data",
          "data": {
            "image/png": "[encoded data removed]",
            "text/plain": [
              "<Figure size 518.4x518.4 with 12 Axes>"
            ]
          },
          "metadata": {
            "tags": []
          }
        }
      ]
    },
    {
      "cell_type": "code",
      "metadata": {
        "id": "qsdLMAuW17QJ",
        "colab_type": "code",
        "outputId": "6e4458ef-3d5a-46ab-c366-6230ddf07799",
        "colab": {
          "base_uri": "https://localhost:8080/",
          "height": 35
        }
      },
      "source": [
        "import numpy as np\n",
        "np.array([1,2,3]).reshape(1,-1)"
      ],
      "execution_count": 0,
      "outputs": [
        {
          "output_type": "execute_result",
          "data": {
            "text/plain": [
              "array([[1, 2, 3]])"
            ]
          },
          "metadata": {
            "tags": []
          },
          "execution_count": 2
        }
      ]
    },
    {
      "cell_type": "code",
      "metadata": {
        "id": "H1G-qpCw1-pb",
        "colab_type": "code",
        "colab": {}
      },
      "source": [
        ""
      ],
      "execution_count": 0,
      "outputs": []
    }
  ]
}
