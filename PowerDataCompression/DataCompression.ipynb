{
  "nbformat": 4,
  "nbformat_minor": 0,
  "metadata": {
    "colab": {
      "name": "DataCompression.ipynb",
      "provenance": [],
      "toc_visible": true
    },
    "kernelspec": {
      "name": "python3",
      "display_name": "Python 3"
    }
  },
  "cells": [
    {
      "cell_type": "code",
      "metadata": {
        "id": "COZgOsRO-F-h",
        "colab_type": "code",
        "colab": {}
      },
      "source": [
        "import pandas as pd\n",
        "import numpy as np"
      ],
      "execution_count": 0,
      "outputs": []
    },
    {
      "cell_type": "code",
      "metadata": {
        "id": "aoO1FSY2-VFf",
        "colab_type": "code",
        "outputId": "a250bfc7-0f7e-4d3b-d7ba-d4ce69dc06c8",
        "colab": {
          "base_uri": "https://localhost:8080/",
          "height": 202
        }
      },
      "source": [
        "#frequency and bus voltage from Load Dispatch Centre on 12th Oct 2019\n",
        "data=pd.read_csv('data.txt')\n",
        "data.head()"
      ],
      "execution_count": 0,
      "outputs": [
        {
          "output_type": "execute_result",
          "data": {
            "text/html": [
              "<div>\n",
              "<style scoped>\n",
              "    .dataframe tbody tr th:only-of-type {\n",
              "        vertical-align: middle;\n",
              "    }\n",
              "\n",
              "    .dataframe tbody tr th {\n",
              "        vertical-align: top;\n",
              "    }\n",
              "\n",
              "    .dataframe thead th {\n",
              "        text-align: right;\n",
              "    }\n",
              "</style>\n",
              "<table border=\"1\" class=\"dataframe\">\n",
              "  <thead>\n",
              "    <tr style=\"text-align: right;\">\n",
              "      <th></th>\n",
              "      <th>frequency</th>\n",
              "      <th>busVoltage</th>\n",
              "    </tr>\n",
              "  </thead>\n",
              "  <tbody>\n",
              "    <tr>\n",
              "      <th>0</th>\n",
              "      <td>50.01</td>\n",
              "      <td>11.7</td>\n",
              "    </tr>\n",
              "    <tr>\n",
              "      <th>1</th>\n",
              "      <td>50.01</td>\n",
              "      <td>11.7</td>\n",
              "    </tr>\n",
              "    <tr>\n",
              "      <th>2</th>\n",
              "      <td>50.01</td>\n",
              "      <td>11.8</td>\n",
              "    </tr>\n",
              "    <tr>\n",
              "      <th>3</th>\n",
              "      <td>50.03</td>\n",
              "      <td>11.8</td>\n",
              "    </tr>\n",
              "    <tr>\n",
              "      <th>4</th>\n",
              "      <td>50.03</td>\n",
              "      <td>11.8</td>\n",
              "    </tr>\n",
              "  </tbody>\n",
              "</table>\n",
              "</div>"
            ],
            "text/plain": [
              "   frequency  busVoltage\n",
              "0      50.01        11.7\n",
              "1      50.01        11.7\n",
              "2      50.01        11.8\n",
              "3      50.03        11.8\n",
              "4      50.03        11.8"
            ]
          },
          "metadata": {
            "tags": []
          },
          "execution_count": 2
        }
      ]
    },
    {
      "cell_type": "markdown",
      "metadata": {
        "id": "XlS5vWw8AO_t",
        "colab_type": "text"
      },
      "source": [
        "#RLDA"
      ]
    },
    {
      "cell_type": "markdown",
      "metadata": {
        "id": "H7kP7tVyDLy9",
        "colab_type": "text"
      },
      "source": [
        "## Signed Exponential Golomb Code"
      ]
    },
    {
      "cell_type": "code",
      "metadata": {
        "id": "HDZDFWFdDvKJ",
        "colab_type": "code",
        "colab": {}
      },
      "source": [
        "#where the order is zero\n",
        "def SEGC(n):\n",
        "  n=-2*n if n<=0 else 2*n-1\n",
        "  n=bin(n+1)[2:]\n",
        "  return '0'*(len(n)-1)+n"
      ],
      "execution_count": 0,
      "outputs": []
    },
    {
      "cell_type": "code",
      "metadata": {
        "id": "OVUSic85pamA",
        "colab_type": "code",
        "colab": {}
      },
      "source": [
        "def SEGC_decode(code):\n",
        "  cnt, i, ret = 0, 0, []\n",
        "  while i<len(code):\n",
        "    if code[i]=='0':\n",
        "      cnt+=1\n",
        "      i+=1\n",
        "    else:\n",
        "      x = int(code[i:i+cnt+1],2)\n",
        "      x-=1\n",
        "      x = -x//2 if x%2==0 else (x+1)//2\n",
        "      ret.append(x)\n",
        "      i+=cnt+1\n",
        "      cnt = 0\n",
        "  return ret"
      ],
      "execution_count": 0,
      "outputs": []
    },
    {
      "cell_type": "markdown",
      "metadata": {
        "id": "htvylIuxXnWN",
        "colab_type": "text"
      },
      "source": [
        "##Arithmetic Coding"
      ]
    },
    {
      "cell_type": "code",
      "metadata": {
        "id": "0-BCjk6WXmXA",
        "colab_type": "code",
        "colab": {}
      },
      "source": [
        "def AE(string):\n",
        "  \n",
        "  a = ['','0','1']\n",
        "  f = [0,string.count('0'),string.count('1')]\n",
        "  cf = [f[1]+f[2],f[2],0]\n",
        "  \n",
        "  ret = ''\n",
        "  \n",
        "  low, high = 0, 9999\n",
        "  for x in string:\n",
        "    i = a.index(x)\n",
        "    \n",
        "    nlow = int(low+(high-low+1)*cf[i]/cf[0])\n",
        "    nhigh = int(low+(high-low+1)*cf[i-1]/cf[0] -1)\n",
        "    \n",
        "    while int(nlow/1000) == int(nhigh/1000):\n",
        "      ret+=str(int(nlow/1000))\n",
        "      nlow = (int(nlow%1000))*10\n",
        "      nhigh = (int(nhigh%1000))*10+9\n",
        "    low = nlow\n",
        "    high = nhigh\n",
        "    \n",
        "  ret+=str(low)\n",
        "  \n",
        "  return ret, f"
      ],
      "execution_count": 0,
      "outputs": []
    },
    {
      "cell_type": "code",
      "metadata": {
        "id": "LKBPZc-MZONm",
        "colab_type": "code",
        "colab": {}
      },
      "source": [
        "def AD(string,f):\n",
        "  a = ['','0','1']\n",
        "  cf = [f[1]+f[2],f[2],0]\n",
        "  \n",
        "  ret = ''\n",
        "  \n",
        "  low, high, code = 0, 9999, int(string[:4])\n",
        "  string = string[4:]\n",
        "  \n",
        "  while code!=low:\n",
        "    #print(low,high,code,ret)\n",
        "    index = int( ((code-low+1)*cf[0]-1) / (high-low+1) )\n",
        "    k = 0\n",
        "    while cf[k]>index:\n",
        "      k+=1\n",
        "    ret+=a[k]\n",
        "    \n",
        "    nlow = int(low+(high-low+1)*cf[k]/cf[0])\n",
        "    nhigh = int(low+(high-low+1)*cf[k-1]/cf[0] -1)\n",
        "    #print(nlow,nhigh,code,ret)\n",
        "    \n",
        "    while int(nlow/1000) == int(nhigh/1000):\n",
        "      nlow = (int(nlow%1000))*10\n",
        "      nhigh = (int(nhigh%1000))*10+9\n",
        "      code = (int(code%1000))*10 + int(string[0])\n",
        "      string = string[1:]\n",
        "    \n",
        "    low = nlow\n",
        "    high = nhigh\n",
        "  \n",
        "  return ret\n",
        "    "
      ],
      "execution_count": 0,
      "outputs": []
    },
    {
      "cell_type": "markdown",
      "metadata": {
        "id": "ruOKlUUdHcHZ",
        "colab_type": "text"
      },
      "source": [
        "## Encoding"
      ]
    },
    {
      "cell_type": "code",
      "metadata": {
        "id": "ZWew99lrKY62",
        "colab_type": "code",
        "colab": {}
      },
      "source": [
        "def differentialArray(freq):\n",
        "  diff = [freq[0]]\n",
        "  for i in range(1,len(freq)):\n",
        "    diff.append(freq[i]-freq[i-1])\n",
        "  return np.array(diff)"
      ],
      "execution_count": 0,
      "outputs": []
    },
    {
      "cell_type": "code",
      "metadata": {
        "id": "-KRpzZwmADCW",
        "colab_type": "code",
        "outputId": "3c7a6a2c-d635-4f23-b9bc-ff0e8a57e2d9",
        "colab": {
          "base_uri": "https://localhost:8080/",
          "height": 69
        }
      },
      "source": [
        "# Resumable Load Data compression Algorithm\n",
        "freq = data.frequency\n",
        "np.array(freq)"
      ],
      "execution_count": 0,
      "outputs": [
        {
          "output_type": "execute_result",
          "data": {
            "text/plain": [
              "array([50.01, 50.01, 50.01, 50.03, 50.03, 50.06, 50.11, 50.11, 50.12,\n",
              "       50.07, 50.03, 49.99, 49.99, 49.99, 49.97, 49.91, 50.  , 49.98,\n",
              "       49.92, 49.98, 50.02, 49.98, 49.99, 50.  , 50.01])"
            ]
          },
          "metadata": {
            "tags": []
          },
          "execution_count": 8
        }
      ]
    },
    {
      "cell_type": "code",
      "metadata": {
        "id": "Jy1zJtlMCNc8",
        "colab_type": "code",
        "outputId": "f6543b0e-a002-48a3-fa94-6918023aa2f0",
        "colab": {
          "base_uri": "https://localhost:8080/",
          "height": 69
        }
      },
      "source": [
        "# Normalise\n",
        "freq = freq*100\n",
        "freq = freq.astype(int)\n",
        "freq = np.array(freq)\n",
        "freq"
      ],
      "execution_count": 0,
      "outputs": [
        {
          "output_type": "execute_result",
          "data": {
            "text/plain": [
              "array([5001, 5001, 5001, 5003, 5003, 5006, 5011, 5011, 5012, 5007, 5003,\n",
              "       4999, 4999, 4999, 4997, 4991, 5000, 4998, 4992, 4998, 5002, 4998,\n",
              "       4999, 5000, 5001])"
            ]
          },
          "metadata": {
            "tags": []
          },
          "execution_count": 9
        }
      ]
    },
    {
      "cell_type": "code",
      "metadata": {
        "id": "nvx_fcyzO0Iu",
        "colab_type": "code",
        "outputId": "92f1a9cc-2841-461b-9ffe-162cda15a04a",
        "colab": {
          "base_uri": "https://localhost:8080/",
          "height": 69
        }
      },
      "source": [
        "# Value -> Differential array\n",
        "diff = differentialArray(freq)\n",
        "diff"
      ],
      "execution_count": 0,
      "outputs": [
        {
          "output_type": "execute_result",
          "data": {
            "text/plain": [
              "array([5001,    0,    0,    2,    0,    3,    5,    0,    1,   -5,   -4,\n",
              "         -4,    0,    0,   -2,   -6,    9,   -2,   -6,    6,    4,   -4,\n",
              "          1,    1,    1])"
            ]
          },
          "metadata": {
            "tags": []
          },
          "execution_count": 10
        }
      ]
    },
    {
      "cell_type": "code",
      "metadata": {
        "id": "axBre9KpBfWP",
        "colab_type": "code",
        "outputId": "9bc2cba0-6706-48d2-f2c3-3cf6788637f8",
        "colab": {
          "base_uri": "https://localhost:8080/",
          "height": 55
        }
      },
      "source": [
        "# Differential array -> Variable length coding\n",
        "code = ''\n",
        "for i in diff:\n",
        "  code += SEGC(i)\n",
        "code"
      ],
      "execution_count": 0,
      "outputs": [
        {
          "output_type": "execute_result",
          "data": {
            "text/plain": [
              "'00000000000001001110001001011001001001100001010101000010110001001000100111001010001101000010010001010001101000110000010000001001010010010'"
            ]
          },
          "metadata": {
            "tags": []
          },
          "execution_count": 11
        }
      ]
    },
    {
      "cell_type": "code",
      "metadata": {
        "id": "aQINB9V-O8-D",
        "colab_type": "code",
        "outputId": "5c420f8d-5410-40c9-820f-a0d42e951e06",
        "colab": {
          "base_uri": "https://localhost:8080/",
          "height": 35
        }
      },
      "source": [
        "# Arithmetic coding\n",
        "output, f = AE(code)\n",
        "output"
      ],
      "execution_count": 0,
      "outputs": [
        {
          "output_type": "execute_result",
          "data": {
            "text/plain": [
              "'99538039332468447852156781403854921343224'"
            ]
          },
          "metadata": {
            "tags": []
          },
          "execution_count": 12
        }
      ]
    },
    {
      "cell_type": "code",
      "metadata": {
        "id": "8qEOBYHoLMsw",
        "colab_type": "code",
        "outputId": "3b68824f-d315-454e-97a2-f6a626e68f88",
        "colab": {
          "base_uri": "https://localhost:8080/",
          "height": 69
        }
      },
      "source": [
        "print('Original :', 24*4, 'bytes')\n",
        "print('Compressed :', len(output), 'bytes')\n",
        "print('CR :', (96-len(output))/96*100,'%')"
      ],
      "execution_count": 0,
      "outputs": [
        {
          "output_type": "stream",
          "text": [
            "Original : 96 bytes\n",
            "Compressed : 41 bytes\n",
            "CR : 57.291666666666664 %\n"
          ],
          "name": "stdout"
        }
      ]
    },
    {
      "cell_type": "markdown",
      "metadata": {
        "id": "CVQ5hMk8KduN",
        "colab_type": "text"
      },
      "source": [
        "## Decoding"
      ]
    },
    {
      "cell_type": "code",
      "metadata": {
        "id": "q-ZoJLAxGViv",
        "colab_type": "code",
        "colab": {}
      },
      "source": [
        "def diffToArray(diff):\n",
        "  a = [diff[0]]\n",
        "  for i in range(1,len(diff)):\n",
        "    a.append(a[i-1]+diff[i])\n",
        "  return np.array(a)"
      ],
      "execution_count": 0,
      "outputs": []
    },
    {
      "cell_type": "code",
      "metadata": {
        "id": "-XWhMrQLPRHu",
        "colab_type": "code",
        "colab": {}
      },
      "source": [
        "# Arithmetic decoding\n",
        "code = AD(output,f)"
      ],
      "execution_count": 0,
      "outputs": []
    },
    {
      "cell_type": "code",
      "metadata": {
        "id": "vwvdSizdP-71",
        "colab_type": "code",
        "outputId": "0de5433b-9f96-4bba-d723-ae44f4ce026c",
        "colab": {
          "base_uri": "https://localhost:8080/",
          "height": 69
        }
      },
      "source": [
        "# Variable length code -> Differential array\n",
        "diff = SEGC_decode(code)\n",
        "np.array(diff)"
      ],
      "execution_count": 0,
      "outputs": [
        {
          "output_type": "execute_result",
          "data": {
            "text/plain": [
              "array([5001,    0,    0,    2,    0,    3,    5,    0,    1,   -5,   -4,\n",
              "         -4,    0,    0,   -2,   -6,    9,   -2,   -6,    6,    4,   -4,\n",
              "          1,    1,    1])"
            ]
          },
          "metadata": {
            "tags": []
          },
          "execution_count": 16
        }
      ]
    },
    {
      "cell_type": "code",
      "metadata": {
        "id": "c1SQsAYttIP1",
        "colab_type": "code",
        "outputId": "247a60f6-ea47-46da-d446-f6d53bd6a53d",
        "colab": {
          "base_uri": "https://localhost:8080/",
          "height": 69
        }
      },
      "source": [
        "# Differential array -> Value\n",
        "a = diffToArray(diff)\n",
        "a"
      ],
      "execution_count": 0,
      "outputs": [
        {
          "output_type": "execute_result",
          "data": {
            "text/plain": [
              "array([5001, 5001, 5001, 5003, 5003, 5006, 5011, 5011, 5012, 5007, 5003,\n",
              "       4999, 4999, 4999, 4997, 4991, 5000, 4998, 4992, 4998, 5002, 4998,\n",
              "       4999, 5000, 5001])"
            ]
          },
          "metadata": {
            "tags": []
          },
          "execution_count": 17
        }
      ]
    },
    {
      "cell_type": "code",
      "metadata": {
        "id": "Iv8889eOtgcb",
        "colab_type": "code",
        "outputId": "2ca8582d-281d-4c37-84f4-e040789a31cd",
        "colab": {
          "base_uri": "https://localhost:8080/",
          "height": 69
        }
      },
      "source": [
        "# Removing normalization\n",
        "a = a/100\n",
        "a"
      ],
      "execution_count": 0,
      "outputs": [
        {
          "output_type": "execute_result",
          "data": {
            "text/plain": [
              "array([50.01, 50.01, 50.01, 50.03, 50.03, 50.06, 50.11, 50.11, 50.12,\n",
              "       50.07, 50.03, 49.99, 49.99, 49.99, 49.97, 49.91, 50.  , 49.98,\n",
              "       49.92, 49.98, 50.02, 49.98, 49.99, 50.  , 50.01])"
            ]
          },
          "metadata": {
            "tags": []
          },
          "execution_count": 18
        }
      ]
    },
    {
      "cell_type": "markdown",
      "metadata": {
        "id": "c19yxKE0tzka",
        "colab_type": "text"
      },
      "source": [
        "# DBEA"
      ]
    },
    {
      "cell_type": "markdown",
      "metadata": {
        "id": "gzbivh5a_8G_",
        "colab_type": "text"
      },
      "source": [
        "## Encoding"
      ]
    },
    {
      "cell_type": "code",
      "metadata": {
        "id": "NuLWy67suomL",
        "colab_type": "code",
        "colab": {}
      },
      "source": [
        "def differentialArray(freq):\n",
        "  diff = [freq[0]]\n",
        "  for i in range(1,len(freq)):\n",
        "    diff.append(freq[i]-freq[i-1])\n",
        "  return np.array(diff)"
      ],
      "execution_count": 0,
      "outputs": []
    },
    {
      "cell_type": "code",
      "metadata": {
        "id": "LQojgr8ruwV1",
        "colab_type": "code",
        "colab": {}
      },
      "source": [
        "def zeroCountBinaryEncoding(diff):\n",
        "  string = ''\n",
        "  code = bin(diff[0])[2:]\n",
        "  while len(code)<16:\n",
        "    code = '0'+code\n",
        "  string+=code\n",
        "\n",
        "  cnt=0\n",
        "  for i in range(1, len(diff)):\n",
        "    if diff[i]==0:\n",
        "      cnt+=1\n",
        "    else:\n",
        "      if cnt!=0:\n",
        "        code = bin(cnt)[2:]\n",
        "        while len(code)<8:\n",
        "          code = '0'+code\n",
        "        string+=code\n",
        "        cnt = 0\n",
        "      if diff[i]>0:\n",
        "        code = bin(diff[i])[2:]\n",
        "        while len(code)<6:\n",
        "          code = '0'+code\n",
        "        code = '10'+code\n",
        "        string+=code\n",
        "      elif diff[i]<0:\n",
        "        code = bin(-diff[i])[2:]\n",
        "        while len(code)<6:\n",
        "          code = '0'+code\n",
        "        code = '11'+code\n",
        "        string+=code\n",
        "\n",
        "  return string"
      ],
      "execution_count": 0,
      "outputs": []
    },
    {
      "cell_type": "code",
      "metadata": {
        "id": "yY6iIhXY6xos",
        "colab_type": "code",
        "colab": {}
      },
      "source": [
        "def binaryToString(code):\n",
        "  string = ''\n",
        "  while len(code)>0:\n",
        "    string+=chr(int(code[:8],2))\n",
        "    code = code[8:]\n",
        "  return string"
      ],
      "execution_count": 0,
      "outputs": []
    },
    {
      "cell_type": "code",
      "metadata": {
        "id": "grtlYpCotqPc",
        "colab_type": "code",
        "outputId": "8ae322c8-c72d-40b4-e381-4ff466f412b6",
        "colab": {
          "base_uri": "https://localhost:8080/",
          "height": 69
        }
      },
      "source": [
        "freq = data.frequency\n",
        "np.array(freq)"
      ],
      "execution_count": 0,
      "outputs": [
        {
          "output_type": "execute_result",
          "data": {
            "text/plain": [
              "array([50.01, 50.01, 50.01, 50.03, 50.03, 50.06, 50.11, 50.11, 50.12,\n",
              "       50.07, 50.03, 49.99, 49.99, 49.99, 49.97, 49.91, 50.  , 49.98,\n",
              "       49.92, 49.98, 50.02, 49.98, 49.99, 50.  , 50.01])"
            ]
          },
          "metadata": {
            "tags": []
          },
          "execution_count": 22
        }
      ]
    },
    {
      "cell_type": "code",
      "metadata": {
        "id": "IusuoSP4t-da",
        "colab_type": "code",
        "outputId": "5ac31df5-6004-45d4-a313-e80edcb79f50",
        "colab": {
          "base_uri": "https://localhost:8080/",
          "height": 69
        }
      },
      "source": [
        "# Normalise\n",
        "freq = freq*100\n",
        "freq = freq.astype(int)\n",
        "freq = np.array(freq)\n",
        "freq"
      ],
      "execution_count": 0,
      "outputs": [
        {
          "output_type": "execute_result",
          "data": {
            "text/plain": [
              "array([5001, 5001, 5001, 5003, 5003, 5006, 5011, 5011, 5012, 5007, 5003,\n",
              "       4999, 4999, 4999, 4997, 4991, 5000, 4998, 4992, 4998, 5002, 4998,\n",
              "       4999, 5000, 5001])"
            ]
          },
          "metadata": {
            "tags": []
          },
          "execution_count": 23
        }
      ]
    },
    {
      "cell_type": "code",
      "metadata": {
        "id": "tri2dTmyuubm",
        "colab_type": "code",
        "outputId": "ecbc07f3-5522-4323-a6e9-fddcc7e11880",
        "colab": {
          "base_uri": "https://localhost:8080/",
          "height": 69
        }
      },
      "source": [
        "# Value -> Differential array\n",
        "diff = differentialArray(freq)\n",
        "diff"
      ],
      "execution_count": 0,
      "outputs": [
        {
          "output_type": "execute_result",
          "data": {
            "text/plain": [
              "array([5001,    0,    0,    2,    0,    3,    5,    0,    1,   -5,   -4,\n",
              "         -4,    0,    0,   -2,   -6,    9,   -2,   -6,    6,    4,   -4,\n",
              "          1,    1,    1])"
            ]
          },
          "metadata": {
            "tags": []
          },
          "execution_count": 24
        }
      ]
    },
    {
      "cell_type": "code",
      "metadata": {
        "id": "zlMcnPYTzS-C",
        "colab_type": "code",
        "outputId": "602434c2-44b4-4620-f8b3-b5355fa651d3",
        "colab": {
          "base_uri": "https://localhost:8080/",
          "height": 55
        }
      },
      "source": [
        "# Zero counts and Binary Encoding\n",
        "code = zeroCountBinaryEncoding(diff)\n",
        "code"
      ],
      "execution_count": 0,
      "outputs": [
        {
          "output_type": "execute_result",
          "data": {
            "text/plain": [
              "'000100111000100100000010100000100000000110000011100001010000000110000001110001011100010011000100000000101100001011000110100010011100001011000110100001101000010011000100100000011000000110000001'"
            ]
          },
          "metadata": {
            "tags": []
          },
          "execution_count": 25
        }
      ]
    },
    {
      "cell_type": "code",
      "metadata": {
        "id": "FDRGk3yX7Vyn",
        "colab_type": "code",
        "outputId": "fade8481-63d1-4ec9-8d71-3b4fc2e3c342",
        "colab": {
          "base_uri": "https://localhost:8080/",
          "height": 35
        }
      },
      "source": [
        "# Binary -> Text\n",
        "string = binaryToString(code)\n",
        "string\n"
      ],
      "execution_count": 0,
      "outputs": [
        {
          "output_type": "execute_result",
          "data": {
            "text/plain": [
              "'\\x13\\x89\\x02\\x82\\x01\\x83\\x85\\x01\\x81ÅÄÄ\\x02ÂÆ\\x89ÂÆ\\x86\\x84Ä\\x81\\x81\\x81'"
            ]
          },
          "metadata": {
            "tags": []
          },
          "execution_count": 26
        }
      ]
    },
    {
      "cell_type": "code",
      "metadata": {
        "id": "IMfjwWu3JDQe",
        "colab_type": "code",
        "outputId": "615799dc-ad44-4bf5-e800-adc7aea227e3",
        "colab": {
          "base_uri": "https://localhost:8080/",
          "height": 69
        }
      },
      "source": [
        "print('Original :', 24*4, 'bytes')\n",
        "print('Compressed :', len(string), 'bytes')\n",
        "print('CR :', (96-len(string))/96*100,'%')"
      ],
      "execution_count": 0,
      "outputs": [
        {
          "output_type": "stream",
          "text": [
            "Original : 96 bytes\n",
            "Compressed : 24 bytes\n",
            "CR : 75.0 %\n"
          ],
          "name": "stdout"
        }
      ]
    },
    {
      "cell_type": "markdown",
      "metadata": {
        "id": "vL8_asGD_46l",
        "colab_type": "text"
      },
      "source": [
        "## Decoding"
      ]
    },
    {
      "cell_type": "code",
      "metadata": {
        "id": "J98Y5w1uBbT0",
        "colab_type": "code",
        "colab": {}
      },
      "source": [
        "def StringToDiff(string):\n",
        "  diff = []\n",
        "  temp = ord(string[0])*256 + ord(string[1])\n",
        "  string = string[2:]\n",
        "  diff.append(temp)\n",
        "  while len(string)>0:\n",
        "    temp = ord(string[0])    \n",
        "    string = string[1:]\n",
        "    if temp < 128:\n",
        "      while temp>0:\n",
        "        diff.append(0)\n",
        "        temp-=1\n",
        "    elif temp >= 192:\n",
        "      temp = 192-temp\n",
        "      diff.append(temp)\n",
        "    else:\n",
        "      temp = temp-128\n",
        "      diff.append(temp)\n",
        "  return diff"
      ],
      "execution_count": 0,
      "outputs": []
    },
    {
      "cell_type": "code",
      "metadata": {
        "id": "zfqtPHfiDmKP",
        "colab_type": "code",
        "colab": {}
      },
      "source": [
        "def diffToArray(diff):\n",
        "  a = [diff[0]]\n",
        "  for i in range(1,len(diff)):\n",
        "    a.append(a[i-1]+diff[i])\n",
        "  return np.array(a)"
      ],
      "execution_count": 0,
      "outputs": []
    },
    {
      "cell_type": "code",
      "metadata": {
        "id": "OP8BApco8vHE",
        "colab_type": "code",
        "outputId": "0cf6f64c-8ece-4bd2-a332-28fe5fe19c2e",
        "colab": {
          "base_uri": "https://localhost:8080/",
          "height": 69
        }
      },
      "source": [
        "# String -> ASCII -> Differential Array\n",
        "diff = StringToDiff(string)\n",
        "np.array(diff)"
      ],
      "execution_count": 0,
      "outputs": [
        {
          "output_type": "execute_result",
          "data": {
            "text/plain": [
              "array([5001,    0,    0,    2,    0,    3,    5,    0,    1,   -5,   -4,\n",
              "         -4,    0,    0,   -2,   -6,    9,   -2,   -6,    6,    4,   -4,\n",
              "          1,    1,    1])"
            ]
          },
          "metadata": {
            "tags": []
          },
          "execution_count": 30
        }
      ]
    },
    {
      "cell_type": "code",
      "metadata": {
        "id": "TmZd4DdqE_YR",
        "colab_type": "code",
        "outputId": "3de15840-2ef5-4b6c-f87e-1c9f39a6e01c",
        "colab": {
          "base_uri": "https://localhost:8080/",
          "height": 69
        }
      },
      "source": [
        "# Differential Array -> Value\n",
        "a = diffToArray(diff)\n",
        "a"
      ],
      "execution_count": 0,
      "outputs": [
        {
          "output_type": "execute_result",
          "data": {
            "text/plain": [
              "array([5001, 5001, 5001, 5003, 5003, 5006, 5011, 5011, 5012, 5007, 5003,\n",
              "       4999, 4999, 4999, 4997, 4991, 5000, 4998, 4992, 4998, 5002, 4998,\n",
              "       4999, 5000, 5001])"
            ]
          },
          "metadata": {
            "tags": []
          },
          "execution_count": 31
        }
      ]
    },
    {
      "cell_type": "code",
      "metadata": {
        "id": "RqmUsnnTFBuE",
        "colab_type": "code",
        "outputId": "d9922d66-762d-46ea-ce6a-d14db808f00c",
        "colab": {
          "base_uri": "https://localhost:8080/",
          "height": 69
        }
      },
      "source": [
        "# Removing Normalization\n",
        "a = a/100\n",
        "a"
      ],
      "execution_count": 0,
      "outputs": [
        {
          "output_type": "execute_result",
          "data": {
            "text/plain": [
              "array([50.01, 50.01, 50.01, 50.03, 50.03, 50.06, 50.11, 50.11, 50.12,\n",
              "       50.07, 50.03, 49.99, 49.99, 49.99, 49.97, 49.91, 50.  , 49.98,\n",
              "       49.92, 49.98, 50.02, 49.98, 49.99, 50.  , 50.01])"
            ]
          },
          "metadata": {
            "tags": []
          },
          "execution_count": 32
        }
      ]
    },
    {
      "cell_type": "markdown",
      "metadata": {
        "id": "2UN0BUA0I21H",
        "colab_type": "text"
      },
      "source": [
        "# Adaptive Arithmetic Encoding"
      ]
    },
    {
      "cell_type": "code",
      "metadata": {
        "id": "IDHQnP9iNery",
        "colab_type": "code",
        "colab": {}
      },
      "source": [
        "def cumFreq(f,cf):\n",
        "  i=len(f)-1\n",
        "  while i>0:\n",
        "    cf[i-1]=cf[i]+f[i]\n",
        "    i-=1\n",
        "  return cf"
      ],
      "execution_count": 0,
      "outputs": []
    },
    {
      "cell_type": "code",
      "metadata": {
        "id": "_6pXIQ3AI_J9",
        "colab_type": "code",
        "colab": {}
      },
      "source": [
        "def AAE(string):\n",
        "  n=8\n",
        "  \n",
        "  a  = ['', '0', '1']\n",
        "  f  = [0, 1, 1]\n",
        "  cf = [2, 1, 0]\n",
        "  \n",
        "  ret=''\n",
        "  \n",
        "  low, high = 0, 255\n",
        "  for x in string:\n",
        "    i=a.index(x)\n",
        "    \n",
        "    nlow = int(low+(high-low+1)*cf[i]/cf[0])\n",
        "    nhigh = int(low+(high-low+1)*cf[i-1]/cf[0])\n",
        "    \n",
        "    wcnt=0\n",
        "    while True:\n",
        "      \n",
        "      while (nlow & 0x80)==(nhigh & 0x80):\n",
        "        if nlow & 0x80 == 0:\n",
        "          ret+='1'*wcnt\n",
        "          wcnt=0\n",
        "        else:\n",
        "          ret+='0'*wcnt\n",
        "          wcnt=0\n",
        "        nlow=(nlow*2)%256\n",
        "        nhigh=(nhigh*2+1)%256\n",
        "        \n",
        "      while nhigh-nlow<cf[0]:\n",
        "        nlow = 2*(nlow-2**(n-2))%256\n",
        "        nhigh = (2*(nhigh-2**(n-2))+1)%256\n",
        "        wcnt+=1\n",
        "      \n",
        "      if (nlow & 0x80)!=(nhigh & 0x80):break\n",
        "    low=nlow\n",
        "    high=nhigh\n",
        "    f[i]+=1\n",
        "    \n",
        "    if f[1]>f[2]:\n",
        "      f[1],f[2]=f[2],f[1]\n",
        "      a[1],a[2]=a[2],a[1]\n",
        "    cf=cumFreq(f,cf)\n",
        "  \n",
        "  low=\n",
        "  return ret\n",
        "          "
      ],
      "execution_count": 0,
      "outputs": []
    }
  ]
}
